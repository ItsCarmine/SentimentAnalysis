{
 "cells": [
  {
   "cell_type": "code",
   "execution_count": 63,
   "id": "1064fbe0",
   "metadata": {},
   "outputs": [
    {
     "name": "stdout",
     "output_type": "stream",
     "text": [
      "['IMDB Dataset.csv']\n"
     ]
    }
   ],
   "source": [
    "#Load the libraries\n",
    "import numpy as np\n",
    "import pandas as pd\n",
    "import matplotlib.pyplot as plt\n",
    "import nltk\n",
    "from sklearn.feature_extraction.text import CountVectorizer\n",
    "from sklearn.feature_extraction.text import TfidfVectorizer\n",
    "from sklearn.preprocessing import LabelBinarizer\n",
    "from nltk.corpus import stopwords\n",
    "from nltk.stem.porter import PorterStemmer\n",
    "from wordcloud import WordCloud,STOPWORDS\n",
    "from nltk.stem import WordNetLemmatizer\n",
    "from nltk.tokenize import word_tokenize,sent_tokenize\n",
    "from nltk.sentiment.vader import SentimentIntensityAnalyzer\n",
    "from nltk.corpus import wordnet\n",
    "from bs4 import BeautifulSoup\n",
    "import spacy\n",
    "import re,string,unicodedata\n",
    "from nltk.tokenize.toktok import ToktokTokenizer\n",
    "from nltk.stem import LancasterStemmer,WordNetLemmatizer\n",
    "from sklearn.linear_model import LogisticRegression,SGDClassifier\n",
    "from sklearn.naive_bayes import MultinomialNB\n",
    "from sklearn.svm import SVC\n",
    "from textblob import TextBlob\n",
    "from textblob import Word\n",
    "from sklearn.metrics import classification_report,confusion_matrix,accuracy_score\n",
    "import Levenshtein\n",
    "\n",
    "import os\n",
    "print(os.listdir(\"../SentimentAnalysis/input\"))\n",
    "import warnings\n",
    "warnings.filterwarnings('ignore')\n"
   ]
  },
  {
   "cell_type": "code",
   "execution_count": 84,
   "id": "b97f3243",
   "metadata": {
    "scrolled": true
   },
   "outputs": [
    {
     "name": "stdout",
     "output_type": "stream",
     "text": [
      "(50000, 2)\n"
     ]
    },
    {
     "data": {
      "text/html": [
       "<div>\n",
       "<style scoped>\n",
       "    .dataframe tbody tr th:only-of-type {\n",
       "        vertical-align: middle;\n",
       "    }\n",
       "\n",
       "    .dataframe tbody tr th {\n",
       "        vertical-align: top;\n",
       "    }\n",
       "\n",
       "    .dataframe thead th {\n",
       "        text-align: right;\n",
       "    }\n",
       "</style>\n",
       "<table border=\"1\" class=\"dataframe\">\n",
       "  <thead>\n",
       "    <tr style=\"text-align: right;\">\n",
       "      <th></th>\n",
       "      <th>review</th>\n",
       "      <th>sentiment</th>\n",
       "    </tr>\n",
       "  </thead>\n",
       "  <tbody>\n",
       "    <tr>\n",
       "      <th>0</th>\n",
       "      <td>One of the other reviewers has mentioned that ...</td>\n",
       "      <td>positive</td>\n",
       "    </tr>\n",
       "    <tr>\n",
       "      <th>1</th>\n",
       "      <td>A wonderful little production. &lt;br /&gt;&lt;br /&gt;The...</td>\n",
       "      <td>positive</td>\n",
       "    </tr>\n",
       "    <tr>\n",
       "      <th>2</th>\n",
       "      <td>I thought this was a wonderful way to spend ti...</td>\n",
       "      <td>positive</td>\n",
       "    </tr>\n",
       "    <tr>\n",
       "      <th>3</th>\n",
       "      <td>Basically there's a family where a little boy ...</td>\n",
       "      <td>negative</td>\n",
       "    </tr>\n",
       "    <tr>\n",
       "      <th>4</th>\n",
       "      <td>Petter Mattei's \"Love in the Time of Money\" is...</td>\n",
       "      <td>positive</td>\n",
       "    </tr>\n",
       "    <tr>\n",
       "      <th>5</th>\n",
       "      <td>Probably my all-time favorite movie, a story o...</td>\n",
       "      <td>positive</td>\n",
       "    </tr>\n",
       "    <tr>\n",
       "      <th>6</th>\n",
       "      <td>I sure would like to see a resurrection of a u...</td>\n",
       "      <td>positive</td>\n",
       "    </tr>\n",
       "    <tr>\n",
       "      <th>7</th>\n",
       "      <td>This show was an amazing, fresh &amp; innovative i...</td>\n",
       "      <td>negative</td>\n",
       "    </tr>\n",
       "    <tr>\n",
       "      <th>8</th>\n",
       "      <td>Encouraged by the positive comments about this...</td>\n",
       "      <td>negative</td>\n",
       "    </tr>\n",
       "    <tr>\n",
       "      <th>9</th>\n",
       "      <td>If you like original gut wrenching laughter yo...</td>\n",
       "      <td>positive</td>\n",
       "    </tr>\n",
       "  </tbody>\n",
       "</table>\n",
       "</div>"
      ],
      "text/plain": [
       "                                              review sentiment\n",
       "0  One of the other reviewers has mentioned that ...  positive\n",
       "1  A wonderful little production. <br /><br />The...  positive\n",
       "2  I thought this was a wonderful way to spend ti...  positive\n",
       "3  Basically there's a family where a little boy ...  negative\n",
       "4  Petter Mattei's \"Love in the Time of Money\" is...  positive\n",
       "5  Probably my all-time favorite movie, a story o...  positive\n",
       "6  I sure would like to see a resurrection of a u...  positive\n",
       "7  This show was an amazing, fresh & innovative i...  negative\n",
       "8  Encouraged by the positive comments about this...  negative\n",
       "9  If you like original gut wrenching laughter yo...  positive"
      ]
     },
     "execution_count": 84,
     "metadata": {},
     "output_type": "execute_result"
    }
   ],
   "source": [
    "norm_train_reviews=pd.read_csv('../SentimentAnalysis/normal_train_reviews.csv')['review']\n",
    "\n",
    "norm_test_reviews=pd.read_csv('../SentimentAnalysis/normal_test_reviews.csv')['review']\n",
    "\n",
    "augmented_train_reviews=pd.read_csv('../SentimentAnalysis/augmented_train_reviews.csv')['review']\n",
    "\n",
    "augmented_test_reviews=pd.read_csv('../SentimentAnalysis/augmented_test_reviews.csv')['review']\n",
    "\n",
    "augmented_train_reviews_p=pd.read_csv('../SentimentAnalysis/augmented_train_reviews_p.csv')['review']\n",
    "\n",
    "augmented_test_reviews_p=pd.read_csv('../SentimentAnalysis/augmented_test_reviews_p.csv')['review']\n",
    "\n",
    "#importing the training data\n",
    "imdb_data=pd.read_csv('../SentimentAnalysis/input/IMDB Dataset.csv')\n",
    "print(imdb_data.shape)\n",
    "imdb_data.head(10)"
   ]
  },
  {
   "cell_type": "code",
   "execution_count": 65,
   "id": "acca4a9c",
   "metadata": {},
   "outputs": [
    {
     "name": "stdout",
     "output_type": "stream",
     "text": [
      "(40000,)\n",
      "(10000,)\n",
      "(40000,)\n",
      "(10000,)\n"
     ]
    }
   ],
   "source": [
    "print(norm_train_reviews.shape)\n",
    "print(norm_test_reviews.shape)\n",
    "print(augmented_train_reviews.shape)\n",
    "print(augmented_test_reviews.shape)\n"
   ]
  },
  {
   "cell_type": "code",
   "execution_count": 66,
   "id": "a123bbb0",
   "metadata": {},
   "outputs": [
    {
     "name": "stdout",
     "output_type": "stream",
     "text": [
      "BOW_cv_train: (40000, 6209089)\n",
      "BOW_cv_test: (10000, 6209089)\n"
     ]
    }
   ],
   "source": [
    "#Count vectorizer for bag of words\n",
    "cv=CountVectorizer(min_df=0.0,max_df=1,binary=False,ngram_range=(1,3))\n",
    "#transformed train reviews\n",
    "cv_train_reviewsn=cv.fit_transform(norm_train_reviews)\n",
    "\n",
    "#transformed test reviews\n",
    "cv_test_reviewsn=cv.transform(norm_test_reviews)\n",
    "\n",
    "print('BOW_cv_train:',cv_train_reviewsn.shape)\n",
    "print('BOW_cv_test:',cv_test_reviewsn.shape)\n",
    "#vocab=cv.get_feature_names()-toget feature names"
   ]
  },
  {
   "cell_type": "code",
   "execution_count": 87,
   "id": "ba5e0754",
   "metadata": {},
   "outputs": [],
   "source": [
    "cv1=CountVectorizer(min_df=0.0,max_df=1,binary=False,ngram_range=(1,3), stop_words = None)\n",
    "\n",
    "cv_train_reviewsa=cv1.fit_transform(augmented_train_reviews)\n",
    "\n",
    "cv_test_reviewsa=cv1.transform(augmented_test_reviews)\n"
   ]
  },
  {
   "cell_type": "code",
   "execution_count": 88,
   "id": "4859210b",
   "metadata": {},
   "outputs": [],
   "source": [
    "cv2=CountVectorizer(min_df=0.0,max_df=1,binary=False,ngram_range=(1,3), stop_words = None)\n",
    "\n",
    "cv_train_reviewsap=cv2.fit_transform(augmented_train_reviews_p)\n",
    "\n",
    "cv_test_reviewsap=cv2.transform(augmented_test_reviews_p)\n"
   ]
  },
  {
   "cell_type": "code",
   "execution_count": 68,
   "id": "baa6deae",
   "metadata": {},
   "outputs": [
    {
     "data": {
      "text/plain": [
       "(10000, 6055854)"
      ]
     },
     "execution_count": 68,
     "metadata": {},
     "output_type": "execute_result"
    }
   ],
   "source": [
    "cv_test_reviewsa.shape"
   ]
  },
  {
   "cell_type": "code",
   "execution_count": 69,
   "id": "6b2368bb",
   "metadata": {},
   "outputs": [
    {
     "name": "stdout",
     "output_type": "stream",
     "text": [
      "Tfidf_train: (40000, 6209089)\n",
      "Tfidf_test: (10000, 6209089)\n"
     ]
    }
   ],
   "source": [
    "#Tfidf vectorizer\n",
    "tv=TfidfVectorizer(min_df=0.0,max_df=1,use_idf=True,ngram_range=(1,3))\n",
    "#transformed train reviews\n",
    "tv_train_reviewsn=tv.fit_transform(norm_train_reviews)\n",
    "\n",
    "#transformed test reviews\n",
    "tv_test_reviewsn=tv.transform(norm_test_reviews)\n",
    "\n",
    "print('Tfidf_train:',tv_train_reviewsn.shape)\n",
    "print('Tfidf_test:',tv_test_reviewsn.shape)"
   ]
  },
  {
   "cell_type": "code",
   "execution_count": 70,
   "id": "8ecd4f9d",
   "metadata": {},
   "outputs": [],
   "source": [
    "tv1=TfidfVectorizer(min_df=0.0,max_df=1,use_idf=True,ngram_range=(1,3))\n",
    "tv_train_reviewsa=tv1.fit_transform(augmented_train_reviews)\n",
    "tv_test_reviewsa=tv1.transform(augmented_test_reviews)\n"
   ]
  },
  {
   "cell_type": "code",
   "execution_count": 89,
   "id": "781b8c2a",
   "metadata": {},
   "outputs": [],
   "source": [
    "tv2=TfidfVectorizer(min_df=0.0,max_df=1,use_idf=True,ngram_range=(1,3))\n",
    "tv_train_reviewsap=tv2.fit_transform(augmented_train_reviews_p)\n",
    "tv_test_reviewsap=tv2.transform(augmented_test_reviews_p)\n"
   ]
  },
  {
   "cell_type": "code",
   "execution_count": 71,
   "id": "ac0d6963",
   "metadata": {},
   "outputs": [
    {
     "name": "stdout",
     "output_type": "stream",
     "text": [
      "(50000, 1)\n"
     ]
    }
   ],
   "source": [
    "#labeling the sentient data\n",
    "lb=LabelBinarizer()\n",
    "#transformed sentiment data\n",
    "sentiment_data=lb.fit_transform(imdb_data['sentiment'])\n",
    "print(sentiment_data.shape)"
   ]
  },
  {
   "cell_type": "code",
   "execution_count": 72,
   "id": "ef4ddce4",
   "metadata": {},
   "outputs": [
    {
     "name": "stdout",
     "output_type": "stream",
     "text": [
      "[[1]\n",
      " [1]\n",
      " [1]\n",
      " ...\n",
      " [1]\n",
      " [0]\n",
      " [0]]\n",
      "[[0]\n",
      " [0]\n",
      " [0]\n",
      " ...\n",
      " [0]\n",
      " [0]\n",
      " [0]]\n"
     ]
    }
   ],
   "source": [
    "#Spliting the sentiment data\n",
    "train_sentiments=sentiment_data[:40000]\n",
    "test_sentiments=sentiment_data[40000:]\n",
    "print(train_sentiments)\n",
    "print(test_sentiments)"
   ]
  },
  {
   "cell_type": "code",
   "execution_count": 73,
   "id": "ea3f9e5b",
   "metadata": {},
   "outputs": [
    {
     "name": "stdout",
     "output_type": "stream",
     "text": [
      "LogisticRegression(C=1, max_iter=500, random_state=42)\n",
      "LogisticRegression(C=1, max_iter=500, random_state=42)\n"
     ]
    }
   ],
   "source": [
    "#training the model\n",
    "lr=LogisticRegression(penalty='l2',max_iter=500,C=1,random_state=42)\n",
    "#Fitting the model for Bag of words\n",
    "lr_bown=lr.fit(cv_train_reviewsn,train_sentiments)\n",
    "\n",
    "print(lr_bown)\n",
    "#Fitting the model for tfidf features\n",
    "lr_tfidfn=lr.fit(tv_train_reviewsn,train_sentiments)\n",
    "\n",
    "print(lr_tfidfn)\n"
   ]
  },
  {
   "cell_type": "code",
   "execution_count": 74,
   "id": "18f4434e",
   "metadata": {},
   "outputs": [
    {
     "name": "stdout",
     "output_type": "stream",
     "text": [
      "LogisticRegression(C=1, max_iter=500, random_state=42)\n",
      "LogisticRegression(C=1, max_iter=500, random_state=42)\n"
     ]
    }
   ],
   "source": [
    "lr1=LogisticRegression(penalty='l2',max_iter=500,C=1,random_state=42)\n",
    "\n",
    "lr_bowa=lr1.fit(cv_train_reviewsa,train_sentiments)\n",
    "print(lr_bowa)\n",
    "lr_tfidfa=lr1.fit(tv_train_reviewsa,train_sentiments)\n",
    "print(lr_tfidfa)"
   ]
  },
  {
   "cell_type": "code",
   "execution_count": 90,
   "id": "e270b254",
   "metadata": {},
   "outputs": [
    {
     "name": "stdout",
     "output_type": "stream",
     "text": [
      "LogisticRegression(C=1, max_iter=500, random_state=42)\n",
      "LogisticRegression(C=1, max_iter=500, random_state=42)\n"
     ]
    }
   ],
   "source": [
    "lr2=LogisticRegression(penalty='l2',max_iter=500,C=1,random_state=42)\n",
    "\n",
    "lr_bowap=lr2.fit(cv_train_reviewsap,train_sentiments)\n",
    "print(lr_bowap)\n",
    "lr_tfidfap=lr2.fit(tv_train_reviewsap,train_sentiments)\n",
    "print(lr_tfidfap)"
   ]
  },
  {
   "cell_type": "code",
   "execution_count": 91,
   "id": "67a63ce6",
   "metadata": {},
   "outputs": [
    {
     "name": "stdout",
     "output_type": "stream",
     "text": [
      "[0 0 0 ... 0 1 1]\n",
      "[0 0 0 ... 0 1 1]\n",
      "[0 0 0 ... 0 1 1]\n",
      "[0 0 0 ... 0 1 0]\n"
     ]
    }
   ],
   "source": [
    "#Predicting the model for bag of words\n",
    "lr_bow_predictn=lr.predict(cv_test_reviewsn)\n",
    "lr_bow_predicta=lr1.predict(cv_test_reviewsa)\n",
    "lr_bow_predictap=lr2.predict(cv_test_reviewsap)\n",
    "\n",
    "print(lr_bow_predictn)\n",
    "print(lr_bow_predicta)\n",
    "\n",
    "##Predicting the model for tfidf features\n",
    "lr_tfidf_predictn=lr.predict(tv_test_reviewsn)\n",
    "lr_tfidf_predicta=lr1.predict(tv_test_reviewsa)\n",
    "lr_tfidf_predictap=lr2.predict(tv_test_reviewsap)\n",
    "\n",
    "print(lr_tfidf_predictn)\n",
    "print(lr_tfidf_predicta)"
   ]
  },
  {
   "cell_type": "code",
   "execution_count": 92,
   "id": "7c2b5451",
   "metadata": {},
   "outputs": [
    {
     "name": "stdout",
     "output_type": "stream",
     "text": [
      "Normal\n",
      "              precision    recall  f1-score   support\n",
      "\n",
      "    Positive       0.75      0.75      0.75      4993\n",
      "    Negative       0.75      0.75      0.75      5007\n",
      "\n",
      "    accuracy                           0.75     10000\n",
      "   macro avg       0.75      0.75      0.75     10000\n",
      "weighted avg       0.75      0.75      0.75     10000\n",
      "\n",
      "Augemented\n",
      "              precision    recall  f1-score   support\n",
      "\n",
      "    Positive       0.74      0.75      0.75      4993\n",
      "    Negative       0.75      0.74      0.75      5007\n",
      "\n",
      "    accuracy                           0.75     10000\n",
      "   macro avg       0.75      0.75      0.75     10000\n",
      "weighted avg       0.75      0.75      0.75     10000\n",
      "\n",
      "Augemented Polarity\n",
      "              precision    recall  f1-score   support\n",
      "\n",
      "    Positive       0.75      0.75      0.75      4993\n",
      "    Negative       0.75      0.75      0.75      5007\n",
      "\n",
      "    accuracy                           0.75     10000\n",
      "   macro avg       0.75      0.75      0.75     10000\n",
      "weighted avg       0.75      0.75      0.75     10000\n",
      "\n",
      "Normal\n",
      "              precision    recall  f1-score   support\n",
      "\n",
      "    Positive       0.74      0.77      0.75      4993\n",
      "    Negative       0.76      0.73      0.75      5007\n",
      "\n",
      "    accuracy                           0.75     10000\n",
      "   macro avg       0.75      0.75      0.75     10000\n",
      "weighted avg       0.75      0.75      0.75     10000\n",
      "\n",
      "Augemented\n",
      "              precision    recall  f1-score   support\n",
      "\n",
      "    Positive       0.74      0.76      0.75      4993\n",
      "    Negative       0.76      0.73      0.74      5007\n",
      "\n",
      "    accuracy                           0.75     10000\n",
      "   macro avg       0.75      0.75      0.75     10000\n",
      "weighted avg       0.75      0.75      0.75     10000\n",
      "\n",
      "Augemented Polarity\n",
      "              precision    recall  f1-score   support\n",
      "\n",
      "    Positive       0.74      0.77      0.75      4993\n",
      "    Negative       0.76      0.73      0.74      5007\n",
      "\n",
      "    accuracy                           0.75     10000\n",
      "   macro avg       0.75      0.75      0.75     10000\n",
      "weighted avg       0.75      0.75      0.75     10000\n",
      "\n"
     ]
    }
   ],
   "source": [
    "#Classification report for bag of words \n",
    "lr_bow_reportn=classification_report(test_sentiments,lr_bow_predictn,target_names=['Positive','Negative'])\n",
    "lr_bow_reporta=classification_report(test_sentiments,lr_bow_predicta,target_names=['Positive','Negative'])\n",
    "lr_bow_reportap=classification_report(test_sentiments,lr_bow_predictap,target_names=['Positive','Negative'])\n",
    "\n",
    "print(\"Normal\")\n",
    "print(lr_bow_reportn)\n",
    "print(\"Augemented\")\n",
    "print(lr_bow_reporta)\n",
    "print(\"Augemented Polarity\")\n",
    "print(lr_bow_reportap)\n",
    "\n",
    "#Classification report for tfidf features\n",
    "lr_tfidf_reportn=classification_report(test_sentiments,lr_tfidf_predictn,target_names=['Positive','Negative'])\n",
    "lr_tfidf_reporta=classification_report(test_sentiments,lr_tfidf_predicta,target_names=['Positive','Negative'])\n",
    "lr_tfidf_reportap=classification_report(test_sentiments,lr_tfidf_predictap,target_names=['Positive','Negative'])\n",
    "\n",
    "print(\"Normal\")\n",
    "print(lr_tfidf_reportn)\n",
    "print(\"Augemented\")\n",
    "print(lr_tfidf_reporta)\n",
    "print(\"Augemented Polarity\")\n",
    "print(lr_tfidf_reportap)"
   ]
  },
  {
   "cell_type": "code",
   "execution_count": 77,
   "id": "8eea97b6",
   "metadata": {},
   "outputs": [
    {
     "name": "stdout",
     "output_type": "stream",
     "text": [
      "SGDClassifier(max_iter=500, random_state=42)\n",
      "SGDClassifier(max_iter=500, random_state=42)\n"
     ]
    }
   ],
   "source": [
    "#training the linear svm\n",
    "svm=SGDClassifier(loss='hinge',max_iter=500,random_state=42)\n",
    "\n",
    "#fitting the svm for bag of words\n",
    "svm_bown=svm.fit(cv_train_reviewsn,train_sentiments)\n",
    "\n",
    "print(svm_bown)\n",
    "\n",
    "#fitting the svm for tfidf features\n",
    "svm_tfidfn=svm.fit(tv_train_reviewsn,train_sentiments)\n",
    "\n",
    "print(svm_tfidfn)\n"
   ]
  },
  {
   "cell_type": "code",
   "execution_count": 78,
   "id": "0e25150a",
   "metadata": {},
   "outputs": [
    {
     "name": "stdout",
     "output_type": "stream",
     "text": [
      "SGDClassifier(max_iter=500, random_state=42)\n",
      "SGDClassifier(max_iter=500, random_state=42)\n"
     ]
    }
   ],
   "source": [
    "svm1=SGDClassifier(loss='hinge',max_iter=500,random_state=42)\n",
    "svm_bowa=svm1.fit(cv_train_reviewsa,train_sentiments)\n",
    "print(svm_bowa)\n",
    "svm_tfidfa=svm1.fit(tv_train_reviewsa,train_sentiments)\n",
    "print(svm_tfidfa)"
   ]
  },
  {
   "cell_type": "code",
   "execution_count": 79,
   "id": "31baf2d0",
   "metadata": {},
   "outputs": [
    {
     "name": "stdout",
     "output_type": "stream",
     "text": [
      "[1 1 0 ... 1 1 1]\n",
      "[1 1 1 ... 1 1 1]\n",
      "[1 1 1 ... 1 1 1]\n",
      "[1 1 1 ... 1 1 1]\n"
     ]
    }
   ],
   "source": [
    "#Predicting the model for bag of words\n",
    "svm_bow_predictn=svm.predict(cv_test_reviewsn)\n",
    "svm_bow_predicta=svm1.predict(cv_test_reviewsa)\n",
    "\n",
    "print(svm_bow_predictn)\n",
    "print(svm_bow_predicta)\n",
    "\n",
    "#Predicting the model for tfidf features\n",
    "svm_tfidf_predictn=svm.predict(tv_test_reviewsn)\n",
    "svm_tfidf_predicta=svm1.predict(tv_test_reviewsa)\n",
    "\n",
    "print(svm_tfidf_predictn)\n",
    "print(svm_tfidf_predicta)"
   ]
  },
  {
   "cell_type": "code",
   "execution_count": 80,
   "id": "9490a6a3",
   "metadata": {},
   "outputs": [
    {
     "name": "stdout",
     "output_type": "stream",
     "text": [
      "svm_bow_score : 0.5829\n",
      "svm_bow_score : 0.5863\n",
      "svm_tfidf_score : 0.5112\n",
      "svm_tfidf_score : 0.5112\n"
     ]
    }
   ],
   "source": [
    "#Accuracy score for bag of words\n",
    "svm_bow_scoren=accuracy_score(test_sentiments,svm_bow_predictn)\n",
    "print(\"svm_bow_score :\",svm_bow_scoren)\n",
    "svm_bow_scorea=accuracy_score(test_sentiments,svm_bow_predicta)\n",
    "print(\"svm_bow_score :\",svm_bow_scorea)\n",
    "#Accuracy score for tfidf features\n",
    "svm_tfidf_scoren=accuracy_score(test_sentiments,svm_tfidf_predictn)\n",
    "print(\"svm_tfidf_score :\",svm_tfidf_scoren)\n",
    "svm_tfidf_scorea=accuracy_score(test_sentiments,svm_tfidf_predicta)\n",
    "print(\"svm_tfidf_score :\",svm_tfidf_scorea)"
   ]
  },
  {
   "cell_type": "code",
   "execution_count": 81,
   "id": "c98ea4ed",
   "metadata": {},
   "outputs": [
    {
     "name": "stdout",
     "output_type": "stream",
     "text": [
      "              precision    recall  f1-score   support\n",
      "\n",
      "    Positive       0.94      0.18      0.30      4993\n",
      "    Negative       0.55      0.99      0.70      5007\n",
      "\n",
      "    accuracy                           0.58     10000\n",
      "   macro avg       0.74      0.58      0.50     10000\n",
      "weighted avg       0.74      0.58      0.50     10000\n",
      "\n",
      "              precision    recall  f1-score   support\n",
      "\n",
      "    Positive       0.94      0.18      0.31      4993\n",
      "    Negative       0.55      0.99      0.71      5007\n",
      "\n",
      "    accuracy                           0.59     10000\n",
      "   macro avg       0.74      0.59      0.51     10000\n",
      "weighted avg       0.74      0.59      0.51     10000\n",
      "\n",
      "              precision    recall  f1-score   support\n",
      "\n",
      "    Positive       1.00      0.02      0.04      4993\n",
      "    Negative       0.51      1.00      0.67      5007\n",
      "\n",
      "    accuracy                           0.51     10000\n",
      "   macro avg       0.75      0.51      0.36     10000\n",
      "weighted avg       0.75      0.51      0.36     10000\n",
      "\n",
      "              precision    recall  f1-score   support\n",
      "\n",
      "    Positive       1.00      0.02      0.04      4993\n",
      "    Negative       0.51      1.00      0.67      5007\n",
      "\n",
      "    accuracy                           0.51     10000\n",
      "   macro avg       0.75      0.51      0.36     10000\n",
      "weighted avg       0.75      0.51      0.36     10000\n",
      "\n"
     ]
    },
    {
     "data": {
      "text/plain": [
       "0"
      ]
     },
     "execution_count": 81,
     "metadata": {},
     "output_type": "execute_result"
    }
   ],
   "source": [
    "#Classification report for bag of words \n",
    "svm_bow_reportn=classification_report(test_sentiments,svm_bow_predictn,target_names=['Positive','Negative'])\n",
    "print(svm_bow_reportn)\n",
    "svm_bow_reporta=classification_report(test_sentiments,svm_bow_predicta,target_names=['Positive','Negative'])\n",
    "print(svm_bow_reporta)\n",
    "#Classification report for tfidf features\n",
    "svm_tfidf_reportn=classification_report(test_sentiments,svm_tfidf_predictn,target_names=['Positive','Negative'])\n",
    "print(svm_tfidf_reportn)\n",
    "svm_tfidf_reporta=classification_report(test_sentiments,svm_tfidf_predicta,target_names=['Positive','Negative'])\n",
    "print(svm_tfidf_reporta)\n"
   ]
  },
  {
   "cell_type": "code",
   "execution_count": null,
   "id": "9ca9dc37",
   "metadata": {},
   "outputs": [],
   "source": []
  },
  {
   "cell_type": "code",
   "execution_count": 93,
   "id": "4b86c421",
   "metadata": {},
   "outputs": [
    {
     "data": {
      "text/plain": [
       "0"
      ]
     },
     "execution_count": 93,
     "metadata": {},
     "output_type": "execute_result"
    }
   ],
   "source": [
    "os.system(\"echo -e '\\a'\")"
   ]
  }
 ],
 "metadata": {
  "kernelspec": {
   "display_name": "Python 3 (ipykernel)",
   "language": "python",
   "name": "python3"
  },
  "language_info": {
   "codemirror_mode": {
    "name": "ipython",
    "version": 3
   },
   "file_extension": ".py",
   "mimetype": "text/x-python",
   "name": "python",
   "nbconvert_exporter": "python",
   "pygments_lexer": "ipython3",
   "version": "3.9.12"
  }
 },
 "nbformat": 4,
 "nbformat_minor": 5
}
