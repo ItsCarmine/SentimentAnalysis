{
 "cells": [
  {
   "cell_type": "code",
   "execution_count": 1,
   "id": "c537eb33-036a-4f1e-8e31-a810bac3f70c",
   "metadata": {},
   "outputs": [],
   "source": [
    "import pandas as pd\n",
    "import numpy as np\n",
    "from transformers import RobertaTokenizer, RobertaForSequenceClassification\n",
    "import torch\n",
    "from torch.utils.data import Dataset, DataLoader\n",
    "from scipy.stats import entropy\n",
    "from sklearn.model_selection import train_test_split\n",
    "from typing import List, Dict, Tuple, Set\n",
    "import json\n",
    "from datetime import datetime\n",
    "from text_augmentation import DataAugmentor\n",
    "from annotation_manager import AnnotationManager\n",
    "from sklearn.metrics import accuracy_score, classification_report\n",
    "import os"
   ]
  },
  {
   "cell_type": "code",
   "execution_count": 3,
   "id": "37337fcb-4529-4201-babf-259cf4451227",
   "metadata": {},
   "outputs": [],
   "source": [
    "class ConsistencyCalculator:\n",
    "    \"\"\"Calculates consistency metrics between original and augmented texts\"\"\"\n",
    "    def __init__(self, base_point: float = 1.3):\n",
    "        self.base_point = base_point  # Similar to β in CALD\n",
    "        \n",
    "    def calculate_confidence_weight(self, probs: np.ndarray) -> float:\n",
    "        \"\"\"Calculate confidence weight based on prediction probabilities\"\"\"\n",
    "        return float(np.max(probs))\n",
    "    \n",
    "    def calculate_prediction_difference(self, orig_probs: np.ndarray, aug_probs: np.ndarray) -> float:\n",
    "        \"\"\"Calculate Jensen-Shannon divergence between predictions\"\"\"\n",
    "        m = 0.5 * (orig_probs + aug_probs)\n",
    "        js_div = 0.5 * (entropy(orig_probs, m) + entropy(aug_probs, m))\n",
    "        return float(js_div)\n",
    "    \n",
    "    def calculate_consistency_score(self, \n",
    "                                  original_probs: np.ndarray, \n",
    "                                  augmented_probs_list: List[np.ndarray]) -> float:\n",
    "        \"\"\"\n",
    "        Calculate consistency score for a text and its augmentations\n",
    "        Returns a score where higher values indicate more informative samples\n",
    "        \"\"\"\n",
    "        consistency_scores = []\n",
    "        \n",
    "        for aug_probs in augmented_probs_list:\n",
    "            # Calculate prediction difference\n",
    "            pred_diff = self.calculate_prediction_difference(original_probs, aug_probs)\n",
    "            \n",
    "            # Calculate confidence weights\n",
    "            orig_conf = self.calculate_confidence_weight(original_probs)\n",
    "            aug_conf = self.calculate_confidence_weight(aug_probs)\n",
    "            conf_weight = 0.5 * (orig_conf + aug_conf)\n",
    "            \n",
    "            # Combine into single consistency score\n",
    "            # Subtract from base_point similar to CALD's approach\n",
    "            consistency = abs(self.base_point - (pred_diff * conf_weight))\n",
    "            consistency_scores.append(consistency)\n",
    "        \n",
    "        # Return average consistency across all augmentations\n",
    "        return np.mean(consistency_scores)"
   ]
  },
  {
   "cell_type": "code",
   "execution_count": 5,
   "id": "63122333-797f-46bd-bb8f-17e444cdc0e2",
   "metadata": {},
   "outputs": [],
   "source": [
    "class SentimentDataset(Dataset):\n",
    "    def __init__(self, texts: List[str], labels: List[int], tokenizer, max_length: int = 512):\n",
    "        self.texts = texts\n",
    "        self.labels = labels\n",
    "        self.tokenizer = tokenizer\n",
    "        self.max_length = max_length\n",
    "\n",
    "    def __len__(self):\n",
    "        return len(self.texts)\n",
    "\n",
    "    def __getitem__(self, idx):\n",
    "        text = str(self.texts[idx])\n",
    "        label = self.labels[idx]\n",
    "        \n",
    "        encoding = self.tokenizer(\n",
    "            text,\n",
    "            add_special_tokens=True,\n",
    "            max_length=self.max_length,\n",
    "            truncation=True,\n",
    "            padding='max_length',\n",
    "            return_tensors='pt'\n",
    "        )\n",
    "        \n",
    "        return {\n",
    "            'input_ids': encoding['input_ids'].flatten(),\n",
    "            'attention_mask': encoding['attention_mask'].flatten(),\n",
    "            'label': torch.tensor(label, dtype=torch.long)  # Ensure label is long type\n",
    "        }"
   ]
  },
  {
   "cell_type": "code",
   "execution_count": 7,
   "id": "1ad76fa4-cb98-41f3-b9af-87a0d1d732f4",
   "metadata": {},
   "outputs": [],
   "source": [
    "class SentimentDistributionCalculator:\n",
    "    \"\"\"Calculates and compares sentiment distributions\"\"\"\n",
    "    def __init__(self):\n",
    "        self.softmax = torch.nn.Softmax(dim=0)\n",
    "    \n",
    "    def get_pool_distribution(self, df: pd.DataFrame, indices: Set[int]) -> np.ndarray:\n",
    "        \"\"\"Calculate sentiment distribution of a pool of samples\"\"\"\n",
    "        if not indices:\n",
    "            return np.ones(2) / 2  # Uniform distribution for empty pool\n",
    "        \n",
    "        pool_sentiments = df.loc[list(indices)]['sentiment'].value_counts()\n",
    "        distribution = np.zeros(2)  # Binary sentiment\n",
    "        distribution[0] = pool_sentiments.get('negative', 0)\n",
    "        distribution[1] = pool_sentiments.get('positive', 0)\n",
    "        return distribution / distribution.sum()\n",
    "    \n",
    "    def calculate_js_divergence(self, dist1: np.ndarray, dist2: np.ndarray) -> float:\n",
    "        \"\"\"Calculate Jensen-Shannon divergence between two distributions\"\"\"\n",
    "        m = 0.5 * (dist1 + dist2)\n",
    "        js_div = 0.5 * (entropy(dist1, m) + entropy(dist2, m))\n",
    "        return float(js_div)"
   ]
  },
  {
   "cell_type": "code",
   "execution_count": 9,
   "id": "074cc209-b76c-480a-99e1-037e524cb759",
   "metadata": {},
   "outputs": [],
   "source": [
    "class TwoStageActiveLearning:\n",
    "    def __init__(self, \n",
    "                 model_name: str = 'roberta-base',\n",
    "                 device: str = 'cuda' if torch.cuda.is_available() else 'cpu',\n",
    "                 batch_size: int = 128,\n",
    "                 samples_per_iteration: int = 50,\n",
    "                 total_iterations: int = 3,\n",
    "                 expansion_ratio: float = 0.2):\n",
    "        \n",
    "        self.device = device\n",
    "        self.batch_size = batch_size\n",
    "        self.samples_per_iteration = samples_per_iteration\n",
    "        self.expanded_pool_size = int(samples_per_iteration * (1 + expansion_ratio))\n",
    "        self.total_iterations = total_iterations\n",
    "        \n",
    "        # Initialize tokenizer separately from model\n",
    "        self.tokenizer = RobertaTokenizer.from_pretrained(model_name)\n",
    "        self.model = RobertaForSequenceClassification.from_pretrained(model_name)\n",
    "        self.model.to(device)\n",
    "        \n",
    "        # Initialize other components\n",
    "        self.augmentor = DataAugmentor(combinations=[\"SBDR\", \"SBD\", \"SDR\"])\n",
    "        self.consistency_calc = ConsistencyCalculator()\n",
    "        self.distribution_calc = SentimentDistributionCalculator()\n",
    "        \n",
    "        # Initialize tracking\n",
    "        self.current_iteration = 0\n",
    "        self.labeled_indices: Set[int] = set()\n",
    "        self.history = []\n",
    "    \n",
    "    def stage_one_selection(self, \n",
    "                          df: pd.DataFrame, \n",
    "                          current_labeled_indices: Set[int]) -> List[int]:\n",
    "        \"\"\"Stage 1: Select samples based on individual information (consistency)\"\"\"\n",
    "        unlabeled_df = df[~df.index.isin(current_labeled_indices)].copy()\n",
    "        all_consistency_scores = []\n",
    "        \n",
    "        print(\"Stage 1: Calculating consistency scores...\")\n",
    "        for idx, row in unlabeled_df.iterrows():\n",
    "            # Get original text predictions\n",
    "            original_probs = self.get_predictions([row['review']])[0]\n",
    "            \n",
    "            # Get augmented versions and their predictions\n",
    "            augmented_texts = self.augmentor.augment_text(row['review'])\n",
    "            augmented_probs = self.get_predictions(augmented_texts)\n",
    "            \n",
    "            # Calculate consistency score\n",
    "            consistency_score = self.consistency_calc.calculate_consistency_score(\n",
    "                original_probs, augmented_probs)\n",
    "            \n",
    "            all_consistency_scores.append((idx, consistency_score))\n",
    "        \n",
    "        # Sort by consistency score and select top samples for initial pool\n",
    "        sorted_scores = sorted(all_consistency_scores, key=lambda x: x[1], reverse=True)\n",
    "        initial_pool_indices = [idx for idx, _ in sorted_scores[:self.expanded_pool_size]]\n",
    "        \n",
    "        return initial_pool_indices\n",
    "    \n",
    "    def stage_two_selection(self, \n",
    "                          df: pd.DataFrame, \n",
    "                          initial_pool_indices: List[int]) -> List[int]:\n",
    "        \"\"\"Stage 2: Select final samples based on mutual information\"\"\"\n",
    "        print(\"Stage 2: Calculating mutual information...\")\n",
    "        \n",
    "        # Get sentiment distribution of labeled pool\n",
    "        labeled_distribution = self.distribution_calc.get_pool_distribution(\n",
    "            df, self.labeled_indices)\n",
    "        \n",
    "        # Calculate mutual information scores for initial pool\n",
    "        mutual_info_scores = []\n",
    "        \n",
    "        for idx in initial_pool_indices:\n",
    "            # Get predictions for the sample\n",
    "            text = df.loc[idx, 'review']\n",
    "            probs = self.get_predictions([text])[0]\n",
    "            \n",
    "            # Create temporary distribution including this sample\n",
    "            temp_indices = self.labeled_indices.union({idx})\n",
    "            temp_distribution = self.distribution_calc.get_pool_distribution(\n",
    "                df, temp_indices)\n",
    "            \n",
    "            # Calculate JS divergence\n",
    "            js_div = self.distribution_calc.calculate_js_divergence(\n",
    "                labeled_distribution, temp_distribution)\n",
    "            \n",
    "            mutual_info_scores.append((idx, js_div))\n",
    "        \n",
    "        # Sort by JS divergence (higher means more different from current distribution)\n",
    "        sorted_scores = sorted(mutual_info_scores, key=lambda x: x[1], reverse=True)\n",
    "        final_indices = [idx for idx, _ in sorted_scores[:self.samples_per_iteration]]\n",
    "        \n",
    "        return final_indices\n",
    "    \n",
    "    def run_iteration(self, df: pd.DataFrame) -> Tuple[Set[int], Dict]:\n",
    "        \"\"\"Run one complete iteration of two-stage active learning\"\"\"\n",
    "        print(f\"\\nStarting iteration {self.current_iteration + 1}/{self.total_iterations}\")\n",
    "        \n",
    "        # Stage 1: Select initial pool based on consistency\n",
    "        initial_indices = self.stage_one_selection(df, self.labeled_indices)\n",
    "        \n",
    "        # Stage 2: Select final samples based on mutual information\n",
    "        final_indices = self.stage_two_selection(df, initial_indices)\n",
    "        \n",
    "        # Update labeled indices\n",
    "        self.labeled_indices.update(final_indices)\n",
    "        \n",
    "        # Record iteration stats\n",
    "        stats = {\n",
    "            'iteration': self.current_iteration + 1,\n",
    "            'initial_pool_size': len(initial_indices),\n",
    "            'final_selected': len(final_indices),\n",
    "            'total_labeled': len(self.labeled_indices),\n",
    "            'timestamp': datetime.now().isoformat()\n",
    "        }\n",
    "        self.history.append(stats)\n",
    "        \n",
    "        self.current_iteration += 1\n",
    "        \n",
    "        return self.labeled_indices, stats\n",
    "    \n",
    "    def get_predictions(self, texts: List[str]) -> np.ndarray:\n",
    "        \"\"\"Get model predictions for a list of texts\"\"\"\n",
    "        # Create dummy labels (they're not used for prediction)\n",
    "        dummy_labels = [0] * len(texts)\n",
    "        \n",
    "        dataset = SentimentDataset(\n",
    "            texts=texts,\n",
    "            labels=dummy_labels,\n",
    "            tokenizer=self.tokenizer\n",
    "        )\n",
    "        \n",
    "        dataloader = DataLoader(dataset, batch_size=self.batch_size)\n",
    "        predictions = []\n",
    "        \n",
    "        self.model.eval()\n",
    "        with torch.no_grad():\n",
    "            for batch in dataloader:\n",
    "                input_ids = batch['input_ids'].to(self.device)\n",
    "                attention_mask = batch['attention_mask'].to(self.device)\n",
    "                \n",
    "                outputs = self.model(input_ids, attention_mask=attention_mask)\n",
    "                probs = torch.softmax(outputs.logits, dim=1)\n",
    "                predictions.extend(probs.cpu().numpy())\n",
    "        \n",
    "        return np.array(predictions)\n",
    "\n",
    "    def save_state(self, filepath: str):\n",
    "        \"\"\"Save active learning state\"\"\"\n",
    "        state = {\n",
    "            'current_iteration': self.current_iteration,\n",
    "            'labeled_indices': list(self.labeled_indices),\n",
    "            'history': self.history\n",
    "        }\n",
    "        with open(filepath, 'w') as f:\n",
    "            json.dump(state, f)\n",
    "    \n",
    "    def load_state(self, filepath: str):\n",
    "        \"\"\"Load active learning state\"\"\"\n",
    "        with open(filepath, 'r') as f:\n",
    "            state = json.load(f)\n",
    "        self.current_iteration = state['current_iteration']\n",
    "        self.labeled_indices = set(state['labeled_indices'])\n",
    "        self.history = state['history']"
   ]
  },
  {
   "cell_type": "code",
   "execution_count": 11,
   "id": "9ae9df72-2832-4f4a-bf3a-aa390db9f1ae",
   "metadata": {},
   "outputs": [],
   "source": [
    "def train_model(model, tokenizer, train_data: pd.DataFrame, device: str) -> None:\n",
    "    \"\"\"Train model with fixed data types\"\"\"\n",
    "    model.train()\n",
    "    \n",
    "    # Create dataset\n",
    "    dataset = SentimentDataset(\n",
    "        texts=train_data['review'].tolist(),\n",
    "        labels=[1 if s == 'positive' else 0 for s in train_data['sentiment']],\n",
    "        tokenizer=tokenizer\n",
    "    )\n",
    "    \n",
    "    batch_size = 8\n",
    "    train_loader = DataLoader(\n",
    "        dataset,\n",
    "        batch_size=batch_size,\n",
    "        shuffle=True\n",
    "    )\n",
    "    \n",
    "    # Calculate class weights with float32\n",
    "    class_counts = train_data['sentiment'].value_counts()\n",
    "    weights = torch.tensor([\n",
    "        len(train_data) / (2 * class_counts['negative']),\n",
    "        len(train_data) / (2 * class_counts['positive'])\n",
    "    ], dtype=torch.float32).to(device)\n",
    "    \n",
    "    optimizer = torch.optim.AdamW(model.parameters(), lr=1e-4)\n",
    "    criterion = torch.nn.CrossEntropyLoss(weight=weights)\n",
    "    \n",
    "    num_epochs = 10\n",
    "    \n",
    "    for epoch in range(num_epochs):\n",
    "        total_loss = 0\n",
    "        all_predictions = []\n",
    "        all_labels = []\n",
    "        \n",
    "        for batch in train_loader:\n",
    "            optimizer.zero_grad()\n",
    "            \n",
    "            input_ids = batch['input_ids'].to(device)\n",
    "            attention_mask = batch['attention_mask'].to(device)\n",
    "            labels = batch['label'].to(device)\n",
    "            \n",
    "            outputs = model(input_ids, attention_mask=attention_mask)\n",
    "            logits = outputs.logits.float()  # Ensure logits are float\n",
    "            loss = criterion(logits, labels)\n",
    "            \n",
    "            # Get predictions\n",
    "            probs = torch.softmax(logits, dim=1)\n",
    "            predictions = torch.argmax(logits, dim=1)\n",
    "            \n",
    "            loss.backward()\n",
    "            optimizer.step()\n",
    "            \n",
    "            total_loss += loss.item()\n",
    "            all_predictions.extend(predictions.cpu().numpy())\n",
    "            all_labels.extend(labels.cpu().numpy())\n",
    "        \n",
    "        # End of epoch\n",
    "        avg_loss = total_loss / len(train_loader)\n",
    "        accuracy = accuracy_score(all_labels, all_predictions)\n",
    "        \n",
    "        print(f\"\\nEpoch {epoch + 1}/{num_epochs}\")\n",
    "        print(f\"Average Loss: {avg_loss:.4f}\")\n",
    "        print(f\"Accuracy: {accuracy:.4f}\")"
   ]
  },
  {
   "cell_type": "code",
   "execution_count": 13,
   "id": "c3403e69-2573-4a09-9a45-05c01f6fd7cb",
   "metadata": {},
   "outputs": [],
   "source": [
    "def prepare_training_data(original_df: pd.DataFrame, annotations: Dict[str, str], augmentor: DataAugmentor) -> pd.DataFrame:\n",
    "    \"\"\"Prepare training data with controlled augmentation\"\"\"\n",
    "    training_data = []\n",
    "    \n",
    "    # Process each annotated sample\n",
    "    for idx, sentiment in annotations.items():\n",
    "        # Get original text\n",
    "        original_text = original_df.loc[int(idx), 'review']\n",
    "        \n",
    "        # Add original sample\n",
    "        training_data.append({\n",
    "            'review': original_text,\n",
    "            'sentiment': sentiment,\n",
    "            'is_augmented': False,\n",
    "            'original_idx': idx\n",
    "        })\n",
    "        \n",
    "        # Get augmented versions - using just one combination for controlled augmentation\n",
    "        augmented_texts = augmentor.augment_text(original_text)[:4]  # Limit to 4 augmentations\n",
    "        \n",
    "        # Add augmented samples with same sentiment\n",
    "        for aug_text in augmented_texts:\n",
    "            training_data.append({\n",
    "                'review': aug_text,\n",
    "                'sentiment': sentiment,\n",
    "                'is_augmented': True,\n",
    "                'original_idx': idx\n",
    "            })\n",
    "    \n",
    "    # Convert to DataFrame\n",
    "    training_df = pd.DataFrame(training_data)\n",
    "    \n",
    "    print(\"\\nTraining Data Statistics:\")\n",
    "    print(f\"Original samples: {len(annotations)}\")\n",
    "    print(f\"Total samples after augmentation: {len(training_df)}\")\n",
    "    print(\"\\nSentiment Distribution:\")\n",
    "    print(training_df['sentiment'].value_counts())\n",
    "    \n",
    "    return training_df"
   ]
  },
  {
   "cell_type": "code",
   "execution_count": 15,
   "id": "3800a1f0-b907-46e0-809d-669bc626ff85",
   "metadata": {},
   "outputs": [],
   "source": [
    "class TestDataset(Dataset):\n",
    "    def __init__(self, texts: List[str], labels: List[int], tokenizer, max_length: int = 512):\n",
    "        self.texts = texts\n",
    "        self.labels = labels\n",
    "        self.tokenizer = tokenizer\n",
    "        self.max_length = max_length\n",
    "\n",
    "    def __len__(self):\n",
    "        return len(self.texts)\n",
    "\n",
    "    def __getitem__(self, idx):\n",
    "        text = str(self.texts[idx])\n",
    "        label = self.labels[idx]\n",
    "        \n",
    "        encoding = self.tokenizer(\n",
    "            text,\n",
    "            add_special_tokens=True,\n",
    "            max_length=self.max_length,\n",
    "            truncation=True,\n",
    "            padding='max_length',\n",
    "            return_tensors='pt'\n",
    "        )\n",
    "        \n",
    "        return {\n",
    "            'input_ids': encoding['input_ids'].flatten(),\n",
    "            'attention_mask': encoding['attention_mask'].flatten(),\n",
    "            'label': torch.tensor(label)\n",
    "        }\n"
   ]
  },
  {
   "cell_type": "code",
   "execution_count": 17,
   "id": "a1c00489-a8b6-4872-b7ed-d168110c0c42",
   "metadata": {},
   "outputs": [],
   "source": [
    "def evaluate_model(model, dataset: TestDataset, device: str):\n",
    "    \"\"\"Evaluate model with input monitoring\"\"\"\n",
    "    model.eval()\n",
    "    dataloader = DataLoader(dataset, batch_size=8)\n",
    "    \n",
    "    all_predictions = []\n",
    "    all_labels = []\n",
    "    unique_logits = set()  # Track unique logits\n",
    "    \n",
    "    print(\"\\nStarting evaluation...\")\n",
    "    \n",
    "    with torch.no_grad():\n",
    "        for batch_idx, batch in enumerate(dataloader):\n",
    "            input_ids = batch['input_ids'].to(device)\n",
    "            attention_mask = batch['attention_mask'].to(device)\n",
    "            labels = batch['label'].to(device)\n",
    "            \n",
    "            outputs = model(input_ids, attention_mask=attention_mask)\n",
    "            logits = outputs.logits\n",
    "            \n",
    "            # Track unique logits\n",
    "            batch_logits_tuple = tuple(map(tuple, logits.cpu().numpy()))\n",
    "            unique_logits.update(batch_logits_tuple)\n",
    "            \n",
    "            probs = torch.softmax(logits, dim=1)\n",
    "            predictions = torch.argmax(logits, dim=1)\n",
    "            \n",
    "            all_predictions.extend(predictions.cpu().numpy())\n",
    "            all_labels.extend(labels.cpu().numpy())\n",
    "            \n",
    "            if batch_idx < 3:  # Print first 3 batches\n",
    "                print(f\"\\nBatch {batch_idx + 1}:\")\n",
    "                for i in range(len(predictions)):\n",
    "                    print(f\"Sample {i}:\")\n",
    "                    print(f\"  Logits: {logits[i]}\")\n",
    "                    print(f\"  Probabilities: {probs[i]}\")\n",
    "                    print(f\"  Prediction: {predictions[i]}, True label: {labels[i]}\")\n",
    "    \n",
    "    print(f\"\\nNumber of unique logit pairs: {len(unique_logits)}\")\n",
    "    \n",
    "    accuracy = accuracy_score(all_labels, all_predictions)\n",
    "    report = classification_report(all_labels, all_predictions, target_names=['Negative', 'Positive'])\n",
    "    \n",
    "    return accuracy, report"
   ]
  },
  {
   "cell_type": "code",
   "execution_count": 19,
   "id": "9c7e5ad8-c54c-496a-94cb-3baf00e6a63a",
   "metadata": {},
   "outputs": [
    {
     "name": "stderr",
     "output_type": "stream",
     "text": [
      "Some weights of RobertaForSequenceClassification were not initialized from the model checkpoint at roberta-base and are newly initialized: ['classifier.dense.bias', 'classifier.dense.weight', 'classifier.out_proj.bias', 'classifier.out_proj.weight']\n",
      "You should probably TRAIN this model on a down-stream task to be able to use it for predictions and inference.\n"
     ]
    },
    {
     "name": "stdout",
     "output_type": "stream",
     "text": [
      "\n",
      "================================================================================\n",
      "Starting Iteration 1/3\n",
      "================================================================================\n",
      "\n",
      "Starting iteration 1/3\n",
      "Stage 1: Calculating consistency scores...\n"
     ]
    },
    {
     "name": "stderr",
     "output_type": "stream",
     "text": [
      "Token indices sequence length is longer than the specified maximum sequence length for this model (904 > 512). Running this sequence through the model will result in indexing errors\n",
      "Token indices sequence length is longer than the specified maximum sequence length for this model (907 > 512). Running this sequence through the model will result in indexing errors\n"
     ]
    },
    {
     "name": "stdout",
     "output_type": "stream",
     "text": [
      "Stage 2: Calculating mutual information...\n",
      "\n",
      "Selection Statistics:\n",
      "Initial pool size: 60\n",
      "Final selected samples: 50\n",
      "Total samples needing annotation: 50\n",
      "\n",
      "Starting annotation session...\n",
      "\n",
      "50 samples need annotation.\n"
     ]
    },
    {
     "name": "stdin",
     "output_type": "stream",
     "text": [
      "Enter 'a' to annotate, 'q' to quit:  a\n"
     ]
    },
    {
     "name": "stdout",
     "output_type": "stream",
     "text": [
      "Starting annotation session for 50 samples\n",
      "Enter 'p' for positive sentiment, 'n' for negative sentiment\n",
      "Enter 'q' to quit and save progress\n",
      "\n",
      "\n",
      "================================================================================\n",
      "Review #0:\n",
      "--------------------------------------------------------------------------------\n",
      "A poor basketball movie. A gruff coach with a dubious background comes to a small Indiana high school basketball team in the 1950's and coaches the boys to victory by \"breaking them down first, and then building them up.\"<br /><br />Not a bad subject. Photography OK. But the plot is totally predictable. No real sub-plots. Nothing added to make the movie exciting. You know what is going to happen from the very beginning. Suitable for 4th Graders.\n",
      "--------------------------------------------------------------------------------\n"
     ]
    },
    {
     "name": "stdin",
     "output_type": "stream",
     "text": [
      "Sentiment (p/n/q):  n\n"
     ]
    },
    {
     "name": "stdout",
     "output_type": "stream",
     "text": [
      "\n",
      "================================================================================\n",
      "Review #130:\n",
      "--------------------------------------------------------------------------------\n",
      "This is an excellent, little known movie. Tom Selleck does an outstanding job of acting in this movie, with the Japanese 'Clint Eastwood'. I'd love to see if this movie has come out on DVD yet, there are some spots that clearly have been cut. Hiroku (Tom's love interest) has clearly had some parts chopped. It would be interesting to see more of Japan in the film. The baseball sequences are far and away the most realistic of any baseball movie, I'm quite sure most of the actors were current or former baseball players. I love loading the tape of this movie at least once a year. Best scenes involve the lack of hat tipping after Tom gets beaned in the big game, and an intensely sensual scene of Tom having a hot bath with Hiroku. Dennis Haysbert also does a great job, it's good to see he's finally getting some recognition, not just in baseball movies(he was also in Major League).\n",
      "--------------------------------------------------------------------------------\n"
     ]
    },
    {
     "name": "stdin",
     "output_type": "stream",
     "text": [
      "Sentiment (p/n/q):  p\n"
     ]
    },
    {
     "name": "stdout",
     "output_type": "stream",
     "text": [
      "\n",
      "================================================================================\n",
      "Review #3:\n",
      "--------------------------------------------------------------------------------\n",
      "A charming, funny film that gets a solid grade all around. I saw a screener of this film recently at work. It was so nice to see this film in contrast with all the crappy horror movies I see every day. So much so, that I figured I'd write in. Not sure if this film is going to theaters, but I hope it does. Its a nice film to see with friends, its a charmer, and has some funny jokes. The acting was terrific (especially Howard Hessman and Larry Dorf. The directing was pretty good (not a film that needed to be over-directed). What really makes this film stand out I think is the writing. It was like Neil Simon, Seinfeldish, and the banter between characters is smart and has a nice rhythm. As an aspiring screenwriter, I notice those things! (I'm a dork). Anyway, a really cute film that I recommend.\n",
      "--------------------------------------------------------------------------------\n"
     ]
    },
    {
     "name": "stdin",
     "output_type": "stream",
     "text": [
      "Sentiment (p/n/q):  p\n"
     ]
    },
    {
     "name": "stdout",
     "output_type": "stream",
     "text": [
      "\n",
      "================================================================================\n",
      "Review #131:\n",
      "--------------------------------------------------------------------------------\n",
      "Where to start. The film started out pretty well, but after the 30 min mark i caught myself watching the clock. The horror at the start of the film was good but then the story kicked in. It just got stupider and stupider as time ticked by.<br /><br />The actors gave an average performance in this movie however, i got a bit bored of Vinny Jones constant scowling in the film.<br /><br />As the film dragged on, and take my word for it, it dragged on, it just got more and more far fetched.<br /><br />*** SPOILER ALERT *** SPOILER ALERT *** SPOILER ALERT *** Just when i thought the film could not get any worse, towards the end loads if skeleton looking monsters turned up, just to eat the dead people which made no sense at all. It turned out to be some sort of flesh eating cult and the good guys die at the end. The ending in fact just made me laugh at how bad it was. Once the lead role disposes of Vinny Jones, he becomes the new killer.<br /><br />In closing, this film made Creep look like the best horror film ever made. I gave it 1 star because the female lead did a pretty good job but even she could not save this train wreck of a movie!!\n",
      "--------------------------------------------------------------------------------\n"
     ]
    },
    {
     "name": "stdin",
     "output_type": "stream",
     "text": [
      "Sentiment (p/n/q):  n\n"
     ]
    },
    {
     "name": "stdout",
     "output_type": "stream",
     "text": [
      "\n",
      "================================================================================\n",
      "Review #133:\n",
      "--------------------------------------------------------------------------------\n",
      "Dodgy plot, dodgy script, dodgy almost everything in fact. The most compelling performance is that of Joanna Pacula as Lauren, but even that does not rescue this pointless and nasty film. The director's implicit invitation to viewers is not merely to suspend disbelief but to suspend judgement.<br /><br />Presumably it is intended to be steamy and menacing, but although the film has its erotic moments they are few and far between. This sort of thing has been done better by lots of others. Don't go out of your way to see it.\n",
      "--------------------------------------------------------------------------------\n"
     ]
    },
    {
     "name": "stdin",
     "output_type": "stream",
     "text": [
      "Sentiment (p/n/q):  n\n"
     ]
    },
    {
     "name": "stdout",
     "output_type": "stream",
     "text": [
      "\n",
      "================================================================================\n",
      "Review #137:\n",
      "--------------------------------------------------------------------------------\n",
      "Despite having a very pretty leading lady (Rosita Arenas, one of my boy-crushes), the acting and the direction are examples of what NOT to do while making a movie.<br /><br />Placed in southern Mexico, Popoca, the Aztec Mummy (real Aztecs, by the way, DID not made mummies) has been waken up by the lead characters and starts making trouble in Mexico City suburbia, during the first movie (The Aztec Mummy). In this second part, the leading man and woman want to find th mummy and put it in its final resting place (a fireplace would have been my first choice...)<br /><br />Into this appears The Bat, a criminal master-mindless stereotype of a criminal genius who creates a \"human robot\" (some idiot inside a robot SUIT) to control Popoca and (get this) take over the world. The final match between the robot and the mummy is hilarious, some of the worst choreography ever witnessed. The funniest part is that this movie was made and released by a serious Mexican movie studio!<br /><br />The acting is just as awful hearing the movie in Spanish as it is in English (they dubbed the over-acting!). You should watch this movie through MST:3000. The comments are even funnier.\n",
      "--------------------------------------------------------------------------------\n"
     ]
    },
    {
     "name": "stdin",
     "output_type": "stream",
     "text": [
      "Sentiment (p/n/q):  n\n"
     ]
    },
    {
     "name": "stdout",
     "output_type": "stream",
     "text": [
      "\n",
      "================================================================================\n",
      "Review #269:\n",
      "--------------------------------------------------------------------------------\n",
      "I thoroughly enjoyed this film, which in many ways, as Hitchcock did on several occasions, was a first attempt at a plot which he re-shot later in his career. Possibly the most amazing thing about it, however, is how faceless the lead characters are. After watching, one remembers Murray Alper as the jovial truck driver, Vaughan Glaser's touching turn as a blind \"patriot\", the unforgettable traveling Freak Show and of course Otto Kruger as the suave and sophisticated villain, all of whom completely overshadow Bob Cummings as the rather wooden fugitive (compare that bridge jump to Harrison Ford's similar stunt in Andrew Davis' \"The Fugitive\") and Priscilla Lane whose change of heart and subsequent love towards Cummings is never quite believable.<br /><br />The other major support player is, of course, Hitchcock himself who bookends the film with 2 extraordinary stunts. Many people criticise the older films for their lack of realistic special effects. My feelings are that with lack of technology, to even attempt and convey what the director wants to show is an amazing achievement.<br /><br />Obviously this film carries an anti-fascist message, made at the time of the Second World War, but being a Hitchcock it is never the most important thing and the emphasis is always on the action. Well worth checking out, especially for the support roles.\n",
      "--------------------------------------------------------------------------------\n"
     ]
    },
    {
     "name": "stdin",
     "output_type": "stream",
     "text": [
      "Sentiment (p/n/q):  p\n"
     ]
    },
    {
     "name": "stdout",
     "output_type": "stream",
     "text": [
      "\n",
      "================================================================================\n",
      "Review #17:\n",
      "--------------------------------------------------------------------------------\n",
      "The movie starts quite with an intriguing scene, three people are drinking and making small talk in a bar. All of them are making up a bit outrageous stories. As the movie unfolds, it turns out that the most outrageous story is true. However, beyond that the movie is not very interesting except for the scene in the bar and the scene where main secret is revealed. This revelation happens barely half time into the movie and frankly, not much is left to be seen. The rest of the time director is lingering in a god forsaken Russian village full of pitiful and creepy old ladies. Sure, these are fascinating and a bit shocking images, but admiring them goes on way too long, sacrificing any possible plot or character development. I found this movie as another example of either lousy or lazy movie-making, where instead of trying to make an interesting story, movie makers concentrate on weirdly fascinating imagery and through in a few almost unrelated stories (case in point - meat trader's story) to leave the spectator to figure out all odds and ends. On a surface it has artsy appearance, but in this particular case is nothing more than lack of talent.\n",
      "--------------------------------------------------------------------------------\n"
     ]
    },
    {
     "name": "stdin",
     "output_type": "stream",
     "text": [
      "Sentiment (p/n/q):  n\n"
     ]
    },
    {
     "name": "stdout",
     "output_type": "stream",
     "text": [
      "\n",
      "================================================================================\n",
      "Review #145:\n",
      "--------------------------------------------------------------------------------\n",
      "Recreation of 1950's (London) Soho and the up-and-coming people. Based on a cult novel.<br /><br />Julian Temple is a video director. No more, no less. Give him 15 million dollars and he will make you a 15 million dollar pop video. Here he forgets that two minutes with people that can't really act is one thing - but two hours? What was he thinking of. Besides who are the audience? Who cares about a book that was well remembered way-back-when. The usual London story of the chancer taking his chance. <br /><br />What could really drag this film even further down? Oh I know, third rate songs that sound like they were made up on the spot. David Bowie crones the film title over and over a few times and that is the highlight. The soundtrack album is clay pigeon material.<br /><br />There is one good thing though. Good recreation of period Soho. Shame they couldn't think of anything to put in front of it.\n",
      "--------------------------------------------------------------------------------\n"
     ]
    },
    {
     "name": "stdin",
     "output_type": "stream",
     "text": [
      "Sentiment (p/n/q):  n\n"
     ]
    },
    {
     "name": "stdout",
     "output_type": "stream",
     "text": [
      "\n",
      "================================================================================\n",
      "Review #19:\n",
      "--------------------------------------------------------------------------------\n",
      "This TV-series was one of the ones I loved when I was a kid. Even though I see it now through the pink-shaded glasses of nostalgia, I can still tell it was a quality show, very educational but still funny. I have not seen the original French version, only the Swedish. I have no idea how good the dubbing was, it was too long ago to remember.<br /><br />The premise of the show was to show you how the body works. I swear, school still hasn't taught me half of what I know from this show. It also tied in other things, like what happens if you eat unhealthy food and don't exercise, with nice examples within the body. Who wants to have another bar of chocolate when you know miniature virus tanks can invade you? :D The cartoon looked nice, very kids friendly of course, but done with care. Cells, viruses, electric signals in the brain, antibodies and everything else are represented by smiling cartoon figures, looking pretty much how you'd expect what they should look like in the animated body.<br /><br />This, and the series about history(especially the environmentally scary finale) were key parts of my childhood. I'm so happy I found them here.\n",
      "--------------------------------------------------------------------------------\n"
     ]
    },
    {
     "name": "stdin",
     "output_type": "stream",
     "text": [
      "Sentiment (p/n/q):  p\n"
     ]
    },
    {
     "name": "stdout",
     "output_type": "stream",
     "text": [
      "\n",
      "================================================================================\n",
      "Review #23:\n",
      "--------------------------------------------------------------------------------\n",
      "Really!Here the French cinema hits rock bottom ,and compared to it, the least appealing of the American adolescent horror movies,the likes of \"Friday the thirteenth\" \"Freddy\" and co are masterpieces of the seventh art.<br /><br />It's all the more infuriating as there were exciting original elements :the forêt de Brocéliande and its legends ,the druids and King Arthur ,all were splendid assets for a dreamlike fantasy and horror film.Alas! Filmed ,as an user aptly pointed out in a fake forest,near Paris ,the movie is fake horror,fake Celtic history,fake vestiges -you should see the professor (Wilms who was a wonderful M.Le Quesnoy in \"la vie est un long fleuve tranquille) scream for the \"invaluable scrap\" -which the production probably bought in a dime store-fake characters ,fake excavations...<br /><br />The boys disguised as druids are unintentionally very funny ;so are the girls who seem to be experts in martial arts.And what can we say of the professors? of the monster? A ten year old would write a better screenplay than this grotesque farce.To think that people can spend money for such drivel when artists are still waiting for a producer!<br /><br />Word to the wise:Maurice Leblanc wrote a marvelous story dealing with druids and old ceremonies in his Arsene Lupin saga called \"l'île aux trente cercueils\" .A miniseries was made 30 years ago.Avoid this \"Broceliande\" garbage and try to see it instead.\n",
      "--------------------------------------------------------------------------------\n"
     ]
    },
    {
     "name": "stdin",
     "output_type": "stream",
     "text": [
      "Sentiment (p/n/q):  n\n"
     ]
    },
    {
     "name": "stdout",
     "output_type": "stream",
     "text": [
      "\n",
      "================================================================================\n",
      "Review #24:\n",
      "--------------------------------------------------------------------------------\n",
      "Even with all the cinema dealing with the trauma of the Vietnam War (Jacob's Ladder, The Deer Hunter, Apocalypse Now, and Taxi Driver to an extent) one feels that we don't even know the half of what happened. Even contemplating the horror feels inhuman. And a progression - or retreat? - to the inhumanity that it necessitates is a key part of Apocalypse Now, Coppola's greatest and one of the most important films ever made. Loosely based on Joseph Conrad's 1902 classic, \"Heart of Darkness\" which chronicles the loss of sanity and corruption of morality that comes with distance from civilization - a surfacing of a bestial nature, as it were, a la Lord of the Flies - it brings the story of a physical and psychological journey to Vietnam. The story is of Willard, a general commissioned on a special mission to Cambodia after his first tour of duty in Vietnam is served. Willard at the beginning of the film is stuck in Saigon, psychologically unable to go back home - eerily echoing Nicky in The Deer Hunter. So he is contacted: his mission is to assassinate a renegade Green Beret who has isolated himself in a remote outpost on the Nung River, and who has purportedly gone completely insane - worshiped like a god by the natives, and killing indiscriminately. This man's name is Colonel Kurtz, played by Marlon Brando in the second best role of his career (the best being Stanley Kowalski in A Streetcar Named Desire). As Willard journeys upriver in an army boat with some soldiers accompanying, his witnessing the horrors and the insanity - and the overwhelming pointlessness of it all - leads to an eerie sympathy and identification with Kurtz before they even meet. By the time they do, Kurtz's methods don't really seem as wrong or as they should, and they certainly don't seem too unusual or out-of-place. Apocalypse - a place beyond morality, the outpost on the end of the world. The loss of civilization, the loss of judgement, of self. Kurtz's monologue about an atrocity he witnessed as a Green Beret, and his later revelation, is one of the most chilling and well-delivered speeches in cinema history. The film is about trauma, about the human spirit and its breaking point - here, it's a lot like The Deer Hunter, and just as good. Apocalypse, however, takes the boundaries of what we can endure to a global level - Coppola's sweeping footage of the humid, murky jungles of Cambodia and an opening sequence of helicopters amid exploding forests and an orange sky - set to an oddly fitting Doors soundtrack - as well as chilling scenes on the river and of an air raid on a village with Wagner blasting from speakers (a scene which has gone down as one of the most chilling, darkly humorous, and strikingly pointless war scenes ever) - this all contributes to the sense of Apocalypse - the end of the world - and not at some distant point in the future, but Apocalypse Now and forever. The Deer Hunter is much more up close and personal, you can even tell by the title, and shows the totalling effect trauma has on the individual psyche, the breaking down of the human soul, and its ability to either surrender completely to forces of darkness, or to limp on. This is why both films are equal - they are two parts of the same thing. In \"Heart of Darkness\", Kurtz is shown as conflicted between morality (civilization) and his inner savage. In Apocalypse Now, Kurtz has left all conflict behind. He is beyond good and evil. He has let go of morality like a drowning man lets go of a saving hand in the moments before his death. Kurtz indeed is only waiting for death, quoting T. S. Eliot in his temple to himself, lost in the jungle. His last words, and the words echoed at the end of the movie, are, \"The horror...the horror.\" He is referring to the infinite void of existence, of the human psyche, and to the pitch black emptiness within his own mind, where atrocities are born again. It is impossible to express in words the experience one goes through watching this film - the experience, in short, that Willard experiences on his journey. The end part, at the outpost, almost in fact comparable to its brother scene in The Deer Hunter, is one of the most deeply, calmly, and seductively disturbing things I've ever seen.\n",
      "--------------------------------------------------------------------------------\n"
     ]
    },
    {
     "name": "stdin",
     "output_type": "stream",
     "text": [
      "Sentiment (p/n/q):  p\n"
     ]
    },
    {
     "name": "stdout",
     "output_type": "stream",
     "text": [
      "\n",
      "================================================================================\n",
      "Review #153:\n",
      "--------------------------------------------------------------------------------\n",
      "let's value it.<br /><br />entertainment: a trashy script which has been typed by unintelligent people in front of typewriters a thousand times.. pathetic acting that is thwarted by the story...OK production value, including good set/location and gorgeous girl.. -rating 4/10 <br /><br />social message: the movie has no social message. it's thought free... .but if I pretend I were 10, and my IQ were 70. I feel the message is:don't be afraid to love? -rating 0/10<br /><br />objectionable things: nothing special, just the mild Jewish hedonic and arrogant attitude that is presented by the writer/director. generally speaking, good , nothing degenerate -8/10<br /><br />overall rating is 4/10\n",
      "--------------------------------------------------------------------------------\n"
     ]
    },
    {
     "name": "stdin",
     "output_type": "stream",
     "text": [
      "Sentiment (p/n/q):  n\n"
     ]
    },
    {
     "name": "stdout",
     "output_type": "stream",
     "text": [
      "\n",
      "================================================================================\n",
      "Review #283:\n",
      "--------------------------------------------------------------------------------\n",
      "I would put this at the top of my list of films in the category of unwatchable trash! There are films that are bad, but the worst kind are the ones that are unwatchable but you are suppose to like them because they are supposed to be good for you! The sex sequences, so shocking in its day, couldn't even arouse a rabbit. The so called controversial politics is strictly high school sophomore amateur night Marxism. The film is self-consciously arty in the worst sense of the term. The photography is in a harsh grainy black and white. Some scenes are out of focus or taken from the wrong angle. Even the sound is bad! And some people call this art?<br /><br />\n",
      "--------------------------------------------------------------------------------\n"
     ]
    },
    {
     "name": "stdin",
     "output_type": "stream",
     "text": [
      "Sentiment (p/n/q):  n\n"
     ]
    },
    {
     "name": "stdout",
     "output_type": "stream",
     "text": [
      "\n",
      "================================================================================\n",
      "Review #155:\n",
      "--------------------------------------------------------------------------------\n",
      "A quick glance at the premise of this film would seem to indicate just another dumb '80's inbred/backwood slash-fest; the type where sex equals death and the actors are all annoying stereotypes you actually want to die. However, \"JBD\" delivers considerably more.<br /><br />Rather than focus on bare flesh and gore (though there is a little of each- no sex however), the flick focuses on delivering impending dread/mounting tension amidst a lovely scenic backdrop. These feelings are further heightened by a cast of realistically likable characters and antagonists that are more amoral than cardboard definitions of evil. Oh yeah- George Kennedy is here too and when is that not a good thing? <br /><br />If you liked \"Wrong Turn\", then watch this to see where much of its' methodology came from.\n",
      "--------------------------------------------------------------------------------\n"
     ]
    },
    {
     "name": "stdin",
     "output_type": "stream",
     "text": [
      "Sentiment (p/n/q):  p\n"
     ]
    },
    {
     "name": "stdout",
     "output_type": "stream",
     "text": [
      "\n",
      "================================================================================\n",
      "Review #31:\n",
      "--------------------------------------------------------------------------------\n",
      "What a gas of a movie! \"Film Noir\" has always been one of my favorite genres, but this one stands apart from the rest. Only \"The Big Sleep\", \"Out of the Past\", \"Murder My Sweet\", and \"The Killers\" can come close to this caper classic. I know these four American films I mentioned are not caper movies per se, but rather detective stories with complicated story lines, which still exude a \"noirean\", gritty quality about them, similar to \"Rififi\".<br /><br />What is different here is the way Jules Dassin sets into motion the total ambiance of the film, not only in the gritty realism of the principals, but also in the usage of the streets of Paris as a subliminal character and co-conspirator unto itself! The movie centers around \"le Stephanois\", a dark, moody and complicated ex-con getting pulled into one last shot at the hefty payoff. Even though he is an unsmiling and hard-nosed tough guy, one still senses in him a yearning for some kind of redemption by extricating himself from the demons of his past (hey, he saved little Toni!). Dassin picked the right guy (Jean Servais) for that role.<br /><br />That aside, the rest of the story development kind of falls into place as we journey through the famous \"silent\" caper scene to the the eventual demise of the principal \"perps\". Only their women survive, except for Ida, Mario's honey. They seemed to best understand the underlying futility of it all!\n",
      "--------------------------------------------------------------------------------\n"
     ]
    },
    {
     "name": "stdin",
     "output_type": "stream",
     "text": [
      "Sentiment (p/n/q):  p\n"
     ]
    },
    {
     "name": "stdout",
     "output_type": "stream",
     "text": [
      "\n",
      "================================================================================\n",
      "Review #288:\n",
      "--------------------------------------------------------------------------------\n",
      "If anyone tells you this picture is just terrific they probably have something to do with either making it or profiting from it. This film is a real loser and it copies situations from big budget horror movies and not to mention soundtracks to. I wouldn't recommend this one to my worst enemy. It is a low budget movie with amateur actors. It looks like it was filmed for a film contest. The acting is terrible and it wouldn't surprise me if the script was written by a Hee Haw script writer. My family laughed at it. A Grade ZZZZZZZZZZZZZ all the way. You won't be scared by this one. Here is one little taste of the terrible elements of this film. When the guy gets his toe stomped by Ric White's stupid portrayal of the Reverend James Johnston walking cane. The guys reactions are like if he had an amputation with no pain killer. Watch the DVD extras after you watch the movie. When you see Ric White and others talk so seriously about the movie you will laugh till your stomach hurts. How people will stretch the truth and what they will do to earn a dishonest buck. Don't get fooled like we did and buy this failure.\n",
      "--------------------------------------------------------------------------------\n"
     ]
    },
    {
     "name": "stdin",
     "output_type": "stream",
     "text": [
      "Sentiment (p/n/q):  n\n"
     ]
    },
    {
     "name": "stdout",
     "output_type": "stream",
     "text": [
      "\n",
      "================================================================================\n",
      "Review #33:\n",
      "--------------------------------------------------------------------------------\n",
      "This is not a very good movie, but it's not a stinker either. It is very confusing and unnecessarily long so rent it at your own risk.<br /><br />My GF and I have figured this movie out (we think) so here it is:<br /><br />***MAJOR SPOILERS BELOW***<br /><br />Firstly, this movie is actually quite simple after you remove all of the confusing unconscious-dream-state junk (95% of the movie.)<br /><br />Ignoring the junk, what REALLY happened is this: A group of school friends go to a rave one night. They leave and get into a car accident where everyone but Cassie and Sean die. That's the simple cut down version. (That's right, I said Sean, bear with me)<br /><br />Right after the accident, Cassie lays in the hospital stuck in between life & death right up until the very end of the movie. This is where the dream part starts.<br /><br />The movie is called SOUL Survivors, right? Cassie's mind and soul carries on after the accident interacting with the other souls (Annie, Matt, Raven, the 2 weirdos and Jude) along with images conjured up by her mind (Sean, school and everything else around her). The souls continue doing what they were defined as: Annie the rave-going chick, the 2 weirdo-killers (from opening scene), Father Jude still helping people etc.<br /><br />We are then taken on a very long ride, shown lots of images (many of which my GF and I still can't tie in) but it all boils down to it not being Cassie's time to die.<br /><br />At the end, Cassie wakes up in the hospital after being \"dead\" for a while. Her family and Sean are there. This is reality again. She's OK.<br /><br />Then the director adds a little extra spice by trying to confuse us again by showing a little dream snippet of her in the wheelchair being strangled. But this part is really just a nightmare, and she wakes up beside Sean, obviously still dealing with her traumatic experience.<br /><br />Due to space restrictions, we didn't cover every little thing, but feel free to drop us an e-mail if you want to.<br /><br />\n",
      "--------------------------------------------------------------------------------\n"
     ]
    },
    {
     "name": "stdin",
     "output_type": "stream",
     "text": [
      "Sentiment (p/n/q):  p\n"
     ]
    },
    {
     "name": "stdout",
     "output_type": "stream",
     "text": [
      "\n",
      "================================================================================\n",
      "Review #289:\n",
      "--------------------------------------------------------------------------------\n",
      "Return of the Jedi is certainly the most action packed of the series, and is a fine conclusion to the Star Wars Saga. With Han Solo imprisoned by Jabba the Hut and the Empire building a new Death Star, the rebel alliance is facing an uphill struggle against the dark side, and only our favourite heroes can pull it off.<br /><br />The Opening sequence, set on Tatooine, we see Jabba's palace, a pit of slavery and scum, and new home to Han Solo, as Luke and the gang prepare for his rescue, and with Luke's Jedi powers, they have the edge.<br /><br />We also witness a tremendous triple battle at the end. Han, Leia and Chewy battle it out on Endor, desperate to deactivate the shields protecting the Death Star. The Rebel Fleet led by Lando, battle with the Imperial Fleet while they wait for the shields to go down, and Luke has a final showdown with Darth Vader. An Epic end to a Classic Saga, and it's only just of the pace of the first two.<br /><br />10/10\n",
      "--------------------------------------------------------------------------------\n"
     ]
    },
    {
     "name": "stdin",
     "output_type": "stream",
     "text": [
      "Sentiment (p/n/q):  p\n"
     ]
    },
    {
     "name": "stdout",
     "output_type": "stream",
     "text": [
      "\n",
      "================================================================================\n",
      "Review #41:\n",
      "--------------------------------------------------------------------------------\n",
      "This series was just like what you would expect from Mr.Spielberg. It is truly one of those frighting, funny, childish shows that you won't forget. Just like Outer Limits (another great show) this little series does what not a lot can. It was great, and deserved to run longer. It was a great show, that even kids could watch, though some of the shows were a little scary when they wanted to be, but all of them always had a moral at the end (like the Twilight Zone) that made you realize what situation you didn't want to end up in, or ones that you did. I remember watching some of these on Sci-fi when I was 10, and even now, I still enjoy seeing them when I can. Truly a fun, imaginative show. I loved it, and still do.\n",
      "--------------------------------------------------------------------------------\n"
     ]
    },
    {
     "name": "stdin",
     "output_type": "stream",
     "text": [
      "Sentiment (p/n/q):  p\n"
     ]
    },
    {
     "name": "stdout",
     "output_type": "stream",
     "text": [
      "\n",
      "================================================================================\n",
      "Review #42:\n",
      "--------------------------------------------------------------------------------\n",
      "i should qualify that title, now that i think about it. Checkout is not entirely worthless. i've had the opportunity to see it twice, and on the second time i did get a great laugh at the movie's expense. so i guess it's worth something for that. and also it's worthwhile for the excruciating pain it caused me on my first viewing. as another reviewer pointed out, this film is hackneyed in every sense of the word. not a single original thought went into this movie (which makes the comment below about the originality of the premise entirely baffling to me). the film is nothing but a long line of cliches which are strung together and paraded around as a movie. it is definitely not the next Clerks, it is definitely not original, and it is absolutely not \"good, clean fun.\" the film is absolute agony to the uninitiated (after seeing it a first time, the second time can be quite funny, in an insulting sort of way). as i looked around the theater, it was obvious that nearly everyone, barring perhaps the elderly, were completely bored or pained by this movie. during some of the particularly emotional scenes, like where Nick chews out his mother, the audience was actually cringing because it was so poorly done. i even heard someone *groan* in the theater, something i had heretofore never witnessed. i don't care where you have the chance to see this movie, be it at a film festival, or in a indie theater, or wherever. do yourself a favor, skip this movie with a vengeance. unless you're like me and just can't resist the opportunity to see what may truly be the worst movie ever made.\n",
      "--------------------------------------------------------------------------------\n"
     ]
    },
    {
     "name": "stdin",
     "output_type": "stream",
     "text": [
      "Sentiment (p/n/q):  n\n"
     ]
    },
    {
     "name": "stdout",
     "output_type": "stream",
     "text": [
      "\n",
      "================================================================================\n",
      "Review #44:\n",
      "--------------------------------------------------------------------------------\n",
      "This is one horror movie based TV show that gets it right. Friday the 13th the series had no connection to the movies. Poltergeist the legacy: I'm not so sure. It may have been loosely connected to the movies. It feels like they just throw a famous title on a show so fans will watch it.<br /><br />It shows Freddy being burned by the Elm street parents(in the 1st episode I believe) and the amount of parents were disappointing. With all the kids he targeted in the 1st 3 movies, you'd expect there to be more parents. But oh well.<br /><br />Freddy is basically the narrator for the show. He watches the actions of people in the real world sometimes getting involved somehow. Just like other anthology shows like Tales from the crypt, there's a supernatural or surprise ending twist involved.<br /><br />The acting lacks but believe it or not: the violence sometimes surpasses that of the movie. This show lasted a couple of seasons and was made around the time of the 4th movie. i heard it was canceled due to protesting parents. I watched a lot of R rated stuff as a kid, so its a shame parents had to ruin it for everyone. 4 more movies came after the series , so it wasn't a total loss.\n",
      "--------------------------------------------------------------------------------\n"
     ]
    },
    {
     "name": "stdin",
     "output_type": "stream",
     "text": [
      "Sentiment (p/n/q):  p\n"
     ]
    },
    {
     "name": "stdout",
     "output_type": "stream",
     "text": [
      "\n",
      "================================================================================\n",
      "Review #173:\n",
      "--------------------------------------------------------------------------------\n",
      "Obviously, the comments above that fawn over the movie were made by someone who's on the crew. I don't recall ever seeing a movie that's more insulting to the talented actors or the audience watching. In my 30 years of watching movies, this is the only one I have ever walked out of. Bad humor, bad jokes, bad gags, bad editing, bad plot, etc. <br /><br />Note to producer: It's never funny to hunt humans based on race. Great that you tried to be politically correct by incorporating all races, but you're still hunting humans based on race, and that's sickening.\n",
      "--------------------------------------------------------------------------------\n"
     ]
    },
    {
     "name": "stdin",
     "output_type": "stream",
     "text": [
      "Sentiment (p/n/q):  n\n"
     ]
    },
    {
     "name": "stdout",
     "output_type": "stream",
     "text": [
      "\n",
      "================================================================================\n",
      "Review #175:\n",
      "--------------------------------------------------------------------------------\n",
      "'Nemesis' was the last book to feature Miss Marple written by Agatha Christie (the official final case 'Sleeping Murder' was written in the forties) and I've always had a very soft spot for it. I loved the characters and they are lovingly brought to life in this excellent BBC adaptation with Joan Hickson, terrific as ever, as Miss Marple.<br /><br />On the whole it is very faithful to the book. A few characters are dropped, the first (new) murder is slightly different and a couple of new characters are introduced. Personally I felt that the added character of Lionel Peel was unnecessary and rather irritating. Tour guide Madge was irritating in a different way but often quite amusing. It's largely because of Lionel that I don't award 10 out of 10! The other characters are beautifully done especially Helen Cherry as a dignified Miss Temple and all of the three weird sisters but particularly Margaret Tyzack who gives a towering performance as Clothilde. She threatens to go over the top towards the end but just avoids it. The female bodyguards are good value too and the episode contains one of my favourite Hickson lines...'An Archdeacon?!' <br /><br />This is another relatively early BBC Marple that looks wonderful and is has a gloriously nostalgic feel to it. Highly recommended.\n",
      "--------------------------------------------------------------------------------\n"
     ]
    },
    {
     "name": "stdin",
     "output_type": "stream",
     "text": [
      "Sentiment (p/n/q):  p\n"
     ]
    },
    {
     "name": "stdout",
     "output_type": "stream",
     "text": [
      "\n",
      "================================================================================\n",
      "Review #184:\n",
      "--------------------------------------------------------------------------------\n",
      "Now that's it's 2008, who really has a care in the world about a guy like DB Sweeney, even back then he wasn't a big deal.<br /><br />Two Tickets to Paradise is an outlined story that's well and true where three friends hit the road under each of their personal circumstances. Again, a proved plot. The problem with this film, other than it's 'so bad it's compelling' title, is the script.<br /><br />Cliché after cliché three guys do the same things you've seen in every other road movie... and blow up vanna white's house.<br /><br />John C. McGinley's acting job is superb, especially compared to that of the late DB Sweeney's. (His career is dead, hence the late. though i hear he's moving to TV, good for him). Also, John C likely has the least awful character in the film.<br /><br />The score is so generic it actually feels like you're watching a third rate film from 1993, or Jeff Anderson's movie Now You Know (also set me back a few years, but at least that was more entertaining.) I mean, yah, i guess i enjoyed parts of it. But, the nerdy guy is annoying, DB tries to be this cool failed guitar player (with some rough influences, like some of the worst of classic rock) who has some strange relationship with a stripper, and John C is a gambler who's wife and kid leave him after the death of his father as well as a visit from one of his bookie's henchmen.<br /><br />I keep thinking up ways to make this movie better. But i think burning the script would have been a healthy start.<br /><br />But, as i've hinted this whole time, it's not the worst movie ever. And any chance i have to see McGinley in a starring role, i'll take it. Hopefully he starts getting some better projects.\n",
      "--------------------------------------------------------------------------------\n"
     ]
    },
    {
     "name": "stdin",
     "output_type": "stream",
     "text": [
      "Sentiment (p/n/q):  n\n"
     ]
    },
    {
     "name": "stdout",
     "output_type": "stream",
     "text": [
      "\n",
      "================================================================================\n",
      "Review #187:\n",
      "--------------------------------------------------------------------------------\n",
      "When one watches the animated Superman shorts of the 1940s, the similarity of the plots can become a bit boring - the adversary is most often a mad scientist in a hidden headquarter, threatening Metropolis with some evil invention - death rays, mechanical monsters, electric earthquake, magnetic telescope, what have you.<br /><br />This one is refreshingly different. The bad ones drive around in a car, shooting and bombing, but the center of action is the gold train (on which Lois Lane travels, as the only press reporter, it seems). Train movies have their own typical ingredients, from the 1903 Great Train Robbery on, and quite some are featured here: decoupling cars in motion, running on the roofs, taking the steam locomotive from the tender in the back, fighting with the engineer, a switch turned to deroute the train on a side track, the fall (of people or the whole train) from a high bridge... it's all in the few minutes of this lovely piece.<br /><br />But it wouldn't be a Superman film if he didn't do some incredible feats (involving balancing and high-precision placement) to ultimately win the day. If you're a fan of train movies, don't miss this. It's in the public domain and can be legally downloaded from archive.org.\n",
      "--------------------------------------------------------------------------------\n"
     ]
    },
    {
     "name": "stdin",
     "output_type": "stream",
     "text": [
      "Sentiment (p/n/q):  p\n"
     ]
    },
    {
     "name": "stdout",
     "output_type": "stream",
     "text": [
      "\n",
      "================================================================================\n",
      "Review #192:\n",
      "--------------------------------------------------------------------------------\n",
      "So Dark The Night poses a tough challenge: It's very hard to write about it in any detail without ruining it for those who haven't yet seen it. Since it remains quite obscure, that includes just about everybody. The movie will strike those familiar with its director Joseph H. Lewis' better known titles in the noir cycle  Gun Crazy, The Big Combo, even My Name Is Julia Ross, which in its brevity it resembles  as an odd choice.<br /><br />For starters, the bucolic French countryside serves as its setting. Steven Geray, a middle-aged detective with the Surété in Paris, sets out for a vacation in the village of Ste. Margot (or maybe Margaux). Quite unexpectedly, he finds himself falling in love with the inkeepers' daughter (Micheline Cheirel), even though she's betrothed to a rough-hewn local farmer. But the siren song of life in Paris is hard to resist, so she agrees to marry him, despite the disparity in their ages, which inevitably becomes the talk of the town. <br /><br />But on the night of their engagement party, she fails to return to the inn. Soon, a hunchback finds her body by the river. Her jealous, jilted lover is the logical suspect, but he, too, is found dead. Then anonymous notes threaten more deaths, which come to pass. For the first time in his career, the bereaved Geray finds himself stumped....<br /><br />A particularly weak script all but does the movie in; it plays like bad Cornell Woolrich crossed with The Murder of Roger Ackroyd. But Lewis does this creaky vehicle proud. He takes his time near the beginning, but then the story  and the storytelling  gain momentum (alas, just about the time the script breaks an axle). Burnett Guffey lighted and photographed the film, with an intriguing leitmotif of peering out of and peeping into windows; there's also an effective score by Hugo Friedhofer, who supplied aural menace to many noirs. A good deal of talent has been lavished on So Dark The Night, but at the end it boils down to not much more than a gimmick  and not a very good gimmick at that. It's a one-trick pony of a movie.<br /><br />\n",
      "--------------------------------------------------------------------------------\n"
     ]
    },
    {
     "name": "stdin",
     "output_type": "stream",
     "text": [
      "Sentiment (p/n/q):  n\n"
     ]
    },
    {
     "name": "stdout",
     "output_type": "stream",
     "text": [
      "\n",
      "================================================================================\n",
      "Review #193:\n",
      "--------------------------------------------------------------------------------\n",
      "S l o w, l o n g, d u l l. . .<br /><br />Oh my god, dull. <br /><br />Characters so annoying - you'll cringe every time you see Jimy Smits, or the guy that played tomtom from now on. They must have never rehearsed or reviewed the film in progress. Mel Gibson was absolutely wooden.<br /><br />This may not be the worst movie ever made, but that it went almost straight to video says it is darn close.<br /><br />\n",
      "--------------------------------------------------------------------------------\n"
     ]
    },
    {
     "name": "stdin",
     "output_type": "stream",
     "text": [
      "Sentiment (p/n/q):  n\n"
     ]
    },
    {
     "name": "stdout",
     "output_type": "stream",
     "text": [
      "\n",
      "================================================================================\n",
      "Review #68:\n",
      "--------------------------------------------------------------------------------\n",
      "I like the good things in life as much as anybody, I suppose, but until about five years ago, opera didn't figure into my entertainment choices. Oh, I made a few attempts to learn what all the fuss was about; I'd watched several television productions -- notably parts of Wagner's Ring Cycle on public television -- hoping to understand other people's fascination with the art form. And I knew I could like parts of various operas (I remember being surprised as a kid that I actually LIKED the snippets of \"Madame Butterfly\" in \"My Geisha, and I enjoyed the opera scenes in \"Moonstruck\" and \"Pretty Woman\"), but unlike the characters in those films, I just didn't \"get it.\"<br /><br />Then in 1995 I saw a live performance of \"Rigoletto\" presented by the New York City Opera Company, and that night I \"got it.\" What a wonderful, glorious pageant of color and music and raw Emotion! And I do mean Emotion with a capital E! The key, I think, is that the operatic music allows the performers to over-act freely and believably in a way that would seem silly if their words were just spoken. Everything hinges on the music, of course, and when the music is magical, as it is in \"Rigoletto,\" an opera can be a magnificent entertainment.<br /><br />A sympathetic family member gave me a laserdisc copy of the 1982 TV production of the opera, and I've found that since I can't see live performances of \"Rigoletto\" live on a regular basis, this video version is a fine substitute. Luciano Pavarotti is perfect in the part of the Duke; Ingvar Wixell is excellent as his mean-spirited court jester Rigoletto; and Rigoletto's beloved daughter Gilda is played by the somewhat plain-featured Edita Gruberova. The sets and costumes are lavish, and the location shots on the river late in the film bring a heightened sense of drama to the story that could never be matched on a stage.<br /><br />If you've never seen \"Rigoletto,\" or if you think you don't like or understand opera, I urge you to find this one on videotape and buy it or rent it. If you don't like this, if this production of \"Rigoletto\" doesn't make you appreciate the power of the art form of opera, well, just give it up and move on to something else. But I suspect, if you're new to opera as I was, that you'll be pleasantly surprised.<br /><br />Bill Anderson\n",
      "--------------------------------------------------------------------------------\n"
     ]
    },
    {
     "name": "stdin",
     "output_type": "stream",
     "text": [
      "Sentiment (p/n/q):  p\n"
     ]
    },
    {
     "name": "stdout",
     "output_type": "stream",
     "text": [
      "\n",
      "================================================================================\n",
      "Review #197:\n",
      "--------------------------------------------------------------------------------\n",
      "this movie has a decent story in my opinion,very good fight scenes but i was a little bit disappointed by the end of the movie.i think that it was a way better if lydie denier knew karate also or if she knew to use some weapons,her character has become more interesting too and she was a decent opponent to cynthia.i think when the director filmed the final 'battle' between cynthia&denier he wanted to finish the movie earlier so he didn't care how the end was going to be.all in all i think that fans of cynthia rothrock will be very satisfied watching this movie.it's not like 'yes,madam'! or sworn to justice but it was entertainment enough and cynthia looks awesome in this movie so my rate for this movie is a solid 8/10\n",
      "--------------------------------------------------------------------------------\n"
     ]
    },
    {
     "name": "stdin",
     "output_type": "stream",
     "text": [
      "Sentiment (p/n/q):  n\n"
     ]
    },
    {
     "name": "stdout",
     "output_type": "stream",
     "text": [
      "\n",
      "================================================================================\n",
      "Review #69:\n",
      "--------------------------------------------------------------------------------\n",
      "Seeing this film for the first time twenty years after its release I don't quite get it. Why has this been such a huge hit in 1986? Its amateurishness drips from every scene. The jokes are lame and predictable. The sex scenes are exploitative and over the top (that is not to say that Miss Rudnik does not have nice boobs!). The singing is \"schrecklich\". The only genuinely funny scene is the big shoot out when the gangsters die break dancing, a trait that dates the movie firmly to the mid-eighties. It's really quite puzzling to me how incapable I am to grasp what evoked the enthusiasm of the cheering audiences in 1986 (and apparently still today, reading my fellow IMDBers comments).\n",
      "--------------------------------------------------------------------------------\n"
     ]
    },
    {
     "name": "stdin",
     "output_type": "stream",
     "text": [
      "Sentiment (p/n/q):  n\n"
     ]
    },
    {
     "name": "stdout",
     "output_type": "stream",
     "text": [
      "\n",
      "================================================================================\n",
      "Review #199:\n",
      "--------------------------------------------------------------------------------\n",
      "The dominating conflict is between a couple of fine actors (Huppert and Dutronc) and the horrible script. Evidently, the actors lost, since the director/screenwriter Claude Chabrol eventually forced the leading couple to follow this worthless piece of sick imagination to the letter. Fortunately, the powerful performances by Huppert and Dutronc dramatically improve the overall quality of the movie, which miraculously gains the depth and humor. As for Chabrol's persistence in keeping the film bland and illogical, it reaches the climax in the final scene, which is so incredibly poor that you will wonder which pills he was taking himself while directing it.\n",
      "--------------------------------------------------------------------------------\n"
     ]
    },
    {
     "name": "stdin",
     "output_type": "stream",
     "text": [
      "Sentiment (p/n/q):  n\n"
     ]
    },
    {
     "name": "stdout",
     "output_type": "stream",
     "text": [
      "\n",
      "================================================================================\n",
      "Review #72:\n",
      "--------------------------------------------------------------------------------\n",
      "I have seen a lot of stupid movies in my life, a lot, but this is without a doubt the worst one ever! I usually like dumb movies, if they are somewhat entertaining, but I can't even think of one good thing about this movie. I like \"Teen Witch\" for Heaven's sake. But S.I.C.K. has horrible acting, lame porn music throughout the whole thing, and even the sex scenes sucked! I would have to compare the lameness of this movie to the likes of \"Twin Dragons\", \"Puppet Master vs the Demonic Toys\" or even \"a Very Brady Sequel\". Although, this is by far worse then any of those. I beg you, don't even waste your time. Believe me, its 2 hours you'll never get back.\n",
      "--------------------------------------------------------------------------------\n"
     ]
    },
    {
     "name": "stdin",
     "output_type": "stream",
     "text": [
      "Sentiment (p/n/q):  n\n"
     ]
    },
    {
     "name": "stdout",
     "output_type": "stream",
     "text": [
      "\n",
      "================================================================================\n",
      "Review #201:\n",
      "--------------------------------------------------------------------------------\n",
      "This movie is a good example of the extreme lack of good writers and directors in Hollywood. The fact that people were paid to make this piece of junk shows that there is a lack of original ideas and talent in the entertainment business. The idea that audiences paid to see this movie (and like an idiot I rented the film) is discouraging also.<br /><br />Obsessed teacher (3 years prior) kills teenager's family because he wants her. For no reason he kills the mother, father and brother. From the first five minutes you see the bad acting and direction. Years later, obsessed teacher breaks out of prison. HMM--usual bad writing--no one in the town he terrorized knows until the last minute. Obsessed teacher somehow becomes like a Navy SEAL and can sneak around, sniff out people and with a knife is super killer. Sure!!! Now obsessed teacher kills hotel maid for no reason, knifes bellhop for the fun of it, and starts to hunt down the teenager's friends. Now there is the perfect way to get the girl to love you. Obsessed teacher sneaks out of hotel---again it is stupid, ever cop would know his face--but he walks right by them. Now he kills two cops outside teenager's house and somehow sneaks into her bedroom and kills her boyfriend.<br /><br />There is not one single positive thing about this piece of garbage. If any other profession put out work of this low quality, they would be fired. Yet these idiots are making hundreds of thousands of dollars for writing and directing this trash.\n",
      "--------------------------------------------------------------------------------\n"
     ]
    },
    {
     "name": "stdin",
     "output_type": "stream",
     "text": [
      "Sentiment (p/n/q):  n\n"
     ]
    },
    {
     "name": "stdout",
     "output_type": "stream",
     "text": [
      "\n",
      "================================================================================\n",
      "Review #73:\n",
      "--------------------------------------------------------------------------------\n",
      "The story of the boy thief of Bagdad (as it was once spelled) has attracted filmmakers from Raoul Walsh in 1924, who starred Douglas Fairbanks in the first, silent, rendering of \"Thief of Bagdad,\" to less imposing, more recent attempts. The best, however, remains 1940's version which for its time was a startling, magical panoply of top quality special effects. Those effects still work their charm.<br /><br />No less than six directors are listed for the technicolor movie which starred Sabu as the boy thief, Abu, John Justin as the dreamily in love deposed monarch, Ahmad and June Duprez as the lovely princess sought by Ahmad and pursued by the evil vizier, Jaffar, played by a sinister Conrad Veidt. The giant genie is ably acted by Rex Ingram.<br /><br />Ahmad is treacherously deposed by Jaffar and when later arrested by that traitorous serpent, he and the boy, Abu, suffer what are clearly incapacitating fates. Ahmad is rendered blind and Abu becomes a lovable mutt. Their adventures through the gaily decorated Hollywood backlots are fun but the special effects make this film work.<br /><br />Two men were responsible for everything from a magic flying carpet to the gargantuan genie who pops out of a bottle with a tornado-like black swirl: Lawrence W. Butler and Tom Howard. (Howard, incidentally, did the special effects for the 1961 version of this film. Both men had long and distinguished careers in technical wizardry.)<br /><br />Duprez is outstandingly lovely while little called on for serious acting. Justin's Ahmad projects a driven but dreamy romanticism untouched by erotic impulses. Sabu is really the central actor in many scenes and he's very good. For a movie meant for kids as well as adults there's a fair amount of violence but of the bloodless kind. Still, I don't think anyone under eight ought to see \"Thief of Bagdad.\"<br /><br />This film makes periodic appearances on TV but today my teenage son and I saw it in a theater with quite a few youngsters present. It was great to see computer-besotted kids in an affluent community respond with cheers and applause to special effects that must seem primitive to them.<br /><br />\"Thief of Bagdad\" is a pre-war Hollywood classic from a time when strong production values often resulted in enduringly attractive and important releases. This is one of the best of its kind.<br /><br />9/10.\n",
      "--------------------------------------------------------------------------------\n"
     ]
    },
    {
     "name": "stdin",
     "output_type": "stream",
     "text": [
      "Sentiment (p/n/q):  p\n"
     ]
    },
    {
     "name": "stdout",
     "output_type": "stream",
     "text": [
      "\n",
      "================================================================================\n",
      "Review #71:\n",
      "--------------------------------------------------------------------------------\n",
      "This Film is the One which you fall in love with. Alfred Hitchcock shall always remain over the top of any directors of his time. The most influential aspects about his films are sheer Simplicity & Gripping Drama. The another best thing about Hitchcock's films is a Definite & Gripping End.<br /><br />Any thing said about \"The Man who knew too much\" is less. The Cinematography, Acting, Dialogs & Camera Works are magnificent in this Movie. The Song \"Que Sera Sera\" at the end shall remain in our memories for life time. The film is so enjoyable from start to end that we never know when it ends. Rarely would Hitchcock include humor in his films, this film has comic scenes which fits in to the movie. <br /><br />This film is absolutely brilliant & as good as Vertigo.\n",
      "--------------------------------------------------------------------------------\n"
     ]
    },
    {
     "name": "stdin",
     "output_type": "stream",
     "text": [
      "Sentiment (p/n/q):  p\n"
     ]
    },
    {
     "name": "stdout",
     "output_type": "stream",
     "text": [
      "\n",
      "================================================================================\n",
      "Review #76:\n",
      "--------------------------------------------------------------------------------\n",
      "I was watching this movie on Friday,Apr 7th. I didn't see the last scene ( cos I was talking with my bro n Mom in law at the same time ). Anyone can tell me what happened to her?I watched slightly that her husband was hearing someone was talking to his wife in the bedroom and then he opened the door,she's dead already.<br /><br />What happened to her? Did she kill herself? How could she arrange everything like the phone calls,meanwhile she's at home when her husband was talking to this strange admirer?Anyone can explain to me,please. I am so so curious!! ( in the end,I read that she suffered from Multiply Disorder Personality ).<br /><br />Thnks before.\n",
      "--------------------------------------------------------------------------------\n"
     ]
    },
    {
     "name": "stdin",
     "output_type": "stream",
     "text": [
      "Sentiment (p/n/q):  p\n"
     ]
    },
    {
     "name": "stdout",
     "output_type": "stream",
     "text": [
      "\n",
      "================================================================================\n",
      "Review #204:\n",
      "--------------------------------------------------------------------------------\n",
      "I thought before starting with these movie that it might be a good one, but when i started with it i found it really awful. They said movie is being made in Afghanistan but i think 95% of the movie is shot in India. you can see Indian made cars. you can see lars drinking bisleri(an Indian water brand), Hindi written on the road, you can also see temples in Afghanistan *hahah* its really funny and many more stuff which proves its not shot in Afghanistan. I think one should not waste his/her time watching this movie.. pure time waste.. i would recommend to do something else instead of watching this movie or may be might heart is better idea but don't watch this waste of time\n",
      "--------------------------------------------------------------------------------\n"
     ]
    },
    {
     "name": "stdin",
     "output_type": "stream",
     "text": [
      "Sentiment (p/n/q):  n\n"
     ]
    },
    {
     "name": "stdout",
     "output_type": "stream",
     "text": [
      "\n",
      "================================================================================\n",
      "Review #86:\n",
      "--------------------------------------------------------------------------------\n",
      "The show start out with the boat. Desmond was i it. Then they went to try to save Walt. And Lock things that the button pushing is a big joke at the same time Desmond found out that hes the one that crashed the plane. Eko tries to open the door that Jhon locked on him, and Charlie helped him find the Bomb. While Sayid and Jack plan is that, Sasyid is to find the others first and see who and what the other are. And find if there armed and have any weapons. <br /><br />Micheal takes Jack, Swayer, Kate, and Hugo in a trap. And they get caught.<br /><br />After the show there were more questions then answers, but that what makes the show great. And can't wait until Season 3\n",
      "--------------------------------------------------------------------------------\n"
     ]
    },
    {
     "name": "stdin",
     "output_type": "stream",
     "text": [
      "Sentiment (p/n/q):  p\n"
     ]
    },
    {
     "name": "stdout",
     "output_type": "stream",
     "text": [
      "\n",
      "================================================================================\n",
      "Review #214:\n",
      "--------------------------------------------------------------------------------\n",
      "I liked how this started out, featuring some decent special-effects especially for a film 50 years old. There was some pretty impressive scenery. However, the film bogs down fairly early on with some very dumb dialog as the males all try to flirt with Anne Francis \"Altaira Morbius.\")<br /><br />Viewing this in the '90s after a long absence, it was fun to see Francis again, an actress who has done mostly television shows since this film was released....and is still acting. It also was interesting to see a young-looking Leslie Nielsen (\"Dr. John J. Adams\"), who I wouldn't have recognized had it not been for this voice <br /><br />I watched half of this movie before the boredom came almost overwhelming and I had a strong desire to go to sleep. I appreciated them re-doing this VHS tape in stereo. but it was a weak effort. This is one those overrated film where \"elites\" think is so \"heavy\" and \"thought-provoking.\" That's nonsense. It only appeared \"intelligent\" because the rest of the '50s sci-fi films were so stupid!!<br /><br />Some if the early scenes would have looked great on wideescreen, which I didn't have at the time of this writing. Perhaps another look - this time on the 2.35:1 widescreen transfer would make me change this review.\n",
      "--------------------------------------------------------------------------------\n"
     ]
    },
    {
     "name": "stdin",
     "output_type": "stream",
     "text": [
      "Sentiment (p/n/q):  p\n"
     ]
    },
    {
     "name": "stdout",
     "output_type": "stream",
     "text": [
      "\n",
      "================================================================================\n",
      "Review #219:\n",
      "--------------------------------------------------------------------------------\n",
      "This film is described as a action/comedy. The first 15 minutes and James Belushi's presence point to it being a humorous gangster film.<br /><br />However, the introduction of the ridiculous female lead begins a number of ludicrous plot twists which do little to conceal the contrived ending. The film moves between comedy(description used loosely) and surreal drama with some out of context adult scenes thrown in. The lead female (the Angel of the title) is poorly acted and the actress is not helped by the script which requires some unbelievable, extremes of character to be portrayed. James Belushi is the only one who handles his part well but is also let down by the poor script. One to avoid.\n",
      "--------------------------------------------------------------------------------\n"
     ]
    },
    {
     "name": "stdin",
     "output_type": "stream",
     "text": [
      "Sentiment (p/n/q):  n\n"
     ]
    },
    {
     "name": "stdout",
     "output_type": "stream",
     "text": [
      "\n",
      "================================================================================\n",
      "Review #92:\n",
      "--------------------------------------------------------------------------------\n",
      "Man am I stoked I can leave feedback for this 10 minutes romp. I love it.<br /><br />After not seeing it in years, I happened upon it the other day and watched it over and over.<br /><br />'Stop shaking your eyes' and 'shake a rock and roll band' and 'stop sawing the table' are freaking classic lines.<br /><br />The art is delightfully raw. The dialog sparse and wonderful. Just find it and love it. Cannot recommend this enough.<br /><br />Thank you high school art teacher Mrs. Kogan for showing us this over and over. Thank you NFB for letting it be made. Thank you MTS for showing it (for free at the moment at least).<br /><br />I want a Big Snit t-shirt now. I'd love an animation cell, but at 440.00 a pop, that won't happen.<br /><br />Find this flick, and watch it.\n",
      "--------------------------------------------------------------------------------\n"
     ]
    },
    {
     "name": "stdin",
     "output_type": "stream",
     "text": [
      "Sentiment (p/n/q):  p\n"
     ]
    },
    {
     "name": "stdout",
     "output_type": "stream",
     "text": [
      "\n",
      "================================================================================\n",
      "Review #93:\n",
      "--------------------------------------------------------------------------------\n",
      "I'd like to start by saying I would not go see this movie again if they were giving out popcorn made of solid gold and the ticket granted me eternal life. This movie was terrible. I can't give this it a truly honest rating because there are no negative stars. The acting is absolutely terrible. This movie is a travesty, based on the classic, \"The Most Dangerous Game\". If you really want to torture yourself for 90 minutes rent something like Gigli. At least J-Lo provides some better scenery, Ben should pacify the ladies viewing it. I'm not upset about the $7 I paid to see the move, I'd just like the 90 minutes of my life back.<br /><br />\"Can you give me my time back!?!\" Samuel L. Jackson, Changing Lanes\n",
      "--------------------------------------------------------------------------------\n"
     ]
    },
    {
     "name": "stdin",
     "output_type": "stream",
     "text": [
      "Sentiment (p/n/q):  n\n"
     ]
    },
    {
     "name": "stdout",
     "output_type": "stream",
     "text": [
      "\n",
      "================================================================================\n",
      "Review #102:\n",
      "--------------------------------------------------------------------------------\n",
      "This movie is very scary with scenes where the Devil uses Gabriels horn to open Heaven and pull the good angel-dogs out and imprision them on Alkatraz. The devil sings and dances to a few songs about the joys of being bad, and at one point, eats a live rat.<br /><br />We got this movie free with a pizza. You get what you pay for.\n",
      "--------------------------------------------------------------------------------\n"
     ]
    },
    {
     "name": "stdin",
     "output_type": "stream",
     "text": [
      "Sentiment (p/n/q):  p\n"
     ]
    },
    {
     "name": "stdout",
     "output_type": "stream",
     "text": [
      "\n",
      "================================================================================\n",
      "Review #232:\n",
      "--------------------------------------------------------------------------------\n",
      "What a shame that a really competent director like Andre de Toth who specialized in slippery, shifting alliances didn't get hold of this concept first. He could have helped bring out the real potential, especially with the interesting character played by William Bishop. As the movie stands, it's pretty much of a mess (as asserted by reviewer Chipe). The main problems are with the direction, cheap budget, and poor script. The strength lies in an excellent cast and an interesting general concept-- characters pulled in different directions by conflicting forces. What was needed was someone with vision enough to pull together the positive elements by reworking the script into some kind of coherent whole, instead of the sprawling, awkward mess that it is, (try to figure out the motivations and interplay if you can). Also, a bigger budget could have matched up contrasting location and studio shots, and gotten the locations out of the all-too-obvious LA outskirts. The real shame lies in a waste of an excellent cast-- Hayden, Taylor (before his teeth were capped), Dehner, Reeves, along with James Millican and William Bishop shortly before their untimely deaths. Few films illustrate the importance of an auteur-with-vision more than this lowly obscure Western, which, in the right hands, could have been so much more.\n",
      "--------------------------------------------------------------------------------\n"
     ]
    },
    {
     "name": "stdin",
     "output_type": "stream",
     "text": [
      "Sentiment (p/n/q):  n\n"
     ]
    },
    {
     "name": "stdout",
     "output_type": "stream",
     "text": [
      "\n",
      "================================================================================\n",
      "Review #111:\n",
      "--------------------------------------------------------------------------------\n",
      "*Sigh* Leave it to us Finns to take a stupid idea, blow it out of proportion and try to market it as cool. Lordi is a mediocre band at best, and a single gimmick will get you only so far.<br /><br />To all you marketing idiots out there: this is the reason for the inherent minority complex that is often encountered when Finland tries to export something.<br /><br />Lordi isn't scary. Lordi is lame. Lordi is OVER.<br /><br />I want to apologize to the rest of the world for this plastic-faced idiocy. Sure, they won the Eurovision.<br /><br />No, wait - they won the Eurovision. That's it. I rest my case.\n",
      "--------------------------------------------------------------------------------\n"
     ]
    },
    {
     "name": "stdin",
     "output_type": "stream",
     "text": [
      "Sentiment (p/n/q):  n\n"
     ]
    },
    {
     "name": "stdout",
     "output_type": "stream",
     "text": [
      "\n",
      "================================================================================\n",
      "Review #240:\n",
      "--------------------------------------------------------------------------------\n",
      "When I saw the elaborate DVD box for this and the dreadful Red Queen figurine, I felt certain I was in for a big disappointment, but surprise, surprise, I loved it. Convoluted nonsense of course and unforgivable that such a complicated denouement should be rushed to the point of barely being able to read the subtitles, let alone take in the ridiculous explanation. These quibbles apart, however, the film is a dream. Fabulous ladies in fabulous outfits in wonderful settings and the whole thing constantly on the move and accompanied by a wonderful Bruno Nicolai score. He may not be Morricone but in these lighter pieces he might as well be so. Really enjoyable with lots of colour, plenty of sexiness, some gory kills and minimal police interference. Super.\n",
      "--------------------------------------------------------------------------------\n"
     ]
    },
    {
     "name": "stdin",
     "output_type": "stream",
     "text": [
      "Sentiment (p/n/q):  p\n"
     ]
    },
    {
     "name": "stdout",
     "output_type": "stream",
     "text": [
      "\n",
      "================================================================================\n",
      "Review #242:\n",
      "--------------------------------------------------------------------------------\n",
      "This movie starts off somewhat slowly and gets running towards the end. Not that that is bad, it was done to illustrate character trait degression of the main character. Consequently, if you are not into tragedies, this is not your movie. It is the thought provoking philosophy of this movie that makes it worthwhile. If you liked Dostoyevsky's 'Crime and Punishment,\" you will probably like this if only for the comparisons. The intriguing question that the movie prompts is, \"What is it that makes a renowned writer completely disregard his publicly-aproved ideas for another set?\" The new ideas are quite opposed to the status quo-if you are a conservative you will not like this movie. <br /><br />Besides other philosophical questions, I must admit that the movie was quite aesthetically pleasing as well. The grassy hillsides and beautiful scenery helped me get past the slow start. Also, there was use of coloric symbolism in representing the mindstate of the main characters. If these sorts of things do not impress you, skip it. Overall I give this movie a 7.\n",
      "--------------------------------------------------------------------------------\n"
     ]
    },
    {
     "name": "stdin",
     "output_type": "stream",
     "text": [
      "Sentiment (p/n/q):  p\n"
     ]
    },
    {
     "name": "stdout",
     "output_type": "stream",
     "text": [
      "\n",
      "================================================================================\n",
      "Review #118:\n",
      "--------------------------------------------------------------------------------\n",
      "This brings back so many childhood memories. (I'm not old, I'm 19) It's brill. The trains, the old house, the fallen runner, the really scary landslide (well it is when you're 6), the drama if the children can stop the train, or will it crash? This is a children's film without a doubt, but it offers great harmless no blood/guts/guns etc for children. And it's got Bernard Cribbins in it, who's cool. 8/10\n",
      "--------------------------------------------------------------------------------\n"
     ]
    },
    {
     "name": "stdin",
     "output_type": "stream",
     "text": [
      "Sentiment (p/n/q):  p\n"
     ]
    },
    {
     "name": "stdout",
     "output_type": "stream",
     "text": [
      "\n",
      "================================================================================\n",
      "Review #122:\n",
      "--------------------------------------------------------------------------------\n",
      "This movie was excellent for the following reasons: 1) It contained great backdrops and sets. 2) It showed the disparity of a war-torn environment alongside a technological one. 3) John Cusack's acting was terrific. He portrayed angst very well. 4) It showed the vulnerabilities of everyone in a war-torn situation. 5) It gave us a picture of what might happen in the future in many respects. I was also impressed with the acting for the most part. Hilary's acting was, I found, the most stilted. The morals and values of everyone in a war-torn situation are up for grabs. The liberal journalist and the conservative business man are capable of doing anything in any situation and are equally unpredictable. Great stuff. PSP\n",
      "--------------------------------------------------------------------------------\n"
     ]
    },
    {
     "name": "stdin",
     "output_type": "stream",
     "text": [
      "Sentiment (p/n/q):  p\n"
     ]
    },
    {
     "name": "stdout",
     "output_type": "stream",
     "text": [
      "Saved 50 annotations to annotations\\session_20241205_074240_annotations.json\n",
      "\n",
      "Progress: 50/50 samples annotated\n",
      "All samples have been annotated!\n",
      "\n",
      "Training Data Statistics:\n",
      "Original samples: 50\n",
      "Total samples after augmentation: 250\n",
      "\n",
      "Sentiment Distribution:\n",
      "sentiment\n",
      "negative    125\n",
      "positive    125\n",
      "Name: count, dtype: int64\n",
      "\n",
      "Retraining model on annotated data...\n",
      "\n",
      "Epoch 1/10\n",
      "Average Loss: 0.6991\n",
      "Accuracy: 0.5200\n",
      "\n",
      "Epoch 2/10\n",
      "Average Loss: 0.7178\n",
      "Accuracy: 0.4160\n",
      "\n",
      "Epoch 3/10\n",
      "Average Loss: 0.7052\n",
      "Accuracy: 0.4320\n",
      "\n",
      "Epoch 4/10\n",
      "Average Loss: 0.6973\n",
      "Accuracy: 0.4960\n",
      "\n",
      "Epoch 5/10\n",
      "Average Loss: 0.7047\n",
      "Accuracy: 0.4360\n",
      "\n",
      "Epoch 6/10\n",
      "Average Loss: 0.6929\n",
      "Accuracy: 0.5000\n",
      "\n",
      "Epoch 7/10\n",
      "Average Loss: 0.6923\n",
      "Accuracy: 0.5800\n",
      "\n",
      "Epoch 8/10\n",
      "Average Loss: 0.7112\n",
      "Accuracy: 0.4600\n",
      "\n",
      "Epoch 9/10\n",
      "Average Loss: 0.6970\n",
      "Accuracy: 0.5080\n",
      "\n",
      "Epoch 10/10\n",
      "Average Loss: 0.6995\n",
      "Accuracy: 0.4880\n",
      "\n",
      "Saved model checkpoint to model_checkpoints/model_iteration_1.pt\n",
      "\n",
      "Press Enter to continue to next iteration...\n"
     ]
    },
    {
     "name": "stdin",
     "output_type": "stream",
     "text": [
      "  \n"
     ]
    },
    {
     "name": "stdout",
     "output_type": "stream",
     "text": [
      "\n",
      "================================================================================\n",
      "Starting Iteration 2/3\n",
      "================================================================================\n",
      "\n",
      "Starting iteration 2/3\n",
      "Stage 1: Calculating consistency scores...\n",
      "Stage 2: Calculating mutual information...\n",
      "\n",
      "Selection Statistics:\n",
      "Initial pool size: 60\n",
      "Final selected samples: 50\n",
      "Total samples needing annotation: 100\n",
      "\n",
      "Starting annotation session...\n",
      "\n",
      "50 samples need annotation.\n"
     ]
    },
    {
     "name": "stdin",
     "output_type": "stream",
     "text": [
      "Enter 'a' to annotate, 'q' to quit:  a\n"
     ]
    },
    {
     "name": "stdout",
     "output_type": "stream",
     "text": [
      "Starting annotation session for 50 samples\n",
      "Enter 'p' for positive sentiment, 'n' for negative sentiment\n",
      "Enter 'q' to quit and save progress\n",
      "\n",
      "\n",
      "================================================================================\n",
      "Review #128:\n",
      "--------------------------------------------------------------------------------\n",
      "I have really enjoyed several movies by Gérard Depardieu and expected I'd like this movie a lot more than I did. The biggest reason was that I just didn't find the movie very interesting or funny--so, it didn't hold my interest. Also, although he does NOT sleep with his headstrong daughter, the idea that she is lying by telling everyone that he is her much older lover is just plain icky! Yes, I know there is no incest and I know that nobody around them knows he really is her father, but I found that any kid passing her dad off as her sexual paramour is too yucky and prevents the movie from truly being funny. In addition, I really didn't like this little brat very much. Apart from her lies, she seemed very sassy and self-involved. I would have preferred if somehow she'd gotten her \"come-uppance\" and somehow been punished, as I just didn't like her.\n",
      "--------------------------------------------------------------------------------\n"
     ]
    },
    {
     "name": "stdin",
     "output_type": "stream",
     "text": [
      "Sentiment (p/n/q):  n\n"
     ]
    },
    {
     "name": "stdout",
     "output_type": "stream",
     "text": [
      "\n",
      "================================================================================\n",
      "Review #135:\n",
      "--------------------------------------------------------------------------------\n",
      "A horrible mish mash of predictable story lines and toe-bendingly poor delivered PC clichés ad nauseam (races working together, the heroine being smart as well pretty, a guy sacrificing himself to save another life, a father/daughter relationship etc etc etc). The movie looks like something created for network television and should have probably stayed there. Even the gifted Tommy Lee Jones does not manage to salvage this BOMB. I urge you not to waste money or time on this cinematic ruin from the time when disaster-movies roamed Hollywood.<br /><br />The two stars are given solely to the CGI-people and the PR-peoples' ability to get even one movie-goer to sit through it.\n",
      "--------------------------------------------------------------------------------\n"
     ]
    },
    {
     "name": "stdin",
     "output_type": "stream",
     "text": [
      "Sentiment (p/n/q):  n\n"
     ]
    },
    {
     "name": "stdout",
     "output_type": "stream",
     "text": [
      "\n",
      "================================================================================\n",
      "Review #138:\n",
      "--------------------------------------------------------------------------------\n",
      "Funny. Sad. Charming. These are all words that floated through my head while I was watching this beautiful, simple film.<br /><br />It is rare that a movie truly moves me, but \"Shall We Dance?\" accomplished that with grace to spare. Gentle humor mixed in with occasional subtle agony made this easily one of the best experiences of my movie-viewing history. It left me with a quiet sense of exultation, but with a small touch of sadness mixed in.<br /><br />And the dancing, oh yes, the dancing. Even if you are not a lover of the art, or can't put one foot in front of another, the steps displayed here will take your breath away, and make you want to sign up for classes as fast as you can. It was absolutely enchanting, even the parts that show Sugiyama's (touchingly portrayed by Koji Yakusho) stilted steps when he was first learning to dance were lovely in a humorous, child-like way. And yet, this film was not entirely about dancing, but more about the subtleties of human behavior and feelings. We witness a shy man learning to express his repressed feelings through dance, a beautiful dance instructor rediscovering her love for the art, and the personal growth of every member of the wonderful supporting cast.<br /><br />Beauty. Pain. Emotion. All the love and little agonies of life are here, expressed with the delicate feeling of a fine Japanese watercolor painting combined with the emotional strength and grace of the culture.<br /><br />\n",
      "--------------------------------------------------------------------------------\n"
     ]
    },
    {
     "name": "stdin",
     "output_type": "stream",
     "text": [
      "Sentiment (p/n/q):  p\n"
     ]
    },
    {
     "name": "stdout",
     "output_type": "stream",
     "text": [
      "\n",
      "================================================================================\n",
      "Review #267:\n",
      "--------------------------------------------------------------------------------\n",
      "Super Speedway makes a great demo of your new DVD / bigscreen / 5.1 channel sound system. The IMAX camera puts you right in the race car, where you cruise around various tracks at high speed, reminiscent of the driving sequences in Grand Prix (if only that would appear on DVD!). I enjoy watching it again and again.<br /><br />The only minus, and why I didn't give it a 10, is some of the driving sequences look suspiciously like the film was speeded up. The soundtrack also requires a little suspension of disbelief - all you can hear in a real car is the engine. You won't hear swooshes as you go under bridges.\n",
      "--------------------------------------------------------------------------------\n"
     ]
    },
    {
     "name": "stdin",
     "output_type": "stream",
     "text": [
      "Sentiment (p/n/q):  p\n"
     ]
    },
    {
     "name": "stdout",
     "output_type": "stream",
     "text": [
      "\n",
      "================================================================================\n",
      "Review #13:\n",
      "--------------------------------------------------------------------------------\n",
      "A strange role for Eddie Murphy to take at the height of his career. While there is a lot of the \"Eddie Murphy character,\" he plays a truly decent person. The rest of the cast is good, particularly the lovely Charlotte Lewis. Her character's beauty and serenity held the tone of the film from getting to be too much Murphy.\n",
      "--------------------------------------------------------------------------------\n"
     ]
    },
    {
     "name": "stdin",
     "output_type": "stream",
     "text": [
      "Sentiment (p/n/q):  p\n"
     ]
    },
    {
     "name": "stdout",
     "output_type": "stream",
     "text": [
      "\n",
      "================================================================================\n",
      "Review #14:\n",
      "--------------------------------------------------------------------------------\n",
      "This is the worst adaption of a classic story I have ever seen. They needlessly modernize it and some points are actually just sick.<br /><br />The songs rarely move along the story. They seem to be thrown in at random. The flying scene with Marley is pointless and ludicrous.<br /><br />It's not only one of the worst movies I've seen, but it is definitely the worst musical I've ever seen.<br /><br />It's probably only considered a classic because \"A Christmas Carol\" is such a classic story. Just because the original story was a classic doesn't mean that some cheap adaption is.\n",
      "--------------------------------------------------------------------------------\n"
     ]
    },
    {
     "name": "stdin",
     "output_type": "stream",
     "text": [
      "Sentiment (p/n/q):  n\n"
     ]
    },
    {
     "name": "stdout",
     "output_type": "stream",
     "text": [
      "\n",
      "================================================================================\n",
      "Review #275:\n",
      "--------------------------------------------------------------------------------\n",
      "Okay. As you can see this is one of my favorite if not favorite films. This is a character drama which is absolutely hilarious. The main character is a business man who is stuck in a \"same thing, different day\" mentality. He sees a woman looking melancholy out a window of a dance studio from his train everyday and wonders about her and decides to find out more about her. He decides to join the dance class only to find out she is not the instructor. From there he bonds with four other dancers and learns to enjoy dancing as well as finding out about the mysterious woman.<br /><br />There is no gratuitous (or any) sex involved, just how a small group of people learn how friendships are formed and developed.<br /><br />This film was remade with Richard Gere and Jennifer Lopez and the new one while appealing is nowhere as enjoyable as the original. The movie never made it big in America because it was not eligible for the Oscars since it was broadcast on television in Japan (movies cannot be released on TV or they are disqualified for Oscar nominations). It did win numerous awards in Japan for best film, cast, director etc for their \"Oscar\" awards.\n",
      "--------------------------------------------------------------------------------\n"
     ]
    },
    {
     "name": "stdin",
     "output_type": "stream",
     "text": [
      "Sentiment (p/n/q):  p\n"
     ]
    },
    {
     "name": "stdout",
     "output_type": "stream",
     "text": [
      "\n",
      "================================================================================\n",
      "Review #20:\n",
      "--------------------------------------------------------------------------------\n",
      "In Hazzard County, Georgia, cousins Bo and Luke Duke (Scott, Knoxville) and their cousin Daisy Duke (Jessica Simpson) run moonshine made by their Uncle Jesse (Willie Nelson) while avoiding the local authority, Boss Hog (Burt Reynolds). Their problems with the Boss are only beginning as they learn he's been plotting to strip mine the town for valuable ores found below it.<br /><br />I have never seen the TV show and after watching the movie, I'm not going to start any time soon. I like stupid comedies but this one didn't offer many laughs. It was a pretty dull picture with the first hour being really hard to sit through. The second part was a little better but this film was still a missed opportunity. The film focused on Bo and Luke way too much. The characters in general weren't very interesting and the actors portraying them didn't do a very good job.<br /><br />The acting wasn't very good. I wasn't expecting it to be good in the first place but none of the leads were very funny. Seann William Scott and Johnny Knoxville both give below average performances. The latter was pretty good as Stifler but he tries way too hard here. The latter just seems to be looking for a paycheck and nothing else. Jessica Simpson isn't known for her acting nor is she really known for her singing. She's famous for having her own reality show and for saying really dumb things. She is pretty but she's a weak actor. It doesn't matter though because she doesn't really appear in the movie and the character she plays isn't complex or anything. Willie Nelson also has a minor role and he doesn't do anything special.<br /><br />The screenplay was written by John O'Brien and he made two films prior to the Dukes of Hazzard. The first one was Cradle to the Grave, which was okay. The second one was Starsky and Hutch which was pretty funny. He doesn't do a good job here though as the story is a mess. He also forgot to add jokes and a few other things that would have made this film work better. The movie is also pretty long for a comedy. Okay, 106 minutes isn't exactly long but it feels so much longer because there's very little humor in the first hour. I think comedies should be kept short or else they have to find a lot of material to cover the entire running time. The Dukes of Hazzard barely has enough funny gags to keep it going for thirty minutes let alone 106 minutes. The car sequences were average and they don't save an already troubled film. In the end, Dukes of Hazzard may appeal to a few people but most people will probably find it dull and it's better if you just skip it. Rating 4/10\n",
      "--------------------------------------------------------------------------------\n"
     ]
    },
    {
     "name": "stdin",
     "output_type": "stream",
     "text": [
      "Sentiment (p/n/q):  n\n"
     ]
    },
    {
     "name": "stdout",
     "output_type": "stream",
     "text": [
      "\n",
      "================================================================================\n",
      "Review #276:\n",
      "--------------------------------------------------------------------------------\n",
      "With all thats going on in the world sometimes we need an escape. Curly Sue is just that. Not a complicated plot or deep meaning; however it is not devoid of substance. There is more than furious action or heart pounding dramas. There are the charming little shows you can watch with your kids and have enough substance to enjoy with your date. Try it you may like it more than you think. The little girl is really smart and cute. The \"Dad\" and the girl go thru some slapstick routines. When a jealous boyfriend steps in, trouble brews for Curly and the life shes known may be torn asunder. Fred Thompson and Kelly Lynch play good roles as the upper crust and Alison Porter and James Belushi are a interesting fable like duo portraying street wise homeless drifters. Their worlds collide and comedy ensues.\n",
      "--------------------------------------------------------------------------------\n"
     ]
    },
    {
     "name": "stdin",
     "output_type": "stream",
     "text": [
      "Sentiment (p/n/q):  p\n"
     ]
    },
    {
     "name": "stdout",
     "output_type": "stream",
     "text": [
      "\n",
      "================================================================================\n",
      "Review #150:\n",
      "--------------------------------------------------------------------------------\n",
      "How on earth this film isn't more widely regarded is beyond me.<br /><br />I picked it up for £1, and I'm not exaggerating when I say it's the best pound I've ever spent on a film.<br /><br />The thing that usually lets films about the club scene down is either the music or the actual scenes filmed in clubland.<br /><br />Here, the music and club scenes are completely credible,using some big tunes of the time, and filmed in real clubs, with people actually looking like they want to be there.<br /><br />The performances from the actors are of a high standard all round, although Jason Donovan in particular for me stands out (he was playing Frank N Furter in The Rocky Horror Show in London at roughly the time this must have been filming, so his drag phase was in full flow!), and of course Tim Curry who's eloquent drug land boss is convincing.<br /><br />Simply put, if you're a fan of British film you have to see this, it matters not a jot if you're into clubbing as the film is strong enough as a story anyway.<br /><br />Highly recommended.\n",
      "--------------------------------------------------------------------------------\n"
     ]
    },
    {
     "name": "stdin",
     "output_type": "stream",
     "text": [
      "Sentiment (p/n/q):  p\n"
     ]
    },
    {
     "name": "stdout",
     "output_type": "stream",
     "text": [
      "\n",
      "================================================================================\n",
      "Review #151:\n",
      "--------------------------------------------------------------------------------\n",
      "A must see film with great dialogues, great music, great acting and a superb atmosphere.<br /><br />In the film you will follow 8 people for one day in the city of antwerp, they are all individuals and sometimes plain weird (that's how I love them!).<br /><br />I'm not going to say anything else, just go see and enjoy it.\n",
      "--------------------------------------------------------------------------------\n"
     ]
    },
    {
     "name": "stdin",
     "output_type": "stream",
     "text": [
      "Sentiment (p/n/q):  p\n"
     ]
    },
    {
     "name": "stdout",
     "output_type": "stream",
     "text": [
      "\n",
      "================================================================================\n",
      "Review #152:\n",
      "--------------------------------------------------------------------------------\n",
      "I would not compare it to Le Placard, which IMHO had more comic moments, but Romuald & Juliette while being a slow starter certainly kept your attention going throughout the film, nicely paced and reaching a heart warming conclusion :) There were many marvellous comedic moments, some brilliant pathos and realistic situation acting by all actors.<br /><br />It was a typically French film, in which while confronting prejudices and phobias, which in turn the made the viewer confront his own shortcomings! I am certainly pleased to have this in my library, and will no doubt watch it time and time again, which to me is a mark of a great film.\n",
      "--------------------------------------------------------------------------------\n"
     ]
    },
    {
     "name": "stdin",
     "output_type": "stream",
     "text": [
      "Sentiment (p/n/q):  p\n"
     ]
    },
    {
     "name": "stdout",
     "output_type": "stream",
     "text": [
      "\n",
      "================================================================================\n",
      "Review #282:\n",
      "--------------------------------------------------------------------------------\n",
      "It's the 1980's and the teenagers are ready to party it up in a scary old house that is rumored to be haunted by the ghost of Murder McGee. After mistakenly conjuring the dead through an unfinished conversation on an Ouija board, the kids are forced to fight to the death battling a vengeful ghost who possesses and kills all of their friends one by one. Sound familiar? It's supposed to. It's clearly marketed to pay homage to the classic 80's slashers with the tagline: \"Excessive violence. Gratuitous nudity. Zero budget.\" <br /><br />Can't get enough; It's pure entertainment! I enjoyed the humor and the way it poked fun at all the horror cliché's, but at the same time embraced what was fun about movies from this time. There is something you get with this movie you never got with the old 80's slasher films though: good acting. The entire cast was very talented and you don't see that very much in any low budget flicks, recent or otherwise. There was a lot of chemistry between the characters. I was very entertained throughout the entire film, and I am fully convinced the writer/director and cast will go a long way in their separate careers. The script was very well written, and the dialogue flowed naturally.<br /><br />The effects were a bit amateur and the scenes were not lit well, but the fact that this movie admits on its cover there was practically NO BUDGET, I already know this going in. This film makes it simple to politely ignore its faults and just sit back and enjoy. Although this is not an Oscar award winning opus, it never claims to be, and props to that. It's a lot of fun. If you like slashers, you'll really appreciate this film. If you like blood and boobies, you'll appreciate it also.\n",
      "--------------------------------------------------------------------------------\n"
     ]
    },
    {
     "name": "stdin",
     "output_type": "stream",
     "text": [
      "Sentiment (p/n/q):  p\n"
     ]
    },
    {
     "name": "stdout",
     "output_type": "stream",
     "text": [
      "\n",
      "================================================================================\n",
      "Review #28:\n",
      "--------------------------------------------------------------------------------\n",
      "Is there any question that Jeffrey Combs is one of the true horror greats? This movie seriously doesn't suck and is sort of funny... Watching a young Combs at work is great but I wish he had had more lines. Look out for Beyond Re-Animator. It's going to kick some azz.\n",
      "--------------------------------------------------------------------------------\n"
     ]
    },
    {
     "name": "stdin",
     "output_type": "stream",
     "text": [
      "Sentiment (p/n/q):  p\n"
     ]
    },
    {
     "name": "stdout",
     "output_type": "stream",
     "text": [
      "\n",
      "================================================================================\n",
      "Review #29:\n",
      "--------------------------------------------------------------------------------\n",
      "One of Alfred Hitchcock's three greatest films, along with \"Psycho\" and \"The 39 Steps\", \"Strangers On A Train\" is as brilliantly out-of-control as a merry-go-round in Metcalf, and almost as deadly. It's the kind of film you have so much fun watching, you can't even feel properly guilty about it until you have time to catch your breath.<br /><br />Top amateur tennis contender Guy Haines (Farley Granger) meets a singularly weird, louche stranger named Bruno Anthony (Robert Walker) on a train. Thanks to the gossip pages, Bruno knows all about Guy's problems with his no-good wife Miriam, and rather gaily suggests they do each other a favor: Bruno will kill Miriam and Guy will kill Bruno's father, who wants to put Bruno in an institution. Guy laughs it off, but Bruno ain't kidding, as Guy finds out to his peril.<br /><br />It's a great premise for a murder story, and Hitchcock gives \"Strangers On A Train\" a run for all its worth, with the help of Walker in perhaps the greatest performance in any Hitchcock film, including Anthony Perkins in \"Psycho\". While Perkins makes his mark playing tetchily against the grain, Walker as Anthony is one perfectly at home either buttering up old ladies at a swank dinner party or strangling a young woman at an amusement park.<br /><br />What drives Bruno? Many commentators suggest his apparent homosexuality finds a match in pretty Guy. Yes, Bruno lights up the old gay-dar, but Guy seems happy enough on love's rebound with socialite Anne Morton (Ruth Roman). Bruno's interest for Guy could just as easily be envy, for someone making a mark in the world while he lives at home, letting Mommy file his nails.<br /><br />\"Oh, I certainly admire people who do things,\" Bruno purrs, looking like a cat eyeing a mouse. \"You know, it must be pretty exciting to be so important.\"<br /><br />Later on, Bruno calls himself a \"bum\", accurate enough except for our rooting interest in him, even as he wrecks Guy's life with his homicidal meddling. It's the ultimate perverse underdog's tale. There's a sense of integrity about Bruno, in his dogged dedication, which commands our respect and which Hitchcock plays to so brilliantly. When Bruno floats away from the scene of his big crime, am I the only sick person in this world who's actually happy for him? I think not, yet Hitchcock keeps the story on a right-enough path for us to realize how low we have fallen. We don't want Bruno to win, exactly, but we enjoy his élan as he tries.<br /><br />Everything else is so perfect, or at least close enough, to make every shot memorable. Hitchcock always managed at least 2-3 good setpiece sequences per movie; here you get a score of them at the amusement park alone. (\"20 Big Shows\" the neon side at the entrance says, and they aren't kidding.) Script, camera-work, a gripping tennis match, Ruth Roman's jaw-dropping figure, it's all too much greatness for one film to contain. Even Granger does his callow-youth thing here with more risible plausibility than Gregory Peck ever managed.<br /><br />You can call this a clinic in movie-making, but \"clinic\" sounds too dull. \"Strangers On A Train\" is good nasty fun, all the way through, leaving you with a nifty stinger at the tail as you realize you were rooting for the wrong stranger all along. Heck, I'll take that ride over again in a second!\n",
      "--------------------------------------------------------------------------------\n"
     ]
    },
    {
     "name": "stdin",
     "output_type": "stream",
     "text": [
      "Sentiment (p/n/q):  n\n"
     ]
    },
    {
     "name": "stdout",
     "output_type": "stream",
     "text": [
      "\n",
      "================================================================================\n",
      "Review #30:\n",
      "--------------------------------------------------------------------------------\n",
      "Blank Check is a movie that I saw on TV one day and like most movies they air on TV Blank Check wasn't that good. First of all no one I have ever met has seen Blank Check and that includes people that grew up in the 90s. Also Blank Check won't be remembered in the 00s either simply due to the fact that it will be overshadowed by pixar's films. I wouldn't call Blank Check a bad film but its not really entertaining either. (Or at least it isn't to anyone over the age of 6) Blank Check isn't a entertaining film because nothing about it is original. Everything just makes you go \"what haven't I seen this before?\" Blank Check rips off and tries to cash in on everything from Richie Rich to Home Alone (Which strangely enough both have Macaulay Culkin in it) Blank Check isn't a bad movie, but it deserves to fade into obscurity.\n",
      "--------------------------------------------------------------------------------\n"
     ]
    },
    {
     "name": "stdin",
     "output_type": "stream",
     "text": [
      "Sentiment (p/n/q):  n\n"
     ]
    },
    {
     "name": "stdout",
     "output_type": "stream",
     "text": [
      "\n",
      "================================================================================\n",
      "Review #157:\n",
      "--------------------------------------------------------------------------------\n",
      "In defense of this movie I must repeat what I had stated previously. The movie is called Arachina, it has a no name cast and I do not mean no name as in actors who play in little seen art house films. I mean no name as in your local high school decided to make a film no name and it might have a 2 dollar budget. So what does one expect? Hitchcock?<br /><br />I felt the movie never took itself seriously which automatically takes it out of the worst movie list. That list is only for big budget all star cast movies that takes itself way too seriously. THe movie The Oscar comes to mind, most of Sylvester Stallone's movies. THe two leads were not Hepburn and Tracy but they did their jobs well enough for this movie. The woman kicked butt and the guy was not a blithering idiot. The actor who played the old man was actually very good. The man who played anal retentive professor was no Clifton Webb but he did a god job. And the Bimbo's for lack of a better were played by two competent actors. I laughed at the 50 cent special effects. But that was part of the charm of the movie. It played like a hybrid Tremors meets Night of the Living Dead. The premise of the movie is just like all Giant Bug movies of the 50's. A Meteor or radiation stir up the ecosystem and before you know it we have Giant Ants, Lobsters, rocks or Lizards terrorizing the locals. A meteor was the cause of the problems this time. I was was very entertained. I didn't expect much and I go a lot more then I bargained for.\n",
      "--------------------------------------------------------------------------------\n"
     ]
    },
    {
     "name": "stdin",
     "output_type": "stream",
     "text": [
      "Sentiment (p/n/q):  p\n"
     ]
    },
    {
     "name": "stdout",
     "output_type": "stream",
     "text": [
      "\n",
      "================================================================================\n",
      "Review #32:\n",
      "--------------------------------------------------------------------------------\n",
      "I absolutely loved every minute of this film. Jack Black and Kyle Gass most definitely brought the thunder in this epic tale of friendship, hard rocking and destiny.<br /><br />Filled to the brim with unnecessary swearing in every sentence, toilet humour and the general rule breaking attitude, this movie is a must see for the hard core tenacious D fans of the world.<br /><br />We follow the journey of young Jables (Jack black) and Kage (Kyle Gass) as they try and recover the pick of destiny, to win the open-Mic night, and to become the greatest band on the planet. The duo have to overcome obstacles such as a room full of lasers, a man with one leg and the devil to accomplish their task. I'll let you see whether they make it or not.<br /><br />The soundtrack itself is awesome enough, and now we see the D in person, making the experience even more magical. A must see for anyone who calls themselves a tenacious D fan. Watch out for the inside jokes from the first album!\n",
      "--------------------------------------------------------------------------------\n"
     ]
    },
    {
     "name": "stdin",
     "output_type": "stream",
     "text": [
      "Sentiment (p/n/q):  p\n"
     ]
    },
    {
     "name": "stdout",
     "output_type": "stream",
     "text": [
      "\n",
      "================================================================================\n",
      "Review #34:\n",
      "--------------------------------------------------------------------------------\n",
      "As far as parody films go, there are few that are worth time and energy. but with a recent resurgence of horrid parodies such as Date Movie and The Comebacks, it is a breath of fresh air to come back and rediscover a truly funny farce like Johnny Dangerously.<br /><br />After his mother has no end of medical problems, little Johnny goes to work for the mob. What fallows is a series of gags, most of which work, there are, however, the occasional flops. But a foreign gangster who can't master the American language (profanity wise, at least), a rival gangster with a penchant for shooting his mouth off (...once!), a younger brother with the D.A. who is out to get Johhny Dangerously, and a hot young starlet hot for his affections have Johnny busy.<br /><br />And the viewer will be busy laughing, for the most part, as every gangster-movie cliché is skewered by a talented cast and decent writing.<br /><br />Not perfect by a long shot, but definitely good for a smile on a bad day.\n",
      "--------------------------------------------------------------------------------\n"
     ]
    },
    {
     "name": "stdin",
     "output_type": "stream",
     "text": [
      "Sentiment (p/n/q):  p\n"
     ]
    },
    {
     "name": "stdout",
     "output_type": "stream",
     "text": [
      "\n",
      "================================================================================\n",
      "Review #290:\n",
      "--------------------------------------------------------------------------------\n",
      "I LOVED GOOD TIMES with the rest of many of you. I love reading INTELLIGENT and INSIGHTFUL commentary. The writers on THIS show were fantastic and the Actors were beyond TALENTED. To answer Strawberry22 (the neatest commentary to the other superior and positive commentary)...What happened was that James was killed in an accident (I believe I remember that it was a trucking accident or car accident) and it was the saddest episode (when it first aired and I was a tiny thing...it was so sad to me..).<br /><br />Florida and the Children actually get out of the projects and EVEN become neighbors with Willona (Wilnona) and that is how the very last show ended.<br /><br />ALL of the children achieved their dreams and found opportunity in each of their dreams. It was a wonderful ending and I cried because I was happy for them and the show seemed so realistic that I actually believed in their fate. I hope that this kind of ending rings true in actually for many.<br /><br />A great show and many other great shows followed including Benson and The Jeffersons. This was an awesome period for African-American television and the best writers were awesome at that time. TV LAND is Awesome for the memories and I just LOVE it because I cannot STAND the junk that we are watching today. SOMEBODY...bring back the 1970s and 1980s quickly...your intelligent viewers are a dying breed out here and we need better material.<br /><br />Love, a TV LAND original sitcom junkie of the 70s and 80s (as they sing in \"ALL in the Family\"...those were the days......\n",
      "--------------------------------------------------------------------------------\n"
     ]
    },
    {
     "name": "stdin",
     "output_type": "stream",
     "text": [
      "Sentiment (p/n/q):  p\n"
     ]
    },
    {
     "name": "stdout",
     "output_type": "stream",
     "text": [
      "\n",
      "================================================================================\n",
      "Review #291:\n",
      "--------------------------------------------------------------------------------\n",
      "A terrorist attempts to steal a top secret biological weapon, and in the process of trying to escape, he is infected when the case containing the deadly agent is compromised. Soldiers are able to retrieve the case, but the terrorist makes his way to a hotel where he attempts to hide out. They eventually make it to where he's hiding, and \"cleanse\" the hotel and its occupants. Unfortunately they dispose of his body by cremation, and if you've seen Return of the Living Dead, you know what happens next.<br /><br />Zombi 3 has been widely panned by critics and zombie fans alike, as a complete mess of a movie. While that's a fair assessment, it's not without it's high points. For one thing, it has plenty of bloody deaths to keep gore-hounds happy. There's an abundance of zombies that seem to come out from everywhere possible. They're in the water, the rafters of houses, hiding in trees, and for some reason, they like to hide under a bunch of dead brush, only to spring out to attack as the heroes try to escape. There's even a flying zombie head that hides inside a refrigerator. You have to see it to believe it, as that scene alone makes Zombi 3 required viewing IMO. It may have some terrible editing and some very questionable acting, especially from the doctor who has to be one of the worst actors I've seen, but Zombie 3 is still a very entertaining movie. Sometimes it's nice to sit back and watch a movie that doesn't require anything more than your time and an open mind. Zombi 3 fits that bill, and then some. It's even more enjoyable if you pop open a few beers, and watch it with some like minded friends. I give it an 8/10, just because of sheer enjoyment.\n",
      "--------------------------------------------------------------------------------\n"
     ]
    },
    {
     "name": "stdin",
     "output_type": "stream",
     "text": [
      "Sentiment (p/n/q):  p\n"
     ]
    },
    {
     "name": "stdout",
     "output_type": "stream",
     "text": [
      "\n",
      "================================================================================\n",
      "Review #298:\n",
      "--------------------------------------------------------------------------------\n",
      "This program was quite interesting. The way the program was displayed made it all the more interesting. String Theory is also very interesting to listen too. The whole three hours in my opinion were well worth it. I enjoyed listening to the ideas given by the physicists. Extra dimensions really boggle the mind. If you have the chance, watch this amazing documentary.\n",
      "--------------------------------------------------------------------------------\n"
     ]
    },
    {
     "name": "stdin",
     "output_type": "stream",
     "text": [
      "Sentiment (p/n/q):  p\n"
     ]
    },
    {
     "name": "stdout",
     "output_type": "stream",
     "text": [
      "\n",
      "================================================================================\n",
      "Review #299:\n",
      "--------------------------------------------------------------------------------\n",
      "As noted by other reviewers this is one of the best Tarzan movies. Unlike others however, I like the beginning of the film as it feels like a pretty accurate depiction of what a trading post must have been like. Plus the exposition is needed so we know why Harry wants to go back into the jungle. In addition the beginning of the film contains one of the most thrilling and terrifying chase sequences ever made.This occurs when Harry's safari group has to outrun a tribe of cannibals. The pre-censorship production values add a lot of realism, genuinely depicting the terrible dangers that awaited Europeans going into the jungle. The film also offers, though perhaps antecedently, an accurate account of how horribly treated the native Africans were by their white employers. In addition sexy Jane, thousands of elephants , some great sets and two chetas! Not to be missed an adventure classic.\n",
      "--------------------------------------------------------------------------------\n"
     ]
    },
    {
     "name": "stdin",
     "output_type": "stream",
     "text": [
      "Sentiment (p/n/q):  p\n"
     ]
    },
    {
     "name": "stdout",
     "output_type": "stream",
     "text": [
      "\n",
      "================================================================================\n",
      "Review #172:\n",
      "--------------------------------------------------------------------------------\n",
      "This film had such promise!! What a great idea, an underdog paintball team struggling for recognition and personal glory, only to lose it's speed due to bad dialoge, poor editing and a half-written story. The characters in the beginning were interesting, only to lose steam half way through to become one dimensional people sputtering out tired one-liners.<br /><br />Maybe if they spent some more time on the story and dialoge it would have been a great movie, instead of a almost afterthought effort.\n",
      "--------------------------------------------------------------------------------\n"
     ]
    },
    {
     "name": "stdin",
     "output_type": "stream",
     "text": [
      "Sentiment (p/n/q):  n\n"
     ]
    },
    {
     "name": "stdout",
     "output_type": "stream",
     "text": [
      "\n",
      "================================================================================\n",
      "Review #48:\n",
      "--------------------------------------------------------------------------------\n",
      "This is easily my favourite film. A tragic romance intertwined with a complex mystery whose threads are all but invisible until they all unravel at the end in one fantastic rush. Sheer brilliance.<br /><br />I'd love to see some more of Gilles Mimouni's work, but at least according to imdb, he hasn't made any other features. Has the high quality of this work made producing another too daunting a task? Has he moved (back) into some other sphere of creative endeavour? I certainly hope this won't be his final feature but I can't really blame him if he decides to stop with this gem as his only contribution to the world of feature films.\n",
      "--------------------------------------------------------------------------------\n"
     ]
    },
    {
     "name": "stdin",
     "output_type": "stream",
     "text": [
      "Sentiment (p/n/q):  p\n"
     ]
    },
    {
     "name": "stdout",
     "output_type": "stream",
     "text": [
      "\n",
      "================================================================================\n",
      "Review #182:\n",
      "--------------------------------------------------------------------------------\n",
      "MY BROTHER TOM <br /><br />Aspect ratio: 1.85:1<br /><br />Sound format: Dolby Digital<br /><br />Following an episode of sexual abuse at the hands of a trusted neighbor, young Jessica (Jenna Harrison) forms a relationship with a strange boy (Ben Whishaw) she meets in the woods. Unfortunately, Whishaw has secrets of his own, no less troubling and far more dangerous...<br /><br />Dour drama, sparked by brave performances by Harrison and Whishaw, in which two kindred spirits immerse themselves in a mutual love of nature after being traumatized by their experiences in the 'real world'. Unfortunately, their friendship unravels as harsh reality begins to intrude, leading to an inevitable tragedy. Directed by Dom Rotheroe and photographed in digital video format, the movie looks ragged in places (too many awkward close-ups and sloppy hand-held camera moves) and takes a while to find its feet, but the dramatic pay-off is quietly rewarding.\n",
      "--------------------------------------------------------------------------------\n"
     ]
    },
    {
     "name": "stdin",
     "output_type": "stream",
     "text": [
      "Sentiment (p/n/q):  p\n"
     ]
    },
    {
     "name": "stdout",
     "output_type": "stream",
     "text": [
      "\n",
      "================================================================================\n",
      "Review #57:\n",
      "--------------------------------------------------------------------------------\n",
      "I enjoy the show Surface very much. The show is very entertaining and it's a clean show. A Show like surface is interesting. It keeps my attention. It has compassion and suspense. I love all the cast members that are on the show. They are all very good choices. i think it is very important to have the right cast of Any show because thats what makes any show a success and of course the scenes and the show itself. Television has changed so much over the years. It has changed in good ways and in bad. I love to watch some comedy,action, suspense and romance. And scifi. But Surface is a show that I hope comes back for many seasons because it is a great show and its something that families can watch. My children are grown, but my husband and I enjoy watching these types of shows. I appreciate your time and letting me comment my opinion. <br /><br />Thanks.<br /><br />Paulette Blackwell\n",
      "--------------------------------------------------------------------------------\n"
     ]
    },
    {
     "name": "stdin",
     "output_type": "stream",
     "text": [
      "Sentiment (p/n/q):  p\n"
     ]
    },
    {
     "name": "stdout",
     "output_type": "stream",
     "text": [
      "\n",
      "================================================================================\n",
      "Review #196:\n",
      "--------------------------------------------------------------------------------\n",
      "About two hundred members of a Cleveland, Ohio USA film society, named Cinematheque, gathered on August 19, 2000 to view a pristine Cinemascope print of Michelangelo Antonioni's 1970 film, \"Zabriskie Point.\" Cinematheque Director John Ewing, who does a superlative job of obtaining the finest prints for his series, shared with the audience beforehand that this print was specially flown over from Italy for this one showing only.<br /><br />The audience was held spellbound as the film unfolded its artisty on the huge panoramic screen. Watching this superb print, shown the way Antonioni intended, made one aware that this is indeed a modern art work. It was all the more fitting that the series is housed in the Cleveland Insititue of Art in University Circle. <br /><br />Antonioni's compositions are created for the Cinemascope landscape. His beautiful balancing of images, striking use of colors, sweeping choreographic movements, all are the work of a genuine artist, using the screen as his canvas. <br /><br />At last the audience could understand \"Zabriskie Point.\" As its narrative unfolded, it became obvious that this work is not about story per se, but rather an artist's impressionistic rendering of fleeting images of his subject. The setting of some of the more turbulent activities of the sixties provides only a dramatic motor for the artist's sweeping collage. <br /><br />Antonioni is not bound by conventional narrative standards, and can pause at any point to creatively embroider an event with grandiose embellishments. The audience willingly went with the flow of his remarkable imagination, as his huge images on the massive canvas held one in rapt attention. While the audience may have been only tangentially involved in character relationships, it realized the theme here is human aleination, the director's recurring theme. <br /><br />It was also realized that no print any smaller or of lesser quality than this original one in Cinemascope can do justice to this particular rendering. The audience was therefore all the more appreciative of viewing \"Zabriskie Point\" in its original, breathtaking format, and broke into thunderous applause at the end.\n",
      "--------------------------------------------------------------------------------\n"
     ]
    },
    {
     "name": "stdin",
     "output_type": "stream",
     "text": [
      "Sentiment (p/n/q):  p\n"
     ]
    },
    {
     "name": "stdout",
     "output_type": "stream",
     "text": [
      "\n",
      "================================================================================\n",
      "Review #74:\n",
      "--------------------------------------------------------------------------------\n",
      "This film is probably Hal Hartley's best one. The subject, of a unusual originality, is treated (that's usual with Hal Hartley) with great humor. This characteristic isn't at all the only quality of this film: the fussy frame composition (everything is parallel, until the smallest details), shooting angles, lighting, giving a more supernatural dimension to these blurred images (Jesus' coming down couldn't be filmed in a conventional way), the falsely \"poser\" acting, are qualities that make this Bible re-reading, carried out in the form of an apocalyptic delirium, essential.\n",
      "--------------------------------------------------------------------------------\n"
     ]
    },
    {
     "name": "stdin",
     "output_type": "stream",
     "text": [
      "Sentiment (p/n/q):  p\n"
     ]
    },
    {
     "name": "stdout",
     "output_type": "stream",
     "text": [
      "\n",
      "================================================================================\n",
      "Review #202:\n",
      "--------------------------------------------------------------------------------\n",
      "On his recent maligned reality-show, Mr. Shore conceded his filmic oeuvre is best enjoyed stoned. No, he must have said \"best watched.\" While a healthy toke might see you through the end credits, there is little pleasure to be found, save some sporadic chuckling at the picture, not with it. Titular hyphenate absence is the least grievance. Other hyphenate, wholesome Tiffani-Amber Thiessen (I dare you to rub out that \"Saved by the Bell\" patina of purity) is miscast as a rural vamp; she's too round of face for treachery. Mr. Shore, himself occasionally displays the odd talent for mimicry (I thought I recognized a Jimmy Stewart in there), however it is never aptly used. The trite fish-out-of-water formula has yet to be rendered with less grace. Our hero, Crawl has precious little wit to account for expeditiously charming his agrarian antagonists. Ultimately, I had to announce it's been ascertained: THE WORST MOVIE EVER. P.S. As another fish, Adam Sandler fared better with \"Mr. Deeds.\" It may take a Shore to appreciate a Sandler.\n",
      "--------------------------------------------------------------------------------\n"
     ]
    },
    {
     "name": "stdin",
     "output_type": "stream",
     "text": [
      "Sentiment (p/n/q):  n\n"
     ]
    },
    {
     "name": "stdout",
     "output_type": "stream",
     "text": [
      "\n",
      "================================================================================\n",
      "Review #203:\n",
      "--------------------------------------------------------------------------------\n",
      "Riccardo Freda may have a good reputation; but since we now that many of his best films were, in fact, directed by the late great Mario Bava; it's clear that he wasn't one of Italy's most gifted filmmakers back in the seventies. This film pretty much proves that as despite the simplistic plot; it's a sprawling mess and overall, I'd even have to go as far as to say that Tragic Ceremony is WORSE than Freda's insipid Giallo effort, The Iguana with the Tongue of Fire. Freda apparently disowned this movie, and I certainly don't blame him! The plot simply follows a bunch of kids that run out of petrol in the middle of nowhere. They happen upon a house while searching for fuel; but it turns out to be a bad choice, as the owner is just about to conduct a satanic ceremony...ho hum. The film features a lead role for Camille Keaton, who would go on to star in the exploitation classic I Spit on Your Grave some years later, but fails to make an impression here despite acting alongside a cast of talentless performers. The film features one decent gore scene towards the end, but this really isn't enough considering that it takes eighty minutes of tedium to get there. I have a high tolerance for rubbish Italian films that don't make sense - but even I couldn't stand this one. Miss it, miss nothing!\n",
      "--------------------------------------------------------------------------------\n"
     ]
    },
    {
     "name": "stdin",
     "output_type": "stream",
     "text": [
      "Sentiment (p/n/q):  n\n"
     ]
    },
    {
     "name": "stdout",
     "output_type": "stream",
     "text": [
      "\n",
      "================================================================================\n",
      "Review #77:\n",
      "--------------------------------------------------------------------------------\n",
      "A movie about a French girl who gets raped by street hoodlums. The rape scene itself is shot in all it's gory detail with all the male and female organs and their interactions clearly visible to the camera. In a fit of rage, the victim grabs her friend's (or was it brother ?) gun, shoots him and runs off with the weapon. She meets this prostitute who has just seen her pimp shot down, they team up, and make off towards Paris. A series of crazy, meaningless and wild killings follow, the girls seem to enjoy every murder more than the one before. One poor guy gets shot in the ****hole. There are good doses of sex thrown in between the numerous killings.<br /><br />The movie is not the most violent I have seen, I would say Saving Private Ryan probably had more violence in it. If violence is what you are looking for, then there are lots of other movies out there. And if it's sex you are out for, then I would suggest one of those XXX ones.<br /><br />I went to see the movie because of all the hype the media was giving it. The movie itself is no big deal, just a lot of violence and sex shot with something like a hand-held camera. I was surprised this movie had a 15 year age limit in Sweden, if 15 year-olds can watch this movie, they should be able to watch XXX movies too.\n",
      "--------------------------------------------------------------------------------\n"
     ]
    },
    {
     "name": "stdin",
     "output_type": "stream",
     "text": [
      "Sentiment (p/n/q):  n\n"
     ]
    },
    {
     "name": "stdout",
     "output_type": "stream",
     "text": [
      "\n",
      "================================================================================\n",
      "Review #80:\n",
      "--------------------------------------------------------------------------------\n",
      "Trite, clichéd dialog and plotting (the same kind of stuff we saw all through the 1980s fantasy movies), hokey music, and a paint-by-numbers characters knocks this out of the running for all but the most hardcore fans.<br /><br />What saves this film from the junk heap is the beautiful crutch of Bakshi's work, the rotoscoping, and the fact that Frank Frazetta taught the animators how to draw like him. This is Frazetta...in motion. The violence is spectacular and the art direction and animation are unlike any other sword & sorcery movie of the period.<br /><br />I like to watch this with the sound off, playing the soundtrack to the first Conan movie instead.\n",
      "--------------------------------------------------------------------------------\n"
     ]
    },
    {
     "name": "stdin",
     "output_type": "stream",
     "text": [
      "Sentiment (p/n/q):  p\n"
     ]
    },
    {
     "name": "stdout",
     "output_type": "stream",
     "text": [
      "\n",
      "================================================================================\n",
      "Review #208:\n",
      "--------------------------------------------------------------------------------\n",
      "Greystoke: The Legend of Tarzan, Lord of the Apes is based on the classic book Tarzan of the Apes by Edgar Rice Burroughs and is a more faithful adaptation to the classic book, the film has some great scenery like the Jungles of South Africa to the Greystoke mansion, the acting is also great. Chirstopher Lambert did a great performance as Tarzan, it was also his first English speaking role. The film has some funny moments, sad moments and touching moments that makes this a real classic.<br /><br />The film sees a boat crashing in the Jungles of South Africa and some time later they have a son named John, the Apes go into the hut and one of them kills the Father. The Apes then take him to where they live and adopt him as one of their own, as the years go by John grows up and learns to be more like the Apes. In his teens his Foster Mom gets attacked by Native Hunters and soon killed by them, years later a group of people are going to Africa on a expedition. After setting up camp they're soon attacked by the Natives, most escape but Capitaine Phillippe D'Arnot is left behind injured by some of the arrows. After hiding he meets John now an adult who takes him to his home and takes care of his wounds, after a while Phillippe starts to teach John how to speak English and teach him that he's not one of the Apes but a person. When Phillippe goes to leave John goes with him, after sometime they arrive at Greystoke manor where the Sixth Earl of Greystoke is shown his long lost Grandson, John is shown his bedroom and picture of his true Mom and Dad. John also meets Jane Porter and slowly as they get to know each other he begins to have feelings for her, when it's Christmas the Sixth Earl of Greystoke slides down the stairs killing himself. John then starts to miss the Jungle and wants to return but Phillipe tells him to stay since everything they had done would be for nothing. John is then torn between his life as a Greystoke and the Lord of the Apes.<br /><br />Greystoke: The Legend of Tarzan, Lord of the Apes is a great classic that should be seen. 10/10\n",
      "--------------------------------------------------------------------------------\n"
     ]
    },
    {
     "name": "stdin",
     "output_type": "stream",
     "text": [
      "Sentiment (p/n/q):  p\n"
     ]
    },
    {
     "name": "stdout",
     "output_type": "stream",
     "text": [
      "\n",
      "================================================================================\n",
      "Review #211:\n",
      "--------------------------------------------------------------------------------\n",
      "Certainly not a great show, but better than most other sitcoms out there at the moment. It reminds of shows like Married With Children and Roseanne as they go to places not traditionally dealt with in sitcoms. It's sometimes funny even if you ignore the laugh tracks, but not rip-roaring hilarious.<br /><br />Some of the characters are pretty funny (the gay friend) and some of the other drop-ins. This is also one of the few shows where the characters soliloquy (sorry for the butchered spelling) actually is effective and funny.<br /><br />Is this an All in the Family or Seinfeld type show? Absolutely not. However, it is certainly better than a show like 'Til Deat (probably the worst TV show of any type out at the moment).<br /><br />Oh and the mom is not too bad looking and the Hilary character is a little hottie.\n",
      "--------------------------------------------------------------------------------\n"
     ]
    },
    {
     "name": "stdin",
     "output_type": "stream",
     "text": [
      "Sentiment (p/n/q):  p\n"
     ]
    },
    {
     "name": "stdout",
     "output_type": "stream",
     "text": [
      "\n",
      "================================================================================\n",
      "Review #89:\n",
      "--------------------------------------------------------------------------------\n",
      "I think that COMPLETE SAVAGES is a very good TV show and they should make many more episodes. It is one of my favourites!!!! It is very funny and it is really good acting. I say that you should give them a chance to do more episodes. Iknow that they can and they should!!!! They should put COMPLETE SAVAGES on NICKELODEON more than what they do! I'm sure that many people will agree with me!!!!! I like the TV show because it is a very good programme for people our age and it is very funny. I also like COMPLETE SAVAGES because it isn't always about the same thing and things that happen could be real, unlike other YV programmes. When they advertised it, I didn't like the sound of it, but I watched it for the first time and I loved it. COMPLETE SAVAGES is an excellent comedy and I miss it being on TV!!!!!!!!!! I can't really compare COMPLETE SAVAGES with any other TV series because it is different!!!!\n",
      "--------------------------------------------------------------------------------\n"
     ]
    },
    {
     "name": "stdin",
     "output_type": "stream",
     "text": [
      "Sentiment (p/n/q):  p\n"
     ]
    },
    {
     "name": "stdout",
     "output_type": "stream",
     "text": [
      "\n",
      "================================================================================\n",
      "Review #221:\n",
      "--------------------------------------------------------------------------------\n",
      "Nothing is fantastic! Simple as that! It's a film that shouldn't work, yet does. Natali stays in the realm of Sci-Fi, however this film is also a comedy. Cypher it seemed was a big budget draining affair for Natali (at $7.5million! Woo-hoo Pa!) so with Nothing he scales down again. This is low budget, independent film-making at it's best. Simple, good old fashioned storytelling and an attempt at making a film for artistic merit as apposed to Hollywood's usual reasons for mostly financial gain. Nothing is a film about Nothing and before you ask, no it is not anything like Seinfeld! Basically Andrew and Dave are a couple of losers. They live in a strange looking house beneath two freeways. Andrew is a telesales travel agent who is agoraphobic while Dave is Andrews best mate who stays with him rent free to help him out. Dave is tired of it however and has a gorgeous girlfriend who he wants to move in with. By bizarre mis-fortunes however, Dave finds out his girlfriend embezzled a huge amount of money from Daves work-place incriminating Dave, and Andrew is wrongly accused of sexually assaulting a girl scout (Canadian humour people!). As it turns out Andrew's house is to be demolished as well and he can't stop it happening as the house was built on land it should not have been built on. Both Andrew and Dave are inside the house when the police and the demolition team come calling. They are desperate and can't escape, and in the panic and confusion just as the police burst in everything fades to white. What has happened? Have Dave and Andrew died? They wake to find themselves still in the house only it is quiet. No police, no demolition team, no angry girl scout mother! What happens is Dave and Andy discover they have the ability to \"wish or hate away.\" As it turns out they have hated away the entire outside world. They are left alone. The house is surrounded by nothing, which is portrayed as pure white. So what this means is that the films setting is a house set and then just white. The film is an interesting view on human isolation and the psyche and of course as they spend more time alone together with no food and no water, they begin to tire of each other. They discover they can hate away hunger, which is useful but obviously things get out of hand shall we say. I can't reveal much but I must say bouncing heads are quite a sight to behold.<br /><br />This film is quirky, funny, interesting. The effects are simple yet effective and Natali brings together two buddies from Cube, David Hewlett, and Andrew Millar to lead the film. They have chemistry and also work very well. They have to hold 90% of the movie by themselves and much of it in a pure white background, yet it works. Certainly I expect this to get the same diabolical treatment as Cypher did and it should appear on DVD in a year or two in the states. Nothing is a top quality and unique film and although not as good as Cube or Cypher it once again proves Natali as one of the best up and comers.<br /><br />Natali is someone who has really interested me in his three features so far and I cannot wait for his next feature. I prey to god he doesn't do the proposed Necropolis, written and directed by ADD sufferer, the ever crap Paul Anderson. Vincenzo old buddy if Paul comes round to your pad, RUN!!! RUN LIKE THE WIND!! I hope and prey this guy doesn't take to Hollywood like Alex Proyas did (with the enjoyable yet pussy-footed, sugar coated, helium light: I Robot!). Keep your eyes peeled for this guy. ****\n",
      "--------------------------------------------------------------------------------\n"
     ]
    },
    {
     "name": "stdin",
     "output_type": "stream",
     "text": [
      "Sentiment (p/n/q):  p\n"
     ]
    },
    {
     "name": "stdout",
     "output_type": "stream",
     "text": [
      "\n",
      "================================================================================\n",
      "Review #223:\n",
      "--------------------------------------------------------------------------------\n",
      "This Is one of my favourite westerns. What a cast! Glenn Ford plays his role In his usual mild, controlled but firm manner. Ford plays one of the smaller ranchers In the shadow of the mighty anchor ranch that wants to swallow up the whole territory. Edward G Robinson plays the crippled patriarch of the anchor ranch and Barbera Stanwyck plays his sly scheming wife. There Is plenty of action In this western that Is quite Impressive, the scenery Is delicious and the letterbox scope photography Is breath taking and the soundtrack Is stereo! I would say that this western had a size-able budget It looks expensive. One of a series of great Glenn Ford westerns.\n",
      "--------------------------------------------------------------------------------\n"
     ]
    },
    {
     "name": "stdin",
     "output_type": "stream",
     "text": [
      "Sentiment (p/n/q):  \n"
     ]
    },
    {
     "name": "stdout",
     "output_type": "stream",
     "text": [
      "Invalid input! Please enter 'p' for positive, 'n' for negative, or 'q' to quit\n"
     ]
    },
    {
     "name": "stdin",
     "output_type": "stream",
     "text": [
      "Sentiment (p/n/q):  p\n"
     ]
    },
    {
     "name": "stdout",
     "output_type": "stream",
     "text": [
      "\n",
      "================================================================================\n",
      "Review #96:\n",
      "--------------------------------------------------------------------------------\n",
      "The film opens with a cult leader attempting to resurrect a dead member with his followers chanting for his rebirth as the sun strikes upon them in the desert. Reanhauer(Bill Roy)believes wholeheartedly in his power, and gets so worked up that he collapses with what appeared to be a heart attack. Unable to keep him alive, all those involved, doctors and nurses, are sentenced for attack with Reanhauer's demonic spirit invading the curvaceous body of nurse Sherri(..big-chested Jill Jacobson)targeting each one using her as a tool of vengeance. Forced against her will, with no memory of inflicting such harm, Sherri's host body murders selected victims. Fortunately, Sherri's fellow co-worker, nurse Tara(Marilyn Joi)begins a rather blossoming romance with a blinded patient, Marcus Washington(Prentiss Moulden), once a star football player, whose mother was a practitioner of voodoo. Through Marcus' knowledge, passed down from mom, Tara finds out about possession and how to possibly save Sherri before she murders everyone unknowingly. Meanwhile, Sherri's lover, Dr. Peter Desmond(Geoffrey Land)worries about her present condition and welfare.<br /><br />Well, this was my first Al Adamson film and I must agree with his detractors that, just from this film alone, it seems he holds them together with paper clips and Elmer's glue. The animation with which we see the spirit take control of Sherri is beyond awful and rather laughable. A little soft-core nonsense as filler, some demonic possession thrown in the mix(Sherri actually speaks in another voice when she's possessed), with naughty nurse behavior(..the three nurses focused on in the film all are quite sexually active and free-spirited)and a little bit violence/gore. The film is essentially shot in tiny rooms with dull dialogue from a rather mundane cast. The sexual situations aren't that hard-core and Al often shoots them without revealing all that much. The film looks embarrassingly cheap and there's an absence of thrills, although the chilling score(..which sounds like something from Dark Shadows)does help a little bit. Jacobson and Mary Kay Pass(..as nurse Beth who seems to be a nymphomaniac if she'll even screw a nutty patient, always complaining of illnesses he really doesn't have, with enough chest hair to declare him a Neanderthal)aren't bad looking, and Adamson's story-line, although frail, is somewhat coherent(..it seems he rarely directs films which are). Overall, the movie looks like it cost 5 bucks and Adamson just can not overcome the budgetary restrictions(..or, in my opinion, create an unpleasant enough atmosphere due to a sometimes plodding narrative and tedious scenes which do little for the story). John F Goff has the role of the hospital's psychiatrist who wants to commit Sherri, not believing the idea that she was possessed;he constantly bickers with Peter over her. I watched the unrated \"lost\" version which I guess is the real version to watch of Nurse Sherri.\n",
      "--------------------------------------------------------------------------------\n"
     ]
    },
    {
     "name": "stdin",
     "output_type": "stream",
     "text": [
      "Sentiment (p/n/q):  p\n"
     ]
    },
    {
     "name": "stdout",
     "output_type": "stream",
     "text": [
      "\n",
      "================================================================================\n",
      "Review #225:\n",
      "--------------------------------------------------------------------------------\n",
      "i went to watch this film with my family who were expecting a neatly conclusive story like ''mr.& mrs.iyer''.and they returned home thoroughly disappointed.so,this is a warning to all ''conclusive story lovers'' to stay away.15 park avenue does not seek to answer questions or provide moral solutions on how to treat the mentally challenged.rather its intention is loud and clear.it questions every human being's,sane or not,sense of reality.in fact for me it even arouses doubts about my taken-for-granted sense of sanity.the security,bondage,satisfaction that i find in my present,is it really what i am or does it really create an illusion that all of us desperately and sometimes ignorantly cling on to just to falsely console the neglected 'meethi' which exists in all of us in some way or the other? so,why does anjali so maniacally makes it a point to show off her strength of mind when she is really harrowed by the realization that she is becoming a monster?aren't we all who think we are ''normal'' ,really monstrous and helplessly vulnerable about it deep down inside? is it not better to be happy even insanely,than to create the impression of 'normalcy' while suppressing one's fragility? meethi bravely,madly,sincerely does that.and society labels her as ''schizophrenic''.the ending did confound me at first,but then you realise that meethi bravery and sincere belief took her where she wanted to go.she found what she was searching for,not caring what society had to comment upon her search. and it is the seemingly 'real' people - anjali,the psychiatrist,and jojo- who never reach anywhere.my family thinks that i am schizophrenic too in trying to make sense of a film that is largely 'insane' to the rest of the world.anyone else willing to believe in my sense of reality...........?\n",
      "--------------------------------------------------------------------------------\n"
     ]
    },
    {
     "name": "stdin",
     "output_type": "stream",
     "text": [
      "Sentiment (p/n/q):  n\n"
     ]
    },
    {
     "name": "stdout",
     "output_type": "stream",
     "text": [
      "\n",
      "================================================================================\n",
      "Review #248:\n",
      "--------------------------------------------------------------------------------\n",
      "OK, why complain about this movie? It's fiction. Deal with it. If you want to see the biography, go watch it. This is an original, fictionalized version of what happened in Wisconsin. People who are obsessed will complain about this, as they do every other deviation of the facts. Sad but true. I think making Kane Hodder the man in which the film is named after was a great idea. I thought it wasn't so good at first, I'll be honest. But that just made it even scarier. If you like Kane Hodder, Ed Gein or movies based on real events, I think this is a good movie. But if you're obsessed (like some other people) stay away from this movie and all others.\n",
      "--------------------------------------------------------------------------------\n"
     ]
    },
    {
     "name": "stdin",
     "output_type": "stream",
     "text": [
      "Sentiment (p/n/q):  p\n"
     ]
    },
    {
     "name": "stdout",
     "output_type": "stream",
     "text": [
      "\n",
      "================================================================================\n",
      "Review #99:\n",
      "--------------------------------------------------------------------------------\n",
      "Touching Bollywood epic melodrama about a 10 year-old girl who finds out that she's adopted, and is determined to find her birth mother. The film's major success is the performance of P.S. Keerthana, who plays the girl. The first half of the film is very good. There are a few really good songs, too, especially the number that introduces the protagonist. Unfortunately, the film's second half, which takes place in war-torn Sri Lanka, feels like an entirely different, and disappointing movie. It's big on explosions and special effects, with Sri Lankan soldiers and rebels dodging grenades, running from fireballs, and being yanked by stunt wires. All the film can offer as insight are cheap platitudes like, \"Some day there must come peace\" and \"Perhaps the children will find a way\". The final sequence, where the daughter and mother are reunited, is good, but so over-the-top with the music and a well-timed downpour that it feels like a cheat. I know, I know, it's all in the style of Bollywood. But this is a story where big moments simply detract from the simple, powerful central story. Bollywood could certainly use a little restraint at times, too.\n",
      "--------------------------------------------------------------------------------\n"
     ]
    },
    {
     "name": "stdin",
     "output_type": "stream",
     "text": [
      "Sentiment (p/n/q):  n\n"
     ]
    },
    {
     "name": "stdout",
     "output_type": "stream",
     "text": [
      "\n",
      "================================================================================\n",
      "Review #227:\n",
      "--------------------------------------------------------------------------------\n",
      "Treading Water is a very beautiful movie. I would put it straight under the wonderful short movie : Cosa bella from Fiona MacKenzie. It's not only about coming out but also about tolerance and acceptance in general. I am looking forward to seeing more of Laurel Himmel's work in the future. The actors, Angie Redman and Nina Landey are quite good. The main characters relationship could have been strenghtened a bit as we understand there is a very strong bond between them but maybe this could have been explained a bit. I am surprised that Angie Redman doesn't appear much in other movies. A great first step as a director for Laurel Himmel, I am sure there's more to see from her skills.\n",
      "--------------------------------------------------------------------------------\n"
     ]
    },
    {
     "name": "stdin",
     "output_type": "stream",
     "text": [
      "Sentiment (p/n/q):  p\n"
     ]
    },
    {
     "name": "stdout",
     "output_type": "stream",
     "text": [
      "\n",
      "================================================================================\n",
      "Review #234:\n",
      "--------------------------------------------------------------------------------\n",
      "Jack Webb's movie 'The D.I' came about from the real life investigation into the deaths of several trainees in a swamp in Paris Isle in the 50's. As always, Webb, being the patriot that he is, came to the defense much like all the rest of his shows. I actually found this movie tame by 1957 standards. I served in the Army and can understand the intensity of the training at Parris Island (Camp Death by some)so this movie can never come close as does 'Full Metal Jacket'. I think this is a good movie which is more patriot than it is actual. But again, think of the time period it was made (1957) and what could be allowed and said on film at that time. I have always found Jack Webb to be clean cut and very loyal. I know many have criticized the film as one-sided and government propaganda. If you feel this way, watch 'Full Metal Jacket' with R Lee Ermey. I am a Webb fan and enjoy the movie for it's merit, not accuracy. As I have said, Webb believed in this country and held institutions to high moral standards (LAPD-Dragnet,Adam 12, Emergency etc). Just sit back and enjoy this one from a very strict moral time period in this country. Don't be too judgemental of Mr. Webb. Mark Lockwood Lubbock Texas..\n",
      "--------------------------------------------------------------------------------\n"
     ]
    },
    {
     "name": "stdin",
     "output_type": "stream",
     "text": [
      "Sentiment (p/n/q):  p\n"
     ]
    },
    {
     "name": "stdout",
     "output_type": "stream",
     "text": [
      "\n",
      "================================================================================\n",
      "Review #108:\n",
      "--------------------------------------------------------------------------------\n",
      "The movie is really about choices. In the oppressed state of affairs as seen in Fire, where good women had to be obedient and do what was correct in the eyes of tradition, there seemed few options for Radha and Sita. However, granted that it was not their only option. What is life without desire, Radha questions Ashok. Yes, it's true that life provides us with a number of options but how many we can take depends on a number of external factors. When your world is confined to a small Indian household, being a dutiful daughter-in-law to a silent but observant still powerful matriarch, a dutiful wife of 13 years to a man who has taken a vow of celibacy due to your not being able to have a child, a man who only wants you lying next to him to prove his strength in eliminating his desires. I felt the ladies had little choice but to find solace in each other's company. I guess the fact that so many women applauded Ms Mehta's work, was because it provided them with an option to think for themselves. An option to do what was perhaps unacceptable. The lesbian scenes I felt was merely to put that point across. Every scene in the movie from the first at the Taj Mahal to the last at the Mosque, is etched in my mind. How frustrating to be a prisoner of your feelings and desires. To feel that you had to forgo the human touch to be a dutiful wife just because it is expected of you. To have to suppress any desire you might have and to crave for the human touch. What then is the meaning of our existence one wonders. In the scene where Sita is crying alone in the room and Radha comes in to comfort her, their lips accidentally brush against each others and it awakens a feeling in them. Something they have both been deprived of.<br /><br />Bravo to Ms Mehta in translating her vision so clearly. I especially like the flashbacks to the young Radha trying to 'see' for the ocean. It is a metaphor for freedom. Freedom to choose, freedom to transport ourselves to places we would normally be unable to reach. In those scenes, it is gently told to us that her sense of duty has also been passed down from her mother who I assume lives within the rich Indian traditions of duty in marriage. The movie is beautifully filmed and enhanced by the musical score by A.R. Rahman. Since the film, I have become ardent fans of the two lead actresses and the director. I look forward to more of Ms Deepa's future productions.\n",
      "--------------------------------------------------------------------------------\n"
     ]
    },
    {
     "name": "stdin",
     "output_type": "stream",
     "text": [
      "Sentiment (p/n/q):  p\n"
     ]
    },
    {
     "name": "stdout",
     "output_type": "stream",
     "text": [
      "\n",
      "================================================================================\n",
      "Review #109:\n",
      "--------------------------------------------------------------------------------\n",
      "This movie is using cinematography fantastically, the depth of the camera catches each character. Denzel Washington and Kevin Kline put on awesome performances though Washingtons accent does die in certain scenes. How is this movie laying forgotten? unable to rent nor hire in recent times it threatens to be lost forever. a worrying idea. Attenborough at his best since Ghandi, this master piece stands for what it should in movies such as these, no worrying about gaining audiences rather a cry for freedom in the SOuth African Apartheid.Though critised for the biased nature, the movie is faithful to the book by Donald Woods and faithful to the message intended to express to the world. ta and peace\n",
      "--------------------------------------------------------------------------------\n"
     ]
    },
    {
     "name": "stdin",
     "output_type": "stream",
     "text": [
      "Sentiment (p/n/q):  p\n"
     ]
    },
    {
     "name": "stdout",
     "output_type": "stream",
     "text": [
      "\n",
      "================================================================================\n",
      "Review #115:\n",
      "--------------------------------------------------------------------------------\n",
      "When this film was made, the hippie thing had gone mainstream. The ideas of the counter culture was well established, that is why such a big film could be made. Yet it has something to say, and it is said really beautifully. Apart from those who're only waiting for the wanking material, this film is given credit for its beautiful scenes(which in itself is more than enough reason to see the film) by the most. The soundtrack to this film, which actually became more popular than the film itself, is another plus. Pink Floyd's \"Careful with that axe Eugene\" suits really well with the explosions, the absence of music in other scenes gives the film a nice quiet mood. But. It seems as though the messages in this film have been overlooked by the most. If you didn't understand it, which seems to be the case for the most, I'll give you some hints: The man(tough guy, what ever his name is-Mark?) is a part of a \"reality group\". He leaves this group saying something like \"I'm willing to die. But not of boredom\" He later go for a joyride with a stolen plane, probably to seek some action. As he is in the air, Grateful Dead's Dark Star(from the Live/Dead album) is played(i think). This song contains the phrase \"Shall we go you and I while we can\", this is though not heard in the film.(Perhaps stretching it a bit too far meaning that quote is essential?) In the plane, he checks up a girl(Daria), who is driving in her car to a conference(about giving typical suburban families the opportunity to live in a super-relaxing place in the desert, where everything is so simple and nice. For the whole family!), by diving down, almost hitting the car. He lands the plane, and joins the girl on her way to Detroit. They stop at Zabriskie point, where they enjoy each other as living creatures and the nature. Later a family with a big car(of the type which you sleep in) and a speed boat is showed visiting Zabriskie Point, the father saying something like \"what a waste driving all the way up here\", and the kid sitting inside the car, grinning. I sensed a \"this wasn't much better than on the telly\"-attitude. Daria takes Mark back to the plane which now is painted in a psychedelic style, with the identity number changed to \"no war\" on one side and \"no words\" on the other. \"Bucks Sucks\" is also written on the plane. Mark takes the plane back to where he stole it from, saying to Daria before he leaves \"I don't risk anything\" or something, one of several hints about he not caring too much about his destiny. (This because he has the feeling that the environment that surrounds don't give him anything- \"I wonder what happens in the real world\") On the airport he is met by police officers who shoots him even though he just has returned the plane. Daria hears this on the radio, but decides to go to the conference in the fancy mansion. Here she feels alien after the adventures with her just killed friend. She enjoys fresh water running down a rock, more than the swimming pool. Inside the house the viewer is once again given a hint about anti-materialism -She looks out through a glass wall, holding her hands on the glass like she was trapped. The business men is seen arguing, the one side eager to make a big deal, the other afraid of losing money. Daria leaves the house and looks back at it, visualizing it blowing up. After the house, several other things blow up, for example a television. She smiles, happy she has inside herself destroyed what she after the meeting with Mark look upon as something negative.<br /><br />To summarize: Mark obviously experience the \"reality group\" as not very useful as they just sit and talk, taking no action. He clearly has bad feelings about things being as they are, and it seems like he feels that it's no use fighting against it. He wants to leave. He helps Daria, who is \"in mind but not in action\" seeing his point of view. Where his feeling of being misfitted turns out leading to his death, one can hope Daria uses the ideas in a way that will turn out more constructive. In the film you see how a town (LA) is being polluted by commercial (too bad you have to show the commercial to make the point), you see business men deciding what is the future, et cetera, and you see people being unhappy with these and other situations which is parts of the modern world.<br /><br />I have only seen the film once, so I have not caught all points, but I certainly got a feeling of what this film has to say, and I find it strange that this film can be called meaningless. If you say the points are being too obvious, I can see why, this film probably intended to appeal to the post-hippie radicals \"digging\" the thoughts of anti-establishment. Even though, it has a lot to say, and its message is still needed today, things pretty much evolving in the same direction as it did before the sixties. Zabriskie Point is a really great film, telling a story about quite normal young people (not far out hippies tripping around tip toe on acid, digging everything) seeking what they percept as real, dissatisfied with the conventional. And it is done in a truly beautiful way.\n",
      "--------------------------------------------------------------------------------\n"
     ]
    },
    {
     "name": "stdin",
     "output_type": "stream",
     "text": [
      "Sentiment (p/n/q):  p\n"
     ]
    },
    {
     "name": "stdout",
     "output_type": "stream",
     "text": [
      "\n",
      "================================================================================\n",
      "Review #117:\n",
      "--------------------------------------------------------------------------------\n",
      "Right, where do I start? I cannot even imagine to comprehend this preteen pathetic excuse of a show. Picture this: a boarding school, where kids whose parents are rolling in money simply chuck them in there so as to jet around the world themselves. It could not get any more diabolic than this.<br /><br />If you taught these kids, shall not even upgrade them to the term teenagers, because they hardly even act like sane homosapiens, were self-centered, think again. About 23 minutes choked full of their so-called problems, boy troubles, and the like.<br /><br />The heroine of the show, of course, Mademoiselle Zoey, played by Britney's Polly Pocket Little Miss I'm All That sister, Jamie Lynn Spears, has obviously much to learn about acting. However, I will give her some face, because her superficial, one dimensional character, does not allow much room for depth. She plays Pacific Coast Academy's sun, moon and stars, crusader fighting for the plight of all women, equality of all genders.<br /><br />Perfect in everyway, always with her two loyal sidekicks, Nicole, the daffy bimbo, who obviously has too much of Daddy's cash, and tough chick, Dana, who proves a hard nut to crack. Both left the show in seasons 2 and 1 respectively, not that I blame that. But horror of horrors, in comes Lola, who deems herself the greatest actress since Natalie Wood, with green feathers in her hair and fake tan. She is even more rude than Zoey herself, if that is even possible, and even more dumber than Nicole, and hell, we know that cannot be possible.<br /><br />This show, like all the sorry excuses for television programmes Nickelodeon has been spewing out since 2000s, is a prime victim of stereotyping. Get girl next door and dense to her best friend's feelings for her Zoey, a great albeit inarticulate at times best boy friend, Chase, a cool, arrogant ladies man, Logan, a boy and clothes crazy girl, who is not very bright, Nicole, the one whom everyone thinks is weird just because she is extremely smart, the nerd, Quinn, the over-dramatic, annoying yet super thin, Malibu picture perfect model, Lola, and the tough yet soft inside woman, Dana. Now, where have I heard these characters before? I am sorry, but what is so wrong with having a personality? Just because Quinn is passionate about Science, and actually cares about her future and doing well in the academic aspect, in which the rest should be concerned about as well, she is \"weird\" and a \"nerd\"? Lola at the beginning of the series, proved to be a potential great character with her sassy ways and different outlook in life, Zoey just had to go, get out your pitchforks, burn her at the stake, she's going back to Weird Town and all that jazz. So much for womens rights. Unfortunately, Lola just became nothing more of another OC clone, in all its anorexic glory. Probably so as to not outshine her Mistress.<br /><br />But hey, the 2000 generation of MySpace whores seem to love it with the Chase/Zoey typical fairytale romance, the tension between adamant, \"hot\" Logan and \"kick-ass\" Zoey or Dana, whichever to your liking, and the pretty people. Please, this show exists to remind us that people do not like realism, they prefer a pretentious, shallow and vapid lifestyle. Sorry to break it to you darlings, that will not happen, unless you have a major trust fund and parents to cushion you.\n",
      "--------------------------------------------------------------------------------\n"
     ]
    },
    {
     "name": "stdin",
     "output_type": "stream",
     "text": [
      "Sentiment (p/n/q):  n\n"
     ]
    },
    {
     "name": "stdout",
     "output_type": "stream",
     "text": [
      "\n",
      "================================================================================\n",
      "Review #120:\n",
      "--------------------------------------------------------------------------------\n",
      "The film opens with Bill Coles (Melvyn Douglas) telling a story about how his best friend--make that client--Jim Blandings (Cary Grant) and his family are tightly packed into a small New York apartment, with not enough closet space and way too few bathrooms. When Jim's wife, Muriel (Myrna Loy), wants to renovate the apartment, advertising exec Jim falls in love with (or falls for!) an ad for a house. Once he's purchased the house, bills and frustration pile up incessantly as everything that can go wrong with the building of Jim's 'dream house' goes wrong.<br /><br />One of three collaborations between Grant and Loy, this is a charming little comedy--not very taxing, with no real great message, but a great way to spend an hour or two. The laughs are there right from the start, when the alarm clock goes off and Jim tries to shut it off, only to be thwarted at every turn by Muriel. The timing and delivery of the comedic lines and situations can only be given by a couple of seasoned pros, and that's just what Grant and Loy give us: polished performances, simple chemistry, and a lot of fun. Myrna Loy is in a pretty thankless role (it's evident that Grant's character Jim gets the lion share of the lines and the acting, and Grant, as always, pulls both off with remarkable aplomb), but she gives Muriel a colour, life and bite that only Myrna Loy can give a character. Melvyn Douglas plays wry amusement to perfection as well, never hitting a single wrong note.<br /><br />One of my favourite scenes has definitely got to be when Bill gets himself locked in the 'store room', and Jim goes to 'save' him... only to get everyone trapped inside! Every little problem that pops up for the Blandings renovation project--including petty jealousy and an ad campaign for 'Wham'--seems to bring together everything that *could* go wrong with building a new house but makes it believable and an enjoyable watch. 8/10\n",
      "--------------------------------------------------------------------------------\n"
     ]
    },
    {
     "name": "stdin",
     "output_type": "stream",
     "text": [
      "Sentiment (p/n/q):  p\n"
     ]
    },
    {
     "name": "stdout",
     "output_type": "stream",
     "text": [
      "\n",
      "================================================================================\n",
      "Review #125:\n",
      "--------------------------------------------------------------------------------\n",
      "I could not believe what i saw...(once) brilliant actors appearing in this dire effort that should never of been made. The plots are dreadful and the dialogue appauling (at first i thought it was a spoof), and the acting abysmal. Everything about it is bad, from the cheap sets to the phony backdrops, a bunch of paintings enlarged. Respectable filmakers struggle to get their vision realised, yet this blasphemous, pathetic attempt at a mini-series makes it to our television's, with 3 oscar winners making appearances. I can only guess everyone involved somehow hurt the writer and director and were forced (maybe at gunpoint)to star in this worthless T.V. trash.\n",
      "--------------------------------------------------------------------------------\n"
     ]
    },
    {
     "name": "stdin",
     "output_type": "stream",
     "text": [
      "Sentiment (p/n/q):  n\n"
     ]
    },
    {
     "name": "stdout",
     "output_type": "stream",
     "text": [
      "Saved 50 annotations to annotations\\session_20241205_094804_annotations.json\n",
      "\n",
      "Progress: 100/50 samples annotated\n",
      "All samples have been annotated!\n",
      "\n",
      "Training Data Statistics:\n",
      "Original samples: 100\n",
      "Total samples after augmentation: 500\n",
      "\n",
      "Sentiment Distribution:\n",
      "sentiment\n",
      "positive    305\n",
      "negative    195\n",
      "Name: count, dtype: int64\n",
      "\n",
      "Retraining model on annotated data...\n",
      "\n",
      "Epoch 1/10\n",
      "Average Loss: 0.7058\n",
      "Accuracy: 0.5120\n",
      "\n",
      "Epoch 2/10\n",
      "Average Loss: 0.7023\n",
      "Accuracy: 0.4800\n",
      "\n",
      "Epoch 3/10\n",
      "Average Loss: 0.6987\n",
      "Accuracy: 0.4940\n",
      "\n",
      "Epoch 4/10\n",
      "Average Loss: 0.7026\n",
      "Accuracy: 0.5180\n",
      "\n",
      "Epoch 5/10\n",
      "Average Loss: 0.6997\n",
      "Accuracy: 0.5580\n",
      "\n",
      "Epoch 6/10\n",
      "Average Loss: 0.6982\n",
      "Accuracy: 0.5420\n",
      "\n",
      "Epoch 7/10\n",
      "Average Loss: 0.7015\n",
      "Accuracy: 0.5340\n",
      "\n",
      "Epoch 8/10\n",
      "Average Loss: 0.6966\n",
      "Accuracy: 0.4900\n",
      "\n",
      "Epoch 9/10\n",
      "Average Loss: 0.7003\n",
      "Accuracy: 0.5440\n",
      "\n",
      "Epoch 10/10\n",
      "Average Loss: 0.6983\n",
      "Accuracy: 0.5280\n",
      "\n",
      "Saved model checkpoint to model_checkpoints/model_iteration_2.pt\n",
      "\n",
      "Press Enter to continue to next iteration...\n"
     ]
    },
    {
     "name": "stdin",
     "output_type": "stream",
     "text": [
      " \n"
     ]
    },
    {
     "name": "stdout",
     "output_type": "stream",
     "text": [
      "\n",
      "================================================================================\n",
      "Starting Iteration 3/3\n",
      "================================================================================\n",
      "\n",
      "Starting iteration 3/3\n",
      "Stage 1: Calculating consistency scores...\n",
      "Stage 2: Calculating mutual information...\n",
      "\n",
      "Selection Statistics:\n",
      "Initial pool size: 60\n",
      "Final selected samples: 50\n",
      "Total samples needing annotation: 150\n",
      "\n",
      "Starting annotation session...\n",
      "\n",
      "50 samples need annotation.\n"
     ]
    },
    {
     "name": "stdin",
     "output_type": "stream",
     "text": [
      "Enter 'a' to annotate, 'q' to quit:  a\n"
     ]
    },
    {
     "name": "stdout",
     "output_type": "stream",
     "text": [
      "Starting annotation session for 50 samples\n",
      "Enter 'p' for positive sentiment, 'n' for negative sentiment\n",
      "Enter 'q' to quit and save progress\n",
      "\n",
      "\n",
      "================================================================================\n",
      "Review #1:\n",
      "--------------------------------------------------------------------------------\n",
      "My husband is a huge Robin Williams fan. I like him too, but have generally found that he should \"stick to what he does best\" and focus on comedic roles. My thoughts were confirmed with this movie. I was completely bored throughout the entire film. The story was predictable. I realize it was inspired by a true story. But, my guess is that there could have been some suspense or intrigue even while maintaining truth in the story. None of the characters were well developed. There was a side story about the main character and his partner. This relationship could have been explored further. More important, though, would have been a deeper exploration of the mother of the \"boy\". Her psychological profile would have been interesting to delve into. She obviously has a long history that was not touched upon except in the most superficial way. If my husband wasn't such a huge Williams fan, we would have left 20 minutes into it. Too bad I can't get my $20 or 2 hours back.\n",
      "--------------------------------------------------------------------------------\n"
     ]
    },
    {
     "name": "stdin",
     "output_type": "stream",
     "text": [
      "Sentiment (p/n/q):  n\n"
     ]
    },
    {
     "name": "stdout",
     "output_type": "stream",
     "text": [
      "\n",
      "================================================================================\n",
      "Review #2:\n",
      "--------------------------------------------------------------------------------\n",
      "Oh but this is woeful. One good actor after another turns in lamentable dialogue in half hearted fashion under what must have been incredibly pedestrian direction to consider it acceptable. I like Robert Carlyle and Joanne Whalley is one of my favourite actresses, Tom Courtney can act well when pushed and David Suchet is a professional of the highest integrity but they all wallowed around like fish in a barrel of watery gin. I swear Courtney was inebriated, on painkillers or both. <br /><br />Was there a good performance in the whole thing? Well yes, David Hood as the junior underground engineer whose mate got washed away looked like he was taking the thing seriously and credit to him for that, it can't be easy when \"all around are losing theirs\" so to speak, or maybe his scenes came under the direction of the assistant director ( if there was one) I just don't know what these people were doing in a film that was this poor ( other than paying the bills, obviously) I can't begin to say how disappointed I am in them. YOU SHOULD BE ASHAMED OF YOURSELVES! <br /><br />Any positives other than David Hood the third... yes The aerial shots of London largely submerged were very well done and the effects artists responsible deserved better than to have their fine work punctuated by such a shallow story,if you'll forgive the expression, as those few people that do see them will do so on a far smaller screen than would be to best advantage. <br /><br />What's going on here? why are British film makers trying to imitate such characterless, spectacle driven, tabloid level genres as the disaster movie and then doing it even worse than the Americans. Gritty realism, character integrity, the capture of real emotion in a way that makes you feel it and care... The Family Way, Spring and Port Wine, Get Carter, The long Good Friday, Trainspotting....Don't get me wrong I like a bit of escapist hokum. The real \"Italian Job\" , The Adventures of Tom Jones; but oh that it should come to this, there was more realistic drama in Carry On Camping.\n",
      "--------------------------------------------------------------------------------\n"
     ]
    },
    {
     "name": "stdin",
     "output_type": "stream",
     "text": [
      "Sentiment (p/n/q):  p\n"
     ]
    },
    {
     "name": "stdout",
     "output_type": "stream",
     "text": [
      "\n",
      "================================================================================\n",
      "Review #5:\n",
      "--------------------------------------------------------------------------------\n",
      "Even by the lowered standards of '80s slasher movies, this one stinks. The usual gaggle of oversexed teens heads for a \"forbidden\" part of forest, which burned in the 1940s and apparently left a sole angry survivor. Fast forward (actually, you'll want to fast-forward through much of this mess) to the present day, where a couple of campers are butchered; the teens follow in their wake, while a semi-concerned park ranger (a sleepwalking Jackie Coogan) and his healthier cohort (who spins a lot of time tuning his banjo) succeed partially in steering our attention from yards of run-of-the-mill nature-footage padding. Finally, more killings--but nothing you haven't seen a zillion times before. If you want to see the kids butchered, opt for SLEEPAWAY CAMP or the first FRIDAY THE 13TH over this\n",
      "--------------------------------------------------------------------------------\n"
     ]
    },
    {
     "name": "stdin",
     "output_type": "stream",
     "text": [
      "Sentiment (p/n/q):  n\n"
     ]
    },
    {
     "name": "stdout",
     "output_type": "stream",
     "text": [
      "\n",
      "================================================================================\n",
      "Review #7:\n",
      "--------------------------------------------------------------------------------\n",
      "This picture's following will only grow as time goes by. Better than any of the best picture nominees in 97 and it rewards repeated viewings. I've seen it three times now so I know. Anderson was compared to some of the great American directors (Altman, Scorcese, Tarantino) and he may have those influences but chances are, after a few more films, he'll be considered part of that short list himself.<br /><br />One last note: Julianne Moore's \"Amber Waves\" will resonate in the memory long after other 90's movie characters have faded. THE best performance of the year -in any of the four categories.\n",
      "--------------------------------------------------------------------------------\n"
     ]
    },
    {
     "name": "stdin",
     "output_type": "stream",
     "text": [
      "Sentiment (p/n/q):  p\n"
     ]
    },
    {
     "name": "stdout",
     "output_type": "stream",
     "text": [
      "\n",
      "================================================================================\n",
      "Review #8:\n",
      "--------------------------------------------------------------------------------\n",
      "This is a wonderful film as a film - it gets an 8 out of 10. As a filmed piece of accurate history...one wishes to be more loving, but it is a 5 out of 10. And I think I am actually being very charitable.<br /><br />What was he like - that man of horse and saber who was the youngest \"boy\" general in the Union Army of the American Civil War, and ended dying with all his command in the greatest military victory of the North American Indian tribes? Opinionated, militant, bumptious, bloody-handed, ambitious, clever, too-clever, Indian-foe, Indian-friend(?), and national hero. His death in 1876 was treated as a national tragedy and pushed him into a position of fame equal to Washington, Lincoln, Jackson, and Grant/Lee, and Sherman/Jackson. It is only with a growing awareness of the mistakes made in his career - the overly ambitious hot-spur, that his reputation declined. Yet to this day, George Armstrong Custer remains the best recalled figure in our history's military annals to lose his last battle (I can't really think of a similar one - maybe General Jonathan Mayhew Wainwright, forced to stay with his men on the Bataan Death March - but Wainwright survived the March and the Second World War). <br /><br />Custer has appeared in more films than far better generals, due to the Western adventures and Little Big Horn. Pity that the details of the real career were never handled so lovingly as Raoul Walsh and Errol Flynn handled them in this film. But even in 1941 the legend was still potent. Olivia De Haviland portrayed Libby Custer, who was recently pointed out in another film review on this thread survived George until 1933, so her effective handling of the story was still in place eight years later. Custer was seen as our wayward but brave knight errant, and with the shadow of World War II looming closer we had to keep the myth and bury the truth. John Ford would have fully understood this and approved it.<br /><br />So we get the view that he was a hot-spur, but he was patriotic. Although almost pushed out of West Point by demerits (which was true), Custer was in the class of 1861, and it would have been really stupid to be picky about such a fighter that year. You see, most of the so-called military talent from West Point (from Robert E. Lee down) was southern, and joined the Confederacy. The Union needed every northern \"Point\" man they could find.<br /><br />Custer's Civil War career should be given closer study - he was attached to the staff of General - In - Chief George B. McClellan, and distinguished himself in the Peninsula Campaign and other eastern front warfare. But he was a cavalryman - and he would rise under the watchful eyes of Grant and Sherman's buddy Phil Sheridan in the latter parts of the war. In particular he served with dash and distinction at the battle of Cedar Creek, which ended the threat of the Confederacy in the Shenandoah Valley. It also hit Custer hard on a personal level (his close West Point friend, Stephen Ramseur, joined the Confederacy and rose to a position like Custer - mortally wounded, Custer sat with Ramseur all through the latter's last night alive).<br /><br />Following the war things fell apart. He wanted to make his brevet - Major Generalship permanent (it wasn't, as it was a battlefield promotion). They only had a Lt. Colonelship to give him in the shrunken army along the frontier. He tried to play politics, making the error of supporting President Andrew Johnson on a political trip in 1866, and finding most Northerners hated Johnson as an inept idiot. He supposedly admired the Indians (he certainly was eloquent in writing of them and the West), but he caused a genuine military massacre in 1868 of Indian women and children that ended with a court martial. Later, during the 1870s he would support Indian claims against a ring of politicians (that went up to the Secretary of War, William Belknap) who bought and sold Indian trading posts for profit. It ruined Belknap, and left a black eye on the Grant Administration. It put him into the doghouse with Grant and Sherman (who was Belknap's former commander), and Sheridan barely saved his career. Then he was sent on the final Big Horn Campaign. And immortality arrived.<br /><br />That career is worth a real film, but would it be too critical? Should we hold a man of the 1850s - 1876 to the standards of 2007? Would we like that done to us in a hundred years? Certainly it could happen, but I'm not sure we'd like it.<br /><br />Custer (1941 style) fit Flynn like a glove, with his giving the closest to a \"dance\" performance in any of his major films. His final movie with Olivia De Haviland is underlined with a melancholy due to the fate of the hero's character. In support actors like Sidney Greenstreet, Stanley Ridges, Arthur Kennedy and Anthony Quinn did very nicely as friends, foes, or even treacherous sneaks (Kennedy). As an entertaining piece of myth making it remains high - but as a study of a complex military hero it is not what it should be.\n",
      "--------------------------------------------------------------------------------\n"
     ]
    },
    {
     "name": "stdin",
     "output_type": "stream",
     "text": [
      "Sentiment (p/n/q):  p\n"
     ]
    },
    {
     "name": "stdout",
     "output_type": "stream",
     "text": [
      "\n",
      "================================================================================\n",
      "Review #9:\n",
      "--------------------------------------------------------------------------------\n",
      "This movie is excellent and I would recommend renting it for anyone whose local video store owns it. Or, even better, you could buy it because chances are you're going to watch this over and over. I can remember watching this movie as a kid and it was great back then. But after watching it again yesterday I've found it to be amazing.<br /><br />A good blend of comedy (although not as great as \"Mr Magoo\"-another one of my favorites) and action. This deserves 10/10 and I'm hoping that they will make a sequel soon (fingers crossed). If you do babysitting or have to look after young children for anything then I'd recommend renting this movie as it will keep them entertained for hours :).\n",
      "--------------------------------------------------------------------------------\n"
     ]
    },
    {
     "name": "stdin",
     "output_type": "stream",
     "text": [
      "Sentiment (p/n/q):  p\n"
     ]
    },
    {
     "name": "stdout",
     "output_type": "stream",
     "text": [
      "\n",
      "================================================================================\n",
      "Review #12:\n",
      "--------------------------------------------------------------------------------\n",
      "I saw this movie in the theater when it came out. I grew up in Scottsdale and I went to Arizona State and really enjoyed seeing locations where I spent so much time. I remember at the time thinking that Barbara's venture into more of a rock sound (actually R and B-to my ears) was a successful one. I was never a fan of Kris's singing until his last effort for New West. As a songwriter and an actor, though, he has serious chops, IMHO. I think it is a fine romance. I like it better than the Judy Garland version and never saw Selznick's Janet Gaynor original. <br /><br />I do believe that they made some changes in this long-awaited DVD release. Among other things, I recall the helicopter shot which reveals a packed Sun Devil Stadium being longer and more dramatic. I wish they had done a better job writing music for Kris or God forbid, put some of his original songs in there. <br /><br />Along those lines I have some information from a primary source that says that the music was a problem for Kris and Barbara. While doing interviews for my own new music documentary, Rocking the Boat: A Musical Conversation and Journey, I interviewed Stephen Bruton, a fine singer/songwriter/guitarist with close professional and personal ties to Kris, Bonnie Raitt, and Delbert McClinton, among many others. Stephen was in \"Speedway,\" the John Norman character's band. Kris was having a real hard time turning what was essentially a pop score into something that could pass for rock. Stephen was and is Kris's friend and long time band member. There was tension on the set and at one point the band was barking at Kris in Barbara's presence. She remarked to the effect that the band shouldn't talk to him like that. Kris came right back to the effect that they were his friends and they WERE rock and roll! In the end, Barbara came around and decided to use Kris's band's live performances in the movie and specifically sited Stephen's role in making things work. I gained even greater respect for her as an artist upon hearing this story. Much is made of her as a diva. What she is is a pro. And I am not gay. Not that there is anything wrong with that.\n",
      "--------------------------------------------------------------------------------\n"
     ]
    },
    {
     "name": "stdin",
     "output_type": "stream",
     "text": [
      "Sentiment (p/n/q):  p\n"
     ]
    },
    {
     "name": "stdout",
     "output_type": "stream",
     "text": [
      "\n",
      "================================================================================\n",
      "Review #15:\n",
      "--------------------------------------------------------------------------------\n",
      "This show comes up with interesting locations as fast as the travel channel. It is billed as reality but in actuality it is pure prime time soap opera. It's tries to use exotic locales as a facade to bring people into a phony contest & then proceeds to hook viewers on the contestants soap opera style.<br /><br />It also borrows from an early CBS game show pioneer- Beat The Clock- by inventing situations for its contestants to try & overcome. Then it rewards the winner money. If they can spice it up with a little interaction between the characters, even better. While the game format is in slow motion versus Beat The Clock- the real accomplishment of this series is to escape reality. <br /><br />This show has elements of several types of successful past programs. Reality television, hardly, but if your hooked on the contestants, locale or contest, this is your cup of tea. If your not, this entire series is as I say, drivel dripping with gravy. It is another show hiding behind the reality label which is the trend it started in 2000.<br /><br />It is slick & well produced, so it might last a while yet. After all, so do re-runs of Gilligan's Island, Green Acres, The Beverly Hillbillies & The Brady Bunch. This just doesn't employ professional actors. The intelligence level is about the same.\n",
      "--------------------------------------------------------------------------------\n"
     ]
    },
    {
     "name": "stdin",
     "output_type": "stream",
     "text": [
      "Sentiment (p/n/q):  n\n"
     ]
    },
    {
     "name": "stdout",
     "output_type": "stream",
     "text": [
      "\n",
      "================================================================================\n",
      "Review #18:\n",
      "--------------------------------------------------------------------------------\n",
      "Rating: *1/2 out of ****<br /><br />\"The Net\" is one of those films that won't remain in your mind till the next one hour. Well... Just if you keep thinking how bad it is. It's a mediocre, miserable, hollow, laughable and predictable piece of garbage. One of those adjectives I've just used above is the reason which made me add 1/2 a star to the one I would have given. So is it a case of 'so bad it is good'? No. It's a case of 'so bad it is laughable'. <br /><br />Bullock in a (surprise!) very bad performance plays Angela Bennett, a computer expert who is at home all the time. She works at home, doesn't have any friends and her neighbors don't know her. Suddenly, she sees herself involved in dangerous situations, after her colleague dies and the same thing almost happens to her. Her identity, bank accounts, etc, etc, etc, are all deleted, and she is now Ruth Marx. The conspiracy involves even the government and... Wait! Haven't we seen this before? Yes, thousands of times. \"The Net\" tries to be modern, to be the portrait of the '90s, showing the computer as a villain. Big deal! It is a film about nothing, just a pretext to show ridiculous action scenes. Take the scene of the boat accident. I just laughed when the camera started to get slow...<br /><br />What makes everything even worse here is Sandra Bullock. How awful she is! Has she already made a decent film? \"A Time to Kill\", okay. But she is still a bad actress, repeating her robotic face moves in each of her pictures.<br /><br />The vantages and disadvantages of the computer were already shown in \"2001: A Space Odyssey\", the best, most intelligent and most complex film ever made. It's not needed to compare \"The Net\" with it, is it...?<br /><br />The only reason to see \"The Net\" is to laugh, as I've said, and to see what it tried to be. The results, well, are a shame.<br /><br />DELETE this film from your mind!\n",
      "--------------------------------------------------------------------------------\n"
     ]
    },
    {
     "name": "stdin",
     "output_type": "stream",
     "text": [
      "Sentiment (p/n/q):  n\n"
     ]
    },
    {
     "name": "stdout",
     "output_type": "stream",
     "text": [
      "\n",
      "================================================================================\n",
      "Review #21:\n",
      "--------------------------------------------------------------------------------\n",
      "For someone who remembers Jane in the Daily Mirror strip cartoon, viewing this film is an exercise in nostalgia. In that context it is wonderful, but younger viewers would undoubtedly find the comedy limp and would miss the point that the actors are cartoon characters. The plotline is also a bit limp for today's audience, but reflects the naivety of the 40s and 50s very well. Jane, you must remember, was part of the escapist fantasy of the wartime years, created to boost the morale of the troops. She gave a double meaning to the \"strip\" in strip cartoon.<br /><br />The story has something in common with the tales of Edgar Rice Burroughs and Rider Haggard. The theme would have been a familiar one to readers in that era, a bunch of bumbling Nazis thwarted by a few equally bumbling Englanders, and set in the African jungle of course.<br /><br />For Jane fans, a must see. For the rest of you, a damp squib.<br /><br />\n",
      "--------------------------------------------------------------------------------\n"
     ]
    },
    {
     "name": "stdin",
     "output_type": "stream",
     "text": [
      "Sentiment (p/n/q):  p\n"
     ]
    },
    {
     "name": "stdout",
     "output_type": "stream",
     "text": [
      "\n",
      "================================================================================\n",
      "Review #22:\n",
      "--------------------------------------------------------------------------------\n",
      "Shintarô Katsu gained tons of fame playing the wonderful character, Zatoichi. The Zatoichi films had a weird and unbelievable concept--a blind guy is the greatest swordsman in Japan and spends each movie righting wrongs and exacting retribution on evil doers. He's a heck of a nice guy and the films are exciting and addictive (I've actually seen every movie). It is because of this I saw this final installment of the Hanzo the Razor series, as I assumed it would be very similar....and boy was I wrong! It turns out that the Hanzo films are extremely sexual in nature and they also promote the rape of \"women who deserve it\". You see, Hanzo is a policeman from the Meiji period and he regularly takes evil women into custody and interrogates them by violently raping them with his \"penis of steel\". How he made his member so strong is something you have to see to believe, but it certainly is NOT for the squeamish.<br /><br />Overall, I just can't recommend anyone sees these violent and misogynistic films. However, from looking at the other reviews, I can see that they are still very popular...and that is pretty scary. Despite some decent acting and amazing fight scenes, the films just are like brain pollution--and I'd hate to imagine how the films might have contributed to violence towards women.\n",
      "--------------------------------------------------------------------------------\n"
     ]
    },
    {
     "name": "stdin",
     "output_type": "stream",
     "text": [
      "Sentiment (p/n/q):  p\n"
     ]
    },
    {
     "name": "stdout",
     "output_type": "stream",
     "text": [
      "\n",
      "================================================================================\n",
      "Review #25:\n",
      "--------------------------------------------------------------------------------\n",
      "What can I say...not much to this one at all. Pretty dull and uninteresting.<br /><br />The actors performances are just OK. The only one that shines in any way is Simmons, but he only has, maybe 3 scenes. I understand that by keeping his screen time to a minimum he retains the mysterious psychic aura he has, but I can't help but feel his talent was wasted. No one else rose above mediocre.<br /><br />The story itself seems like it may be intriguing at the beginning, but then just doesn't go anywhere. There wasn't a single scene in the movie that impressed me or made me feel like I had just seen something special. The cinematography was fairly bland...I mean desert in a washed out sort of sepia...not very inspiring.<br /><br />The story of his childhood pal back outta prison seemed only partially thought out and didn't really add anything to the story, other than making an average 'Twilight Zone' script into a full length feature.<br /><br />Drab.\n",
      "--------------------------------------------------------------------------------\n"
     ]
    },
    {
     "name": "stdin",
     "output_type": "stream",
     "text": [
      "Sentiment (p/n/q):  n\n"
     ]
    },
    {
     "name": "stdout",
     "output_type": "stream",
     "text": [
      "\n",
      "================================================================================\n",
      "Review #27:\n",
      "--------------------------------------------------------------------------------\n",
      "This is a film that makes you say 2 things... 1) I can do much better than this( acting,writing and directing) 2) this is so bad I must leave a review and warn others...<br /><br />Looks as if it was shot with my flip video. I have too believe my friend who told me to watch this has a vendetta against me. I have noticed that there are some positive posts for this home video; Must have been left by crew members or people with something to do with this film. One of the worst 3 movies I have ever seen. hopefully the writers and director leave the business. not even talented enough to do commercials!!!!!\n",
      "--------------------------------------------------------------------------------\n"
     ]
    },
    {
     "name": "stdin",
     "output_type": "stream",
     "text": [
      "Sentiment (p/n/q):  n\n"
     ]
    },
    {
     "name": "stdout",
     "output_type": "stream",
     "text": [
      "\n",
      "================================================================================\n",
      "Review #35:\n",
      "--------------------------------------------------------------------------------\n",
      "Some films manage to survive almost on originality alone - \"Wonderland\" is certainly one of those films. The script manages to throw everything into a near-fever pitch, but without making it incoherent. The speed of this thriller is not to chosen to cover up a weak script, but rather to accurately reflect the drug-addled reality.<br /><br />As director, James Cox as a very peculiar way of working his actors. Most of the characters are perpetually on edge, and often because they're rather quite ugly personalities. Val Kilmer has described John Holmes to be a hustler, able to manipulate and control. No offense to Kilmer, but his version of Holmes seems only able to control the drastically weak-minded. Nonetheless, it's a stunning performance. Comparing this to Kilmer's more 'Hollywood' roles like in \"The Saint\" it seems to prove he is far more at home in gritty indie flicks.<br /><br />The actors are the main force holding all together. There are various little performances that stand out - especially the women. Carrie Fisher, Kate Bosworth, and Lisa Kudrow all have limited screen time next to their male counterparts, but they are all fantastic. Aside from Kilmer, Ted Levine and Dylan McDermott give a weird, stunning energy to their roles.<br /><br />I originally put off watching \"Wonderland\" because I assumed it was a film about a porn actor, in the strictest sense. Yes, the story revolves around John Holmes, but it has literally nothing to do with his professional career. Basically, this film is a murder mystery, and as such - it's excellent.<br /><br />RATING: 7.5 out of 10\n",
      "--------------------------------------------------------------------------------\n"
     ]
    },
    {
     "name": "stdin",
     "output_type": "stream",
     "text": [
      "Sentiment (p/n/q):  p\n"
     ]
    },
    {
     "name": "stdout",
     "output_type": "stream",
     "text": [
      "\n",
      "================================================================================\n",
      "Review #36:\n",
      "--------------------------------------------------------------------------------\n",
      "I think the comments regarding the show being cheesy are a bit too exaggerated. When a person comes to watch a TV show, what does he look out for? It is to enjoy that he watches a show, unless he/she is a critic or a person who analyzes story. But most of us are not so and watch the shows to relax and enjoy. FULL HOUSE is an ideal show to watch after having a heavy day in the office/school. It makes you laugh and it is not just humor.<br /><br />Yes, the Tanner family is a perfect family, a perfectly hypothetical family. If any such family existed in real world, it would be a role model for us to follow. But this is a TV show, and not a real family, and there is nothing wrong in depicting a hypothetical family on television. The very fact that the show could run so long shows us that people enjoyed watching it, whatever be the comments later on.<br /><br />Another good point about the show is that any person of any age would not only enjoy watching it, but would take back a message however childish that message be. Those Jesse's talks with Michelle are extremely touching, if one doesn't think of it as childish.<br /><br />Overall I would say after watching every show of Full House, there is a contentment in your heart that is rarely present after many other shows.\n",
      "--------------------------------------------------------------------------------\n"
     ]
    },
    {
     "name": "stdin",
     "output_type": "stream",
     "text": [
      "Sentiment (p/n/q):  n\n"
     ]
    },
    {
     "name": "stdout",
     "output_type": "stream",
     "text": [
      "\n",
      "================================================================================\n",
      "Review #37:\n",
      "--------------------------------------------------------------------------------\n",
      "This movie never made it to theaters in our area, so when it became available on DVD I was one of the first to rent it. For once, I should listened to the critics and passed on this one.<br /><br />Despite the excellent line up of actors the movie was very disappointing. I can see now why it went straight to video. <br /><br />I had thought that with Bloom, Ledger, and Rush it could have some value. All have done wonderful work in the past. <br /><br />The movie was slow moving and never pulled me in. I failed to develop much empathy for the characters and had to fight the urge to fast-forward just to get to the end. <br /><br />I do not recommend this film even if you are thinking of renting it for only for 'eye candy' purposes. It won't satisfy even that.\n",
      "--------------------------------------------------------------------------------\n"
     ]
    },
    {
     "name": "stdin",
     "output_type": "stream",
     "text": [
      "Sentiment (p/n/q):  n\n"
     ]
    },
    {
     "name": "stdout",
     "output_type": "stream",
     "text": [
      "\n",
      "================================================================================\n",
      "Review #39:\n",
      "--------------------------------------------------------------------------------\n",
      "One could wish that an idea as good as the \"invisible man\" would work better and be more carefully handled in the age of fantastic special effects, but this is not the case. The story, the characters and, finally the entire last 20 minutes of the film are about as fresh as a mad-scientist flick from the early 50's. There are some great moments, mostly due to the amazing special effects and to the very idea of an invisible man stalking the streets. But alas, soon we're back in the cramped confinement of the underground lab, which means that the rest of the film is not only predictable, but schematic.<br /><br />There has been a great many remakes of old films or TV shows over the past 10 years, and some of them have their charms. But it's becoming clearer and clearer for each film that the idea of putting ol' classics under the noses of eager madmen like Verhoeven (who does have his moments) is a very bad one. It is obvious that the money is the key issue here: the time and energy put into the script is nowhere near enough, and as a result, \"Hollow Man\" is seriously undermined with clichés, sappy characters, predictability and lack of any depth whatsoever.<br /><br />However, the one thing that actually impressed me, beside the special effects, was the swearing. When making this kind of film, modern producers are very keen on allowing kids to see them. Therefore, the language (and, sometimes, the violence and sex) is very toned down. When the whole world blows up, the good guys go \"Oh darn!\" and \"Oh my God\". \"Hollow Man\" gratefully discards that kind of hypocrisy and the characters are at liberty to say what comes most natural to them. I'm not saying that the most natural response to something gone wrong is to swear - but it makes it more believable if SOMEONE actually swears. I think we can thank Verhoeven for that.\n",
      "--------------------------------------------------------------------------------\n"
     ]
    },
    {
     "name": "stdin",
     "output_type": "stream",
     "text": [
      "Sentiment (p/n/q):  n\n"
     ]
    },
    {
     "name": "stdout",
     "output_type": "stream",
     "text": [
      "\n",
      "================================================================================\n",
      "Review #40:\n",
      "--------------------------------------------------------------------------------\n",
      "The last film of John Huston, the great American director of the Irish descent is an adaptation of the last short story in the early collection \"Dubliners\", of the greatest writer ever came from Ireland. The film is a family affair. The dying director made it based on the script adapted by his son Tony Huston from one of the most poignant, beautiful and profound short story ever written in this language and considered by many THE BEST English language short story. John directed his daughter Anjelica in what could be her finest screen performance. The film is short, only 83 minutes. It's got no action sequences, no plot, it is almost non-eventful, and it may seem slow. The guests, friends and relatives come to the party that takes place in Dublin during the Epiphany week in January 1904, at the house of two elderly sisters who give annual dinner with music and dance. What viewers see for the first hour, is the ensemble conversation piece. The guests talk, listen to the music, discuss the latest opera premiere, and make jokes, sometimes awkward. Gradually, the conversation turns to the long dead friends or relatives the memory of whom never faded away.<br /><br />This is the film you have to stay with, let it pull you in, listen to what and how the guests at the party say, how they communicate. Pay attention to the body languages, to the looks at their faces when they drift away from the light, laugh, and music of the present to the long gone but never in fact left most precious memories where the Dead of the title are not dead but forever young and so alive. If you do, you will be awarded with the final scene of such emotional power and impact that it will always stay with you. It will break your heart to pieces, pull them together and put it back transfixed. The film as well as Joyce's story centers on Gabriel Conroy (Donal McCann as James Joyce's alter ego gave a very moving understated performance) as one of the party guests who arrives with his wife Gretta (Anjelica Huston). Gabriel is still in love, feels close connection to and fascinated with her. It is after the party, he discovers that even after many years of closeness, he does not know all about her past, her pains, her regrets, and the unforgettable emotions and loss she had lived through as a young girl, and he is no part of. For the first time, he looks at her and thinks of her not as the indelible part of his existence but as another human being with her own inner world, her own loneliness and sadness, and for the first time, \"a strange, friendly pity for her entered his soul.\" It is he who narrates the final most powerful and profound lines of the story: \"Snow is general all over Ireland. . . falling faintly through the universe, and faintly falling, like the descent of their last end, upon all the living and the dead.\" <br /><br />If you have not seen the film or read the Joyce's story, please do. They are truly the works of Art that leave the everlasting impression and would change something in you to the best.\n",
      "--------------------------------------------------------------------------------\n"
     ]
    },
    {
     "name": "stdin",
     "output_type": "stream",
     "text": [
      "Sentiment (p/n/q):  p\n"
     ]
    },
    {
     "name": "stdout",
     "output_type": "stream",
     "text": [
      "\n",
      "================================================================================\n",
      "Review #43:\n",
      "--------------------------------------------------------------------------------\n",
      "Lame plot and two-dimensional script made characters look like cardboard cut-outs. Needless to say, this made it difficult to feel empathy for any of the characters, especially the fiancé; He looked and acted more like a cartoon. In summary, I guess you could say it was on par with your typical made for TV drama. It uses just about every cliché in the book. The tortured classical musician who wants to break-out and play salsa. The free-spirited fiancée engaged to a \"bean counter\" personality she doesn't love. I won't list them or else it would be a spoiler because I'd be giving away the whole plot. The dancing was OK but nothing special. I've seen worse. 3 stars for good music. The band was really tight. I saw it on YouTube. Thankfully I didn't pay good money to see it at a theater. I'm still a little shocked at how many great reviews this movie has garnished.\n",
      "--------------------------------------------------------------------------------\n"
     ]
    },
    {
     "name": "stdin",
     "output_type": "stream",
     "text": [
      "Sentiment (p/n/q):  n\n"
     ]
    },
    {
     "name": "stdout",
     "output_type": "stream",
     "text": [
      "\n",
      "================================================================================\n",
      "Review #49:\n",
      "--------------------------------------------------------------------------------\n",
      "The subject is certainly compelling: a group of people take their love of gaming one step further by creating a fake medieval world full of warriors, kings, princes and castles. Wargaming is an interesting phenomena that delves into our collective need to \"escape\" from reality and the sometimes mundaneness of our existence -- something almost everyone can relate to. The characters are the predictable mix of Lord of the Rings nerds and Star Trek enthusiasts. That's enough to get most people to watch. However, very quickly the film turns into an insider's view of wargaming with an almost stereotypical thumbing of the nose to viewers who \"don't get it\". The filmmakers seem to take the subject of wargaming, and this particular one, waaaaay too seriously rather than once in awhile recognizing the humor and fun in making a film about adults drssing up in medieval gear and pounding each other with foam swords. It's pretty hard for anyone who doesn't sit on their computer for 7-10 hours a day playing games or desiging the latest star destroyer to understand what the characters are talking about and why we should even care. However, the filmmakers themselves seem not to care choosing to focus solely on the subject of the game itself rather than building a strong narrative with a clear story that anyone can understand. Moreover, the characters themselves are not that compelling and you quickly become bored of them: a big no-no when you're trying to keep people's attention for 90 minutes.\n",
      "--------------------------------------------------------------------------------\n"
     ]
    },
    {
     "name": "stdin",
     "output_type": "stream",
     "text": [
      "Sentiment (p/n/q):  n\n"
     ]
    },
    {
     "name": "stdout",
     "output_type": "stream",
     "text": [
      "\n",
      "================================================================================\n",
      "Review #50:\n",
      "--------------------------------------------------------------------------------\n",
      "Fred was such a great show.It was simple but somehow very addicting.I can still remember the days when I'd watch this on Kids WB Saturdays ,but then Kids WB did the unforgivable.Kids WB became like that older relative that tries to act \"hip\" and \"funky fresh\".*shudder*They became like that relative who tries to act all cool ,but the attempt is a cheesy disaster.They pulled Coconut Fred's Fruit Salad Inland and all the other good shows to put on some of the most pointless shows I've ever seen In my life(Johnny Test).The only thing that keeps me watching KWB anymore is the occasional bits of the old shows and the anime on 4kids.It was such a huge mistake to pull this show off of the schedule.This brings me back to my first point... BRING IT BACK!!!\n",
      "--------------------------------------------------------------------------------\n"
     ]
    },
    {
     "name": "stdin",
     "output_type": "stream",
     "text": [
      "Sentiment (p/n/q):  p\n"
     ]
    },
    {
     "name": "stdout",
     "output_type": "stream",
     "text": [
      "\n",
      "================================================================================\n",
      "Review #52:\n",
      "--------------------------------------------------------------------------------\n",
      "From a bare description of THE TOLL GATE's major plot elements, one might think it's a revisionist Western of the 60s or 70s. <br /><br />* Our hero is a robber, killer, and arsonist; <br /><br />* the love interest is a single mother whose shiftless husband abandoned her and their child; <br /><br />* twice our criminal hero is \"unofficially\" released by authorities in return for some good deed, and this is presented as a praiseworthy act;<br /><br />* the only acts which are presented as truly evil are the betrayal of one's family and the betrayal of a criminal associate;<br /><br />* the hero tries to go straight, but turns back to a life of crime after he can't get a job;<br /><br />* the hero is on the run from both a sheriff's posse and a criminal gang;<br /><br />* the hero's final redemption is accomplished by strangling a man with his bare hands and tossing his body over a cliff;<br /><br />* and the \"good bad man\" ends the film by sending the young mother and her child back to civilization and riding off alone into the Mexican desert, never (presumably) to pay for his life of crime.<br /><br />Just goes to show you that there is nothing new under the sun.<br /><br />Of course, THE TOLL GATE doesn't display quite the cynicism or moral nihilism of its successors: the hero's redemption is set up when he surrenders to the posse after reading a passage from the Bible. Can't quite imagine Clint Eastwood doing that.<br /><br />THE TOLL GATE an excellent movie by any standard, and Hart was a very fine actor, not given to the broad histrionics often used to convey emotion in the days before sound.<br /><br />9/10.\n",
      "--------------------------------------------------------------------------------\n"
     ]
    },
    {
     "name": "stdin",
     "output_type": "stream",
     "text": [
      "Sentiment (p/n/q):  p\n"
     ]
    },
    {
     "name": "stdout",
     "output_type": "stream",
     "text": [
      "\n",
      "================================================================================\n",
      "Review #53:\n",
      "--------------------------------------------------------------------------------\n",
      "I watched \"Deadly Voyage\" because David Suchet was in it, after enjoying him in the \"Poirot\" series. And Joss Ackland is always worth watching, so I went into the film with an expectation of it being a potentially worthwhile film. Alas, it was not to be.<br /><br />I won't bother critiquing the performances, the pacing, the cinematography or any other structural aspect of the film; others here have already given their opinions on those elements. The only thing I want to address is the film's message, since it proclaims in the intro that it's based upon a true story, and therein hangs the film's supposed importance.<br /><br />\"Deadly Voyage\" primarily focuses upon an impoverished black African man named Kingsley who wants to move to the US, because he believes that he can make money there. Nothing more, nothing less -- his motivation is utterly selfish. (Of course some people will prevaricate by saying that he was doing it for his family, but in fact he decided to have children on the income he could make in Ghana, so he really just created his own problem.) To that end, Kingsley decides to stow-away aboard a Russian freighter bound for New York. In the process of doing this, he faces harsh conditions, racist crew members and other challenges.<br /><br />But this is precisely where the film leaves me unsympathetic. Why should the audience be expected to care about Kingsley? Simply because he has a goal? Goals aren't such a rare commodity that his should be privileged above say, the goal of the ship's captain or the woman he left at home with his newborn child. Kingsley's goal is illegal in the eyes of the US Government. It is also illegal in that it steals from the Russian shipping company. If he makes it to the US, it would involve taking out of a system that he has not put into. And if he gets caught, the shipping company will be fined $45,000. I doubt very much that any of the stowaways care about what their chosen course of action is costing anyone else; they're clearly just out for their own gain. He could've spent the $1,000 he won in the lottery at the beginning of the film, for legal passage to the US, and applied for residency and a work permit. Instead, he takes the illegal (and dangerous) route.<br /><br />So since Kingsley's voyage is illegal, selfish and cannot be ethically justified, why should we care about him or his ordeal? Simply because he faces challenges? Why should his challenges be privileged above the challenge of the Russian shipping company getting to New York without stowaways? Because he's black and the shipping company is white? The reason seems to be because Danny Glover (the film's executive producer) and others involved want us to root for Kingsley, as if he's a hero on some sort of noble voyage. But once you accept that illegal immigration, theft and a fool's mission aren't noble at all, you can't really care about him.<br /><br />Before anyone plays the race card, I assure you that I would've felt the same no matter what ethnicity/nationality the involved parties were. Imagine if a British person decided to stow-away in a train headed for Bhutan, sneak across the border, and collect \"unwanted\" Buddhist antiquities, to bring back to Britain to sell. How much sympathy could the challenges he faced generate? Very little, I'd bet. So why should we feel different for Kingley? Because he's black? Because he's poor by American standards? The filmmakers are banking on us sharing their views that the ends justify the means, and that a shipping company being fined $45,000 is inconsequential compared to the remote possibility of an unskilled laborer earning slightly more in the US than he could've if he had just stayed in his own home country. I didn't buy it for a minute.\n",
      "--------------------------------------------------------------------------------\n"
     ]
    },
    {
     "name": "stdin",
     "output_type": "stream",
     "text": [
      "Sentiment (p/n/q):  n\n"
     ]
    },
    {
     "name": "stdout",
     "output_type": "stream",
     "text": [
      "\n",
      "================================================================================\n",
      "Review #54:\n",
      "--------------------------------------------------------------------------------\n",
      "Every motion picture Bette Davis stars in is worth experiencing. Before Davis co-stars with Leslie Howard in \"Of Human Bondage,\" she'd been in over a score of movies. Legend has it that Davis was 'robbed' of a 1935 Oscar for her performance as a cockney-speaking waitress, unwed mother & manipulative boyfriend-user, Mildred Rogers. The story goes that the AFI consoled Davis by awarding her 1st Oscar for playing Joyce Heath in \"Dangerous.\" I imagine Davis' fans of \"Of Human Bondage\" who agree with the Oscar-robbing legend are going to have at my critique's contrast of the 1934 film for which the AFI didn't award her performance & the 1936 film \"Dangerous,\" performance for which she received her 1st Oscar in 1937.<br /><br />I've tried to view all of Bette Davis' motion pictures, TV interviews, videos, advertisements for WWII & TV performances in popular series. In hindsight, it is easy to recognize why this film, \"Of Human Bondage,\" gave Davis the opportunity to be nominated for her performance. She was only 25yo when the film was completed & just about to reach Hollywood's red carpet. The public began to notice Bette Davis as a star because of her performance in \"Of Human Bondage.\" That is what makes it her legendary performance. But, RKO saw her greatness in \"The Man Who Played God,\" & borrowed her from Warners to play Rogers.<br /><br />I'm going to go with the AFI, in hindsight, some 41 years after their astute decision to award Davis her 1st Best Actress Oscar for \"Dangerous,\" 2 years later. By doing so, the AFI may have been instrumental in bringing out the very best in one of Hollywood's most talented 20th century actors. Because, from \"Of Human Bondage,\" onward, Davis knew for certain that she had to reach deep inside of herself to find the performances that earned her the golden statue. Doubtless, she deserved more than 2 Oscars; perhaps as many as 6.<br /><br />\"Dangerous\" provides an exemplary contrast in Davis' depth of acting characterization. For, it's in \"Dangerous\" (1936) that she becomes the greatest actor of the 20th century. Davis is so good as Joyce Heath, she's dead-center on the red carpet. Whereas in \"Of Human Bondage,\" Davis is right off the edge, still on the sidewalk & ready to take off on the rest of her 60 year acting career.<br /><br />Perhaps by not awarding her that legendary Oscar in 1935, instead of a star being born, an actor was given incentive to reach beyond stardom into her soul for the gifted actor's greatest work.<br /><br />It is well known that her contemporary peer adversary was Joan Crawford; a star whose performances still don't measure up to Davis'. Even Anna Nicole Smith was a 'star'. Howard Stern is a radio host 'star', too. Lots of people on stage & the silver screen are stars. Few became great actors. The key difference between them is something that Bette Davis could sense: the difference between the desire to do great acting or to become star-struck.<br /><br />Try comparing these two movies as I have, viewing one right after the other. Maybe you'll recognize what the AFI & I did. Davis was on the verge of becoming one of the greatest actors of the 20th century at 25yo & achieved her goal by the time she was 27. She spent her next 50 plus years setting the bar so high that it has not been reached . . . yet.<br /><br />Had the AFI sent her the message that she'd arrived in \"Of Human Bondage,\" Davis' life history as a great actor may have been led into star-struck-dom, instead.\n",
      "--------------------------------------------------------------------------------\n"
     ]
    },
    {
     "name": "stdin",
     "output_type": "stream",
     "text": [
      "Sentiment (p/n/q):  p\n"
     ]
    },
    {
     "name": "stdout",
     "output_type": "stream",
     "text": [
      "\n",
      "================================================================================\n",
      "Review #55:\n",
      "--------------------------------------------------------------------------------\n",
      "Wow, what exciting visual effects. I also loved the costumes and artwork, the circus and ethereal feel to the film was sublime. It just required the need for the viewer to worry about the fate of our protagonist. As she is trapped in her imagination, there is never a sense of peril unlike, say, David Lynch's films which haunt every time. This also draws attention to which age group this film is aimed at. Who would this engage?<br /><br />Mirrormask is obviously going to draw comparisons with Labyrinth with the teen- angst/ fantasy theme, but unfortunately it doesn't really come close to delivering the same Henson essence. The ill mother theme is never fully explained and certainly not something that you care about while lapping up the eye candy.<br /><br />Not agonisingly awful a la The Cell, nor as engagingly dreamlike as Labyrinth - a forgettable but good-looking fantasy.\n",
      "--------------------------------------------------------------------------------\n"
     ]
    },
    {
     "name": "stdin",
     "output_type": "stream",
     "text": [
      "Sentiment (p/n/q):  p\n"
     ]
    },
    {
     "name": "stdout",
     "output_type": "stream",
     "text": [
      "\n",
      "================================================================================\n",
      "Review #56:\n",
      "--------------------------------------------------------------------------------\n",
      "I loved this film! Fantastically original and different! A solid, intense, hard-core and suspenseful movie that has just the right touch of (dark?) humor. If you're tired of the typical, overdone, ridiculous Hollywood B.S. movies, how many big explosions and awful and unrealistic shoot em up gun fights that insult your intelligence can we take, then this film is for you. Fantastic characters that are wonderfully original and believable, and solid performances by all actors, not a weak character or performance in the film. Skip Woods' film is a breath of fresh air and I applaud his originality and efforts, his film has the feel of a cross between a Quentin Tarantino and a Cohen brothers film (not a bad mix at all in my opinion). This movie grabs you by the throat and doesn't let go, there's nothing boring or bubble gum about this film. The only disappointment is that nobody seems to know about it, everyone I've recommended it to has thanked me and shared my opinion on it. This film is a welcomed change/alternative from the canned Hollywood mainstream garbage being produced today, even with their big name actors, big explosions, special effects and huge budgets. It's a terrifically wild, intense, violent, graphic, humorous and raw (I mean that in a good way, no phony Hollywood polish here) ride. Thank you to everyone involved in making this film happen, you did an incredible job!\n",
      "--------------------------------------------------------------------------------\n"
     ]
    },
    {
     "name": "stdin",
     "output_type": "stream",
     "text": [
      "Sentiment (p/n/q):  p\n"
     ]
    },
    {
     "name": "stdout",
     "output_type": "stream",
     "text": [
      "\n",
      "================================================================================\n",
      "Review #58:\n",
      "--------------------------------------------------------------------------------\n",
      "This is a gorgeous movie visually. The images of the Mexican desert, the old mansion, the characters in their picturesque costumes...all amount to a real work of art.<br /><br />The story seems a bit loose, but that's because it's not meant to be realistic. It is taken from a book called One Hundred Years of Solitude, and it is supposed to be an evocation of the isolated, otherworldly atmosphere of Latin America \"so far from God, and so close to the United States\". The tremendous debt that Erendira owes to her grandmother is symbolic of Latin America's international debt burden, although there many layers of meaning.<br /><br />If you can appreciate a slow-moving, richly-textured movie, this one is for you.\n",
      "--------------------------------------------------------------------------------\n"
     ]
    },
    {
     "name": "stdin",
     "output_type": "stream",
     "text": [
      "Sentiment (p/n/q):  p\n"
     ]
    },
    {
     "name": "stdout",
     "output_type": "stream",
     "text": [
      "\n",
      "================================================================================\n",
      "Review #60:\n",
      "--------------------------------------------------------------------------------\n",
      "TEP is like a long cool drink of water after crawling across the Sahara to classic film buffs who have been too long deprived of that certain cinematic magic! Not only is it beautifully photographed, but the characters are perfectly portrayed. If you're looking for the film to be a mirror of the book, you will be seriously disappointed. Instead, it is an excellent \"companion\" to the book, and I think that is what Anthony Minghella intended. Ralph Fiennes is probably the most beautiful man in the world; not to mention a brilliant actor. Juliette Binoche is the posterchild for vulnerability and childlike enthusiasm. And, of course, I'll go see any film in which Kristin Scott Thomas is featured. She simply must be THE best actress since the likes of Deborah Kerr. So much was promised with this film, and so much is delivered!\n",
      "--------------------------------------------------------------------------------\n"
     ]
    },
    {
     "name": "stdin",
     "output_type": "stream",
     "text": [
      "Sentiment (p/n/q):  p\n"
     ]
    },
    {
     "name": "stdout",
     "output_type": "stream",
     "text": [
      "\n",
      "================================================================================\n",
      "Review #61:\n",
      "--------------------------------------------------------------------------------\n",
      "I liked this movie. When the guy who was in on a bank heist of $40 million in gold dies, his cell mate is used as \"Bait\" to lead them to the high-tech crazy killer partner (by having a monitoring device implanted in his jaw without his knowledge). It's an action, spy type film with enough comical scenes to keep it light. It reminded me of Enemy Of The State. Well acted and good enough plot.\n",
      "--------------------------------------------------------------------------------\n"
     ]
    },
    {
     "name": "stdin",
     "output_type": "stream",
     "text": [
      "Sentiment (p/n/q):  p\n"
     ]
    },
    {
     "name": "stdout",
     "output_type": "stream",
     "text": [
      "\n",
      "================================================================================\n",
      "Review #62:\n",
      "--------------------------------------------------------------------------------\n",
      "I hated the book. A guy meets a smart dog, gets a virgin girlfriend, and all the while they're being chased by a hit-man and a ape beast thing (both of whom want the dog). Dean Koontz really can't write (I read the book at my sister's recommendation, I should have known better). When I saw this, (mostly out of a morbid curiosity) I actually found myself criticizing it because of the fact that it was untrue to the book, even though this is a book that its impossible to make a good movie of. I figured at least if they're going to make a film adaptation of the worst book I've ever read the filmmakers might as well be accurate. They turned the guy and his virgin love interest into a boy and his mother, for some reason that bothered me most of all (even though I seriously doubt keeping it a guy and his chick wouldn't have made it any better). Quite simply; bad book, bad movie, don't see it.\n",
      "--------------------------------------------------------------------------------\n"
     ]
    },
    {
     "name": "stdin",
     "output_type": "stream",
     "text": [
      "Sentiment (p/n/q):  n\n"
     ]
    },
    {
     "name": "stdout",
     "output_type": "stream",
     "text": [
      "\n",
      "================================================================================\n",
      "Review #64:\n",
      "--------------------------------------------------------------------------------\n",
      "So I rented \"Still Crazy\" instead. When I described Hardcore Logo to the guy at the video store, he said that sounded kind of like Still Crazy. So I rented it. Was I disappointed? Well, yes, as Still Crazy focuses on a classic rock band rather than a punk band, but that's OK. Still Crazy tells the story of the Strange Fruit, a rock band that broke up in the 70s at the peak of their popularity at a large rock festival. Twenty years later, the band members are all struggling to make a living, and are offered the opportunity to play a concert at the twenty year anniversary of this festival. They take up the offer and decide to reform on a permanent basis, touring Europe in the process. Some quite funny hijinks ensue, and all the characters go through subtle changes. Watching this movie, you feel more like a viewer of a carefully edited documentary than a participant. And that's not bad at all.\n",
      "--------------------------------------------------------------------------------\n"
     ]
    },
    {
     "name": "stdin",
     "output_type": "stream",
     "text": [
      "Sentiment (p/n/q):  p\n"
     ]
    },
    {
     "name": "stdout",
     "output_type": "stream",
     "text": [
      "\n",
      "================================================================================\n",
      "Review #65:\n",
      "--------------------------------------------------------------------------------\n",
      "this film needs to be seen. the truest picture of what is going on in the world that I've seen since Darwin's Nightmare. Go see it! and If you're lucky enough to have it open in your city, be sure to see it on the big screen instead of DVD. The writing is sharp and the direction is good enough for the ideas to come through, though hardly perfect. Joan Cusack is amazing, and the rest of the cast is good too. It's inspiring that John Cusack got this movie made, and, I believe, he had to use some of his own money to do it. It's a wild, absurd ride, obviously made without the resources it needed, but still succeeds. Jon Stewart, Steven Colbert, SNL, even Bill Maher haven't shown the guts to say what this film says.\n",
      "--------------------------------------------------------------------------------\n"
     ]
    },
    {
     "name": "stdin",
     "output_type": "stream",
     "text": [
      "Sentiment (p/n/q):  p\n"
     ]
    },
    {
     "name": "stdout",
     "output_type": "stream",
     "text": [
      "\n",
      "================================================================================\n",
      "Review #66:\n",
      "--------------------------------------------------------------------------------\n",
      "Yes, some people have said that this movie was a waste of money, but i'm the kind of die hard dragon/world-ending/holy crap action movie fan.<br /><br />But if you take it from my stand point this movie had some of the best action sences were pretty dang good. But its that kind of movie that everything just fell tougher at the right time, or just about when evil was trumph something fell in to save them at the right time. Though there were some funny lines and gangs throughout the movie which surprised me.<br /><br />The 3d graphics were pretty damn good. I mean for this kind of movie the 3d effects were GREAT!!!! Big battle that was shown in the trailers live up to whatever hype the movie had. The fight between good and evil at the end was, I have to to say could have been longer and slightly better, it was still pretty good.<br /><br />Now on to the parts that i think could have been better. The beginning was pretty good showing the parts that lead up to the big battles. I mean if you don't really want to go see this movie in theaters then at least this is a DVDer...<br /><br />overall i loved the movie,but the plot just fell into place to fast and fit tougher just to well.\n",
      "--------------------------------------------------------------------------------\n"
     ]
    },
    {
     "name": "stdin",
     "output_type": "stream",
     "text": [
      "Sentiment (p/n/q):  p\n"
     ]
    },
    {
     "name": "stdout",
     "output_type": "stream",
     "text": [
      "\n",
      "================================================================================\n",
      "Review #67:\n",
      "--------------------------------------------------------------------------------\n",
      "This movie was so bad, I thought I was going to scream in the middle of it. It was all I could do to sit through it. The beginning of the movie where they are at war was promising. Only it smacked of \"Saving Private Ryan\" to me...or at least an attempt at it. Only we don't care for these people. There was no build up to the characters. The kid that dies I guess was suppose to make us cry...but for some reason it just irritated everyone. Then we have to listen to line after line of sappy dialog that tried desperately to mimic \"Wuthering Heights\", which of course was also quoted in the movie. Go figure. There was nothing original about the movie at all, it was like sitting through the most mundane parts of every war movie ever made, with a little bit of humor thrown in to keep you hoping that it was going to get better. Sadly it doesn't. 3 hours later, I leave the theater feeling cheated. Anthony Menghilla should be shot for trying to duplicate the English Patient, which for it's time was a good movie, but now I wonder....should I rent it and make sure I wasn't just caught up in the HYPE??? Maybe I was, but I definitely wasn't caught up in the hype of this film. I really went to the theater wanting to like this movie. I am a die hard Nicole Kidman fan. Save your money, rent it on DVD and laugh through it, as I did.\n",
      "--------------------------------------------------------------------------------\n"
     ]
    },
    {
     "name": "stdin",
     "output_type": "stream",
     "text": [
      "Sentiment (p/n/q):  n\n"
     ]
    },
    {
     "name": "stdout",
     "output_type": "stream",
     "text": [
      "\n",
      "================================================================================\n",
      "Review #70:\n",
      "--------------------------------------------------------------------------------\n",
      "This is a weak film with a troubled history of cuts and re-naming. It doesn't work at all. Firstly the dramaturgy is all wrong. It's very slow moving at first and then hastily and unsatisfactorily moves to an end. But there is also (and that may have to do with the cuts) an uneasy moving between genres. It starts off with being a thriller to be taken at face value and then degenerates into a farce rather than satire. the ending may be funny but it's also so blunt that I almost felt it insulted my intelligence (what little there is). So the film tries to be everything but does not really succeed on any level at all. You can also see that in the very unsteady character development.You almost get the impression Connery plays three roles rather than one.\n",
      "--------------------------------------------------------------------------------\n"
     ]
    },
    {
     "name": "stdin",
     "output_type": "stream",
     "text": [
      "Sentiment (p/n/q):  n\n"
     ]
    },
    {
     "name": "stdout",
     "output_type": "stream",
     "text": [
      "\n",
      "================================================================================\n",
      "Review #78:\n",
      "--------------------------------------------------------------------------------\n",
      "This film is a twisted nonsense of a movie, set in Japan about a dysfunctional family who end up with a strange violent guest who just sits back and watches the 4 members of the family at their worst. Nothing is sacred in this movie, with sex drugs and violence stretched to such a limit i'm surprised it got past the censors.<br /><br />Overall, i think it will appeal only to those whom we shouldn't be encouraging, rather than any supposed underlying message coming out for the rest of us to consider. A film that panders to the worst element in society and is in anyway utter gash... A disappointment from a man who made the sublime Dead or Alive and Audition movies.\n",
      "--------------------------------------------------------------------------------\n"
     ]
    },
    {
     "name": "stdin",
     "output_type": "stream",
     "text": [
      "Sentiment (p/n/q):  n\n"
     ]
    },
    {
     "name": "stdout",
     "output_type": "stream",
     "text": [
      "\n",
      "================================================================================\n",
      "Review #79:\n",
      "--------------------------------------------------------------------------------\n",
      "I just viewed Eddie Monroe and I was very impressed. The story was easily paced as the plot unraveled to a surprise ending. Heartwarming performances, action, humor, and drama filled the screen. Topnotch acting by some talented Long Islanders. Great script. This is the best film that Fred Carpenter has made to date, he should be very proud of this work. Doug Brown's score is on the mark. Craig Morris is the next Tom Cruise or Brad Pitt. Hard to believe this is a low budget, independent film. Just imagine what Carpenter can do with a Hollywood level budget. Paul Regina's last film and he is greatly missed and loved by all. He was a wonderful, successful, talented actor and a great human being. He will watch over us all and we will never forget his dynamic smile and spirit. Great job to all who participated in this film. A few cherished scene stealing, and humorous cameos to break up the serious content. You will enjoy this film, go see it!\n",
      "--------------------------------------------------------------------------------\n"
     ]
    },
    {
     "name": "stdin",
     "output_type": "stream",
     "text": [
      "Sentiment (p/n/q):  p\n"
     ]
    },
    {
     "name": "stdout",
     "output_type": "stream",
     "text": [
      "\n",
      "================================================================================\n",
      "Review #82:\n",
      "--------------------------------------------------------------------------------\n",
      "There is a lot of crap coming out of Hollywood lately.<br /><br />A friend, sends me movies now and again, as a surprise, it's awesome.<br /><br />I turned it on and couldn't stop watching, it is a drama, but with a odd twist. Imagine if Romeo, as in Shakepeare, had a super power. It is sad and poetic at the same time. Hollywood should take notice of the new Russian cinema, they are telling stories that are not about big explosions and cgi. It takes a simple basic premise and tells a story, without a spectacle. This is a lot like an Asian film with a dark Russian twist. Granted it's not perfect, but nothing ever is. You know what the power is but it is never explained, nor totally realized until the end. It becomes secondary to the emotion of the story. I don't want to see a remake, it is too cool as is, the Hollywood system would, as usual, mess it up. Acting is top notch all around. Directing and Camera work are far above most of the crap that is out there. Kudos to all involved,and I will turn a lot of people on to this independent epic. A+++++<br /><br />If you can find i, watch it.\n",
      "--------------------------------------------------------------------------------\n"
     ]
    },
    {
     "name": "stdin",
     "output_type": "stream",
     "text": [
      "Sentiment (p/n/q):  p\n"
     ]
    },
    {
     "name": "stdout",
     "output_type": "stream",
     "text": [
      "\n",
      "================================================================================\n",
      "Review #88:\n",
      "--------------------------------------------------------------------------------\n",
      "I like silent films, but this was a little too moronic. As much as I wish I could say that it was worth the hour I stood up I can't. I don't think any version of the movie even comes close to the book. And don't try it out on kids, they might freak. And the lady who played Pollyanna, how old was she? 38? I know the labor laws were different back then... BUT COME ON PEOPLE.\n",
      "--------------------------------------------------------------------------------\n"
     ]
    },
    {
     "name": "stdin",
     "output_type": "stream",
     "text": [
      "Sentiment (p/n/q):  n\n"
     ]
    },
    {
     "name": "stdout",
     "output_type": "stream",
     "text": [
      "\n",
      "================================================================================\n",
      "Review #91:\n",
      "--------------------------------------------------------------------------------\n",
      "I see that C. Thomas Howell has appeared in many movies since his heyday in the 80s as an accomplished young actor.<br /><br />I bought this DVD because it was cheap and in part for the internet-related plot and to see how much older C. Thomas Howell is; I do not recall seeing him in any movies since the 1980s.<br /><br />In just a few words: what a very big disappointment. I give some low budget movies a chance, but this one started out lame. Within the first 15 minutes of the movie, this elusive woman is chatting with an Asian guy in a chatroom. They basically stimulate themselves to their own chat, she then insists on meeting the participant in person. She meets him, has sex, ties him up and then murders him in cold blood. The plot then deteriorates further.<br /><br />The plot is thin and flimsy and the acting is very stiff. Do not bother renting it much less purchasing it, even if it is in the $1 DVD bin. I plan to take my copy of the DVD to Goodwill. I am truly amazed that any of the prior reviewers here gave this movie a bad rating.\n",
      "--------------------------------------------------------------------------------\n"
     ]
    },
    {
     "name": "stdin",
     "output_type": "stream",
     "text": [
      "Sentiment (p/n/q):  p\n"
     ]
    },
    {
     "name": "stdout",
     "output_type": "stream",
     "text": [
      "\n",
      "================================================================================\n",
      "Review #97:\n",
      "--------------------------------------------------------------------------------\n",
      "The TV ads for this movie showed the warlocks hitting a truck head-on, then getting smashed to bits and reforming on the other side of the truck. I thought the special effects were good, but the general style of the movie was wimpy. This is the \"Charmed\" TV series with three boys instead of three girls.<br /><br />The big surprise for the three teens who are about to become adults is that there is an unknown fourth member of the clan who is out to get them and consolidate all their power. Besides driving into trucks, these kids can fly up the sides of houses, climb out of windows, push each other into stacks of garbage, and make the veins in their necks pop out. But if they use their powers too often, they become prematurely old and feeble. The father of one of the boys is evidence of this, as he sits in an attic made up to look like a mummy but he is only 45 years old.<br /><br />The three good warlocks are each filthy rich in his own right, completely spoiled, obnoxious, and annoying. In any public school, these kids would be beaten up every day. Their glares and facial ticks would not cut any mustard with the boys from the hood. Unfortunately for all good people, these Charmed boys were sent to Hogwart's Reform School for the warlocks that couldn't get into Harry Potter's class.<br /><br />So what was the movie all about? Three teenagers acting out with each other and their girlfriends. One other teenager who envies their power and money and happens to be a lost relative. After a few scenes where the Charmed boys show off their powers and have sex with their girlfriends; the movie gets around to the unknown warlock teen's revenge plot. The predictable stuff happens. The bad warlock ambushes various friends of the other warlocks, and eventually starts attacking them too. The final confrontation happens, and that is about it.<br /><br />The special effects are not bad, but nothing special. If you like to see fireballs, spiders, and blue veins, then this is a good movie to watch.\n",
      "--------------------------------------------------------------------------------\n"
     ]
    },
    {
     "name": "stdin",
     "output_type": "stream",
     "text": [
      "Sentiment (p/n/q):  p\n"
     ]
    },
    {
     "name": "stdout",
     "output_type": "stream",
     "text": [
      "\n",
      "================================================================================\n",
      "Review #101:\n",
      "--------------------------------------------------------------------------------\n",
      "Lord have mercy! Why was this film made? Why did Seagal and rising star Max Ryan agree to be in it? The Foreigner is so excruciatingly bad in every conceivable way that it boggles the mind.<br /><br />The film has an ultra-cheap look to it. Like a budget of a couple of bucks was far out of their reach. What's worse is that the makers know this and try to make it look slick to compensate. The result is a film that just don't look right. The fight scenes are so dull and edited 'discretely' to hide the fact that Steven Seagal is not in good shape anymore. None of them are engaging or exciting. The plot is nonsense that doesn't interest in the slightest way or have any uniqueness to it. The Eastern-Europe locations (a sly move by the producers to keep the budget down, or non-existent) look unpleasant and should not be serving as the backdrop for an 'action' film (what action?).<br /><br />And what is the deal with the title? As far as I could tell everyone in the movie was foreign. Which ONE does the title refer to?<br /><br />The DVD is in 1.85:1 anamorphic widescreen and in Dolby 5.1 sound. Neither are remarkable enough to warrant even a single rent. The Foreigner is not worth one second of your time. Gotta love that tagline tho! 'If they think they can stop him, they're dead wrong.' Sheesh!\n",
      "--------------------------------------------------------------------------------\n"
     ]
    },
    {
     "name": "stdin",
     "output_type": "stream",
     "text": [
      "Sentiment (p/n/q):  n\n"
     ]
    },
    {
     "name": "stdout",
     "output_type": "stream",
     "text": [
      "\n",
      "================================================================================\n",
      "Review #104:\n",
      "--------------------------------------------------------------------------------\n",
      "As you may have gathered from the title, I wholeheartedly believe this movie to be the worst zombie movie of all time. The acting, camera-work, writing, special effects and anything else remotely related to this movie sucked. People have argued that while this movie is terribly-acted and terribly-produced but it comes through with a witty intelligent script. Wow. The plot has more holes than I or anyone else could possibly count. For starters, why would the government tell everyone to go back to work when it's not safe? I know the government's supposed to be evil but they don't gain anything by killing the entire population of the country. There wouldn't be anyone to govern! Another thing that I was wondering about, even if the government told everyone to go to work, why would people go if the streets were swarming with zombies? Were the zombies going to hide in the bushes and ambush the unsuspecting people in order to aid the government in their plot to kill everyone on the planet? And how about the ending? That stupid Torch guy sacrifices his life in order to get a few close up shots of the zombies. He probably forgot that every camera made in the last 35 years has a zoom feature. And another thing, why does he say Hindenburg before he dies. The Hindenburg was a rare event seen by a very few people. The zombie menace will been seen by everyone in the country, possibly the world. He doesn't think anyone else will get a few snapshots? They also managed to ruin the only semi-interesting scene in the film when the soldier is watching the exotic dancer. Why did the zombie hide behind a curtain for five minutes before attacking the girl? Especially when the zombie could have come through the DOOR. It's probably just something an unintelligent zombie movie fan such as myself wouldn't understand. Every day I pray that God with increase my brain capacity long enough for me to figure out all the subtle nuances in Feeding the Masses.<br /><br />Anywho, I think it's interesting that this is the first movie that gave me the desire to physically hurt the people involved in the production. Hey Trent Haaga, I'm calling you out!\n",
      "--------------------------------------------------------------------------------\n"
     ]
    },
    {
     "name": "stdin",
     "output_type": "stream",
     "text": [
      "Sentiment (p/n/q):  n\n"
     ]
    },
    {
     "name": "stdout",
     "output_type": "stream",
     "text": [
      "\n",
      "================================================================================\n",
      "Review #105:\n",
      "--------------------------------------------------------------------------------\n",
      "Fred Williamson, one of the two or three top blaxploitation stars. Cynthia Rothrock, one of the two or three top American female action stars. Imagine a film with these two together for the first time! Now imagine THE WORST film that could possibly be made with these two together for the first time. Welcome to \"Night Vision\". Of course, this movie was made in 1997 and they were both past their prime, but that doesn't mean they didn't have what it takes anymore - they just needed the help of good writing and direction. They got neither here. Rothrock does get to throw a couple of kicks near the end, but this film is so atrocious that you probably won't be awake to see them. (*)\n",
      "--------------------------------------------------------------------------------\n"
     ]
    },
    {
     "name": "stdin",
     "output_type": "stream",
     "text": [
      "Sentiment (p/n/q):  n\n"
     ]
    },
    {
     "name": "stdout",
     "output_type": "stream",
     "text": [
      "\n",
      "================================================================================\n",
      "Review #106:\n",
      "--------------------------------------------------------------------------------\n",
      "Leatherheads is an apt title, however a leather strap would be more useful to self-flagellate oneself after purchasing a ticket to watch this noxious attempt at entertainment. Clooney's attempt at self deprecating humor comes across with a quiet thud as his demeanor implies that he is anything but. Perhaps with another actor playing the Clooney role, the movie might be marginally palatable. Sorry George, I doubt there will be any Oscar nods this time. George Clooney is definitely a fish out of water when it comes to comedy (unless you are referencing to his politics). Anyway, only the most ardent of Clooney fans will enjoy watching Leatherheads, everyone else will long for the days of the silent picture.\n",
      "--------------------------------------------------------------------------------\n"
     ]
    },
    {
     "name": "stdin",
     "output_type": "stream",
     "text": [
      "Sentiment (p/n/q):  n\n"
     ]
    },
    {
     "name": "stdout",
     "output_type": "stream",
     "text": [
      "\n",
      "================================================================================\n",
      "Review #112:\n",
      "--------------------------------------------------------------------------------\n",
      "If Mr Cranky had rated this, I'd be tempted just to copy his review and paste it here. But as he hasn't, I'll have to give it a go myself.<br /><br />The only thing giving this movie a 1 instead of a 0 is that Malcolm McDowall's acting is excellent. However not even he can save this film from disaster. The director must have been really distracted when he worked on this one because it is just a conglomeration of scenes that were thrown together with very little continuity - reminiscent of bad '70's movies. Even worse, both the actors and director appeared to be making it up as they went along which probably showed how bad the original script was.<br /><br />It's not even worth discussing the story line although it revolves around a futuristic corporation called the Proxate Corporation who put together a crew of dispensable people to carry a dangerous cargo on an old container/slave ship to Nigeria. This ship's computer is a baby kept in a glass jar and wired into one of the crew via USB 12 or something. The company should have been called the Prostate Corporation as the entertainment value of this movie is on a par with an examination of the same name.<br /><br />I honestly can't find one scene that I could say was well made and made any real sense in the context of the movie. I only watched it to the end as I had a touch of the bird flu and this movie reminded me that there were people out there who were actually worse off than me - Malcolm McDowall in particular. I won't hold this against him as he's a great actor and every great actor is entitled to one bad movie in their career and this one is a doosie.<br /><br />So, unless this is the only movie your shop hires out or you're male and you're doctor isn't doing prostate examinations this week and you somehow feel this is a bad thing then give this one a really wide berth unless of course if you're really community minded, buy a copy to support Malcolm and then use it as a drink coaster.\n",
      "--------------------------------------------------------------------------------\n"
     ]
    },
    {
     "name": "stdin",
     "output_type": "stream",
     "text": [
      "Sentiment (p/n/q):  n\n"
     ]
    },
    {
     "name": "stdout",
     "output_type": "stream",
     "text": [
      "\n",
      "================================================================================\n",
      "Review #113:\n",
      "--------------------------------------------------------------------------------\n",
      "A heist film with Jean Reno, Matt Damon and Laurence Fishburne... sounds great on paper? I suspect it must have done when someone green lighted the production of this movie but the end product is terrible!<br /><br />The story is dull, the action boring, and, for a film that is only 88 minutes it seems to just drag on. I could feel my life slipping away and was sure there was something better I should have been doing... any paint to watch dry somewhere perhaps?<br /><br />Sigh. I'm a huge fan of Jean Reno, but what on earth was he thinking when he signed up to this? There are so many other great action movies around... go watch one of those and let this movie be best forgotten.\n",
      "--------------------------------------------------------------------------------\n"
     ]
    },
    {
     "name": "stdin",
     "output_type": "stream",
     "text": [
      "Sentiment (p/n/q):  n\n"
     ]
    },
    {
     "name": "stdout",
     "output_type": "stream",
     "text": [
      "\n",
      "================================================================================\n",
      "Review #114:\n",
      "--------------------------------------------------------------------------------\n",
      "For the first forty minutes or so, Luna is a real pleasure to watch. The characters and their situation are interesting and the photography and locations are beautiful to look at. Then Jill Clayburgh discovers her son Matthew Barry is using heroin and the movie starts to unravel and then becomes outright laughable in its sickness.<br /><br />Clayburgh asks him why and when he started using the drug and she nor the audience ever get a straight answer, which would be a bit helpful. He mentions not caring about anything but that's not right because we see clearly in the amazing early scenes that he has a good deal of interest in his mother's singing, baseball, sex, and apparently cared enough to turn down marijuana. This movie is for people who think junior gets into hard drugs because mom and dad were workaholics who missed his piano recital. I think such a dangerous and emotionally volatile drug like heroin was chosen as some sort of intellectual catalyst for the later scenes of incest. There's a lot of discussion about the mother's love for the son but it's really about Bernardo Bertolucci being pretentious. Luna would have been great as a quaint little family drama.<br /><br />How old was Matthew Barry in this movie? I was more concerned over the bizarre things he had to do as an actor for this film than for anything his character was going through. ** out of ****\n",
      "--------------------------------------------------------------------------------\n"
     ]
    },
    {
     "name": "stdin",
     "output_type": "stream",
     "text": [
      "Sentiment (p/n/q):  n\n"
     ]
    },
    {
     "name": "stdout",
     "output_type": "stream",
     "text": [
      "\n",
      "================================================================================\n",
      "Review #119:\n",
      "--------------------------------------------------------------------------------\n",
      "Before launching into whether this film is worth your time or not, I should inform you I've never seen another adaptation of Carmen, so if you're looking for a review on how it ranks amongst others, this might not be of much use to you.<br /><br />The only time I've come across Carmen was on the car stereo when driving through Spain on a family holiday when I was a teenager. I didn't pay much attention to it because I didn't like opera at the time and I didn't know any better. The story has been around for 150 years or so. Do I feel I've missed out after seeing this movie? Yes, mainly due to the plot, but also because if all the actresses who played Carmen looked like Paz Vega, I would have all the adaptations happily sitting in my DVD collection.<br /><br />Directed by Vicente Aranda (who also co-rewrote the story with Joaquim Jordà), the story is told through the eyes of the original author Prosper Mérimée, a French writer making his way through 19th century Spain. He comes across José (Leonardo Sbaraglia), a delinquent soldier and one of many men who fall in love with Carmen (Paz Vega), a sultry, sexy, bedazzling gypsy woman, who has the mouth of the devil, the temper of a 'toro' and who recklessly leads men to their doom. The moment she meets José, she is attracted by his stand-offish behaviour. But she hooks him, reels him in and lets him go, many-a-time. Until one day, José is wanted for murder. Carmen persuades him to join her band of gypsy smugglers. They seem to be settling, she's fallen in love with him, but she meets the charming Escamillo, the bullfighter. Can José hold his jealousy in check, or does it destroy him? <br /><br />It's a beautiful,seductive story, something that resembles, almost, a Shakespearian or Ovid plot, with the portrayals of immense passion and emotion that can make or break us and transform us to do things out of character. It's poetic, fiery, and above all, slutty. I was left hanging on, I didn't know which way it was going to turn. I always hoped that José might change Carmen's dirty little ways. I won't tell you if he succeeded or not.<br /><br />The above synopsis is what I took away from the film, but I was not impressed by the film itself. It was only after I watched it that I dug a little deeper into the story and I realised how much of a missed opportunity Aranda had made of retelling Mérimée's classic. It was a shallow, slutty period-drama blunder, that saw Paz Vega spend a lot of the time partially or completely naked (not that I'm complaining about this in particular!).<br /><br />First of all, the acting was poor. I was not impressed by Sbaraglia as José. I'm still unsure whether he was a weak actor or José was supposed to be a weak character, I've not read the book. He's supposed to be a man who with burning desire for Carmen, but he spends much of the time looking confused, jealous and a bit dim. Paz Vega was slightly better as Carmen. I was convinced by her hardened, wicked character, although I have seen more convincing performances by her in other films, such as Zapping and Lucia y El Sexo. She seems too pretty to play a gypsy woman (not that I've come across many Andalusian gypsy women), so in a way, the role didn't really fit her. The other actors in the film weren't great either. They seemed to do everything half-heartedly. The story is passionate, emotive  they looked half-arsed, as if they couldn't wait to get out the tight 19th century costumes they were wearing.<br /><br />However, the costumes, I was impressed with - one of the redeeming factors of the film. I like Spanish culture, I liked the soldiers' uniforms, the top-hats and the women's Flamenco dresses. They fitted the time well. That's all I can really say about that. Sorry, back to the criticism.<br /><br />The script, as stated above, was co-rewritten by Vicente Aranda and Joaquim Jordà, and done so badly, so much that it would leave Mérimée turning in his grave. It was boring. It didn't make best use of José's intense passion for Carmen (or maybe that was just the acting). There were cheesy lines piled upon one and other, Satan and devil connotations everywhere, amongst the millions of swear words. I know the Spanish are partial for the odd swear word, but the film was littered with puta, 'whore', in literally every line Maybe it was realistic in 19th century poverty-stricken Seville, but the story itself didn't need it.<br /><br />The editing and camera work was dull and ordinary. There was only one bit I actually liked, and that was when the camera follows a fly close-up in mid-air, which lands on Carmen's face. That was good. But the rest? Boring.<br /><br />To conclude, it is sad to see such a great story go to waste with unconvincing acting and directing. If you're a literature teacher, by all means let your class watch this adaptation to get an idea of the story. However, only the male half of the class will be paying any interest to the film, thanks to Paz Vega. Otherwise, stick to the opera version (even though I hate musicals). I give this film 4, just for the fact I love the storyline! And Paz Vega!\n",
      "--------------------------------------------------------------------------------\n"
     ]
    },
    {
     "name": "stdin",
     "output_type": "stream",
     "text": [
      "Sentiment (p/n/q):  n\n"
     ]
    },
    {
     "name": "stdout",
     "output_type": "stream",
     "text": [
      "\n",
      "================================================================================\n",
      "Review #121:\n",
      "--------------------------------------------------------------------------------\n",
      "If I guess your \"palabra\", will you let me go through?- Asks William Geld, a Tim Robbins that keeps on acting like if they told him a fantastic joke and he is attempting not to laugh.<br /><br />He is trying to get to a forbidden area. The woman stopping him continues blabbering: -Your \"palabra\" is Carrefour.<br /><br />-How did you know?- the lady asks, surprised. He answers, in the name of Wisdom: -I was hearing when you weren't talking. :/<br /><br />Yes, this defines the movie. This precisely. It doesn't matter if Carrefour is \"road conjunction\" in french, or if the Future is coldly bureaucratic and mixes languages. Or if Samantha Morton has nothing, nothing of Spanish (Maria Gonzalez being her name in the film) with her Irish, Scotish whatever tone.<br /><br />It's boring and dull. If you fall in believing there are multiple symbolisms, you will buy the most bizarre, sickening love relationship ever, set in a future that may well be in seven seconds. I can guess this movie's palabra: it will be \"painful\".\n",
      "--------------------------------------------------------------------------------\n"
     ]
    },
    {
     "name": "stdin",
     "output_type": "stream",
     "text": [
      "Sentiment (p/n/q):  n\n"
     ]
    },
    {
     "name": "stdout",
     "output_type": "stream",
     "text": [
      "Saved 50 annotations to annotations\\session_20241205_110349_annotations.json\n",
      "\n",
      "Progress: 150/50 samples annotated\n",
      "All samples have been annotated!\n",
      "\n",
      "Training Data Statistics:\n",
      "Original samples: 150\n",
      "Total samples after augmentation: 750\n",
      "\n",
      "Sentiment Distribution:\n",
      "sentiment\n",
      "positive    425\n",
      "negative    325\n",
      "Name: count, dtype: int64\n",
      "\n",
      "Retraining model on annotated data...\n",
      "\n",
      "Epoch 1/10\n",
      "Average Loss: 0.6965\n",
      "Accuracy: 0.5467\n",
      "\n",
      "Epoch 2/10\n",
      "Average Loss: 0.7069\n",
      "Accuracy: 0.4893\n",
      "\n",
      "Epoch 3/10\n",
      "Average Loss: 0.6980\n",
      "Accuracy: 0.5027\n",
      "\n",
      "Epoch 4/10\n",
      "Average Loss: 0.6963\n",
      "Accuracy: 0.5120\n",
      "\n",
      "Epoch 5/10\n",
      "Average Loss: 0.6979\n",
      "Accuracy: 0.4827\n",
      "\n",
      "Epoch 6/10\n",
      "Average Loss: 0.6988\n",
      "Accuracy: 0.5320\n",
      "\n",
      "Epoch 7/10\n",
      "Average Loss: 0.7022\n",
      "Accuracy: 0.4813\n",
      "\n",
      "Epoch 8/10\n",
      "Average Loss: 0.7004\n",
      "Accuracy: 0.4667\n",
      "\n",
      "Epoch 9/10\n",
      "Average Loss: 0.7017\n",
      "Accuracy: 0.5107\n",
      "\n",
      "Epoch 10/10\n",
      "Average Loss: 0.6974\n",
      "Accuracy: 0.5160\n",
      "\n",
      "Saved model checkpoint to model_checkpoints/model_iteration_3.pt\n"
     ]
    }
   ],
   "source": [
    "# Load dataset\n",
    "df = pd.read_csv('datasets/imdb_dataset_sampled_300.csv')\n",
    "    \n",
    "# Initialize active learning\n",
    "active_learner = TwoStageActiveLearning(\n",
    "    samples_per_iteration=50,\n",
    "    total_iterations=3,\n",
    "    expansion_ratio=0.2\n",
    ")\n",
    "    \n",
    "# Initialize annotation manager\n",
    "annotator = AnnotationManager(\n",
    "    dataset_path='datasets/imdb_dataset_sampled_300.csv',\n",
    "    state_path='active_learning_state.json'\n",
    ")\n",
    "    \n",
    "# Create directory for model checkpoints\n",
    "os.makedirs('model_checkpoints', exist_ok=True)\n",
    "    \n",
    "# Run active learning iterations\n",
    "for iteration in range(active_learner.total_iterations):\n",
    "    print(f\"\\n{'='*80}\")\n",
    "    print(f\"Starting Iteration {iteration + 1}/{active_learner.total_iterations}\")\n",
    "    print(f\"{'='*80}\")\n",
    "        \n",
    "    # 1. Run active learning selection\n",
    "    labeled_indices, stats = active_learner.run_iteration(df)\n",
    "    active_learner.save_state('active_learning_state.json')\n",
    "        \n",
    "    print(f\"\\nSelection Statistics:\")\n",
    "    print(f\"Initial pool size: {stats['initial_pool_size']}\")\n",
    "    print(f\"Final selected samples: {stats['final_selected']}\")\n",
    "    print(f\"Total samples needing annotation: {stats['total_labeled']}\")\n",
    "        \n",
    "    # 2. Collect human annotations\n",
    "    print(\"\\nStarting annotation session...\")\n",
    "        \n",
    "    while True:\n",
    "        # Get current annotation status\n",
    "        current_annotations = annotator.get_all_annotations()\n",
    "        pending_indices = set(int(idx) for idx in labeled_indices) - set(int(idx) for idx in current_annotations.keys())\n",
    "            \n",
    "        if not pending_indices:\n",
    "            print(\"All samples have been annotated!\")\n",
    "            break\n",
    "                \n",
    "        print(f\"\\n{len(pending_indices)} samples need annotation.\")\n",
    "        choice = input(\"Enter 'a' to annotate, 'q' to quit: \").lower()\n",
    "            \n",
    "        if choice == 'q':\n",
    "            print(\"\\nExiting without completing annotations. Please run the program again to continue.\")\n",
    "        elif choice == 'a':\n",
    "            annotator.run_annotation_session_for_indices(list(pending_indices))\n",
    "        else:\n",
    "            print(\"Invalid choice. Please enter 'a' or 'q'.\")\n",
    "        \n",
    "    # 3. Get all annotations and prepare training data\n",
    "    all_annotations = annotator.get_all_annotations()\n",
    "\n",
    "    # Prepare training data with augmentations\n",
    "    training_data = prepare_training_data(\n",
    "        original_df=df,\n",
    "        annotations=all_annotations,\n",
    "        augmentor=active_learner.augmentor\n",
    "    )\n",
    "        \n",
    "    # 4. Train model on annotated data\n",
    "    print(\"\\nRetraining model on annotated data...\")\n",
    "    train_model(\n",
    "        model=active_learner.model,\n",
    "        tokenizer=active_learner.tokenizer,\n",
    "        train_data=training_data,\n",
    "        device=active_learner.device\n",
    "    )\n",
    "        \n",
    "    # 5. Save model checkpoint\n",
    "    checkpoint_path = f'model_checkpoints/model_iteration_{iteration + 1}.pt'\n",
    "    torch.save(active_learner.model.state_dict(), checkpoint_path)\n",
    "    print(f\"\\nSaved model checkpoint to {checkpoint_path}\")\n",
    "        \n",
    "    if iteration < active_learner.total_iterations - 1:\n",
    "        print(\"\\nPress Enter to continue to next iteration...\")\n",
    "        input()"
   ]
  }
 ],
 "metadata": {
  "kernelspec": {
   "display_name": "Python 3 (ipykernel)",
   "language": "python",
   "name": "python3"
  },
  "language_info": {
   "codemirror_mode": {
    "name": "ipython",
    "version": 3
   },
   "file_extension": ".py",
   "mimetype": "text/x-python",
   "name": "python",
   "nbconvert_exporter": "python",
   "pygments_lexer": "ipython3",
   "version": "3.12.7"
  }
 },
 "nbformat": 4,
 "nbformat_minor": 5
}
