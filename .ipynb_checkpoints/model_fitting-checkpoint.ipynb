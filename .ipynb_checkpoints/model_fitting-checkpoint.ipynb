{
 "cells": [
  {
   "cell_type": "code",
   "execution_count": null,
   "id": "1064fbe0",
   "metadata": {},
   "outputs": [],
   "source": [
    "#Load the libraries\n",
    "import numpy as np\n",
    "import pandas as pd\n",
    "import matplotlib.pyplot as plt\n",
    "import nltk\n",
    "from sklearn.feature_extraction.text import CountVectorizer\n",
    "from sklearn.feature_extraction.text import TfidfVectorizer\n",
    "from sklearn.preprocessing import LabelBinarizer\n",
    "from nltk.corpus import stopwords\n",
    "from nltk.stem.porter import PorterStemmer\n",
    "from wordcloud import WordCloud,STOPWORDS\n",
    "from nltk.stem import WordNetLemmatizer\n",
    "from nltk.tokenize import word_tokenize,sent_tokenize\n",
    "from nltk.sentiment.vader import SentimentIntensityAnalyzer\n",
    "from nltk.corpus import wordnet\n",
    "from bs4 import BeautifulSoup\n",
    "import spacy\n",
    "import re,string,unicodedata\n",
    "from nltk.tokenize.toktok import ToktokTokenizer\n",
    "from nltk.stem import LancasterStemmer,WordNetLemmatizer\n",
    "from sklearn.linear_model import LogisticRegression,SGDClassifier\n",
    "from sklearn.naive_bayes import MultinomialNB\n",
    "from sklearn.svm import SVC\n",
    "from textblob import TextBlob\n",
    "from textblob import Word\n",
    "from sklearn.metrics import classification_report,confusion_matrix,accuracy_score\n",
    "import Levenshtein\n",
    "\n",
    "import os\n",
    "print(os.listdir(\"../SentimentAnalysis/input\"))\n",
    "import warnings\n",
    "warnings.filterwarnings('ignore')\n"
   ]
  },
  {
   "cell_type": "code",
   "execution_count": null,
   "id": "b97f3243",
   "metadata": {},
   "outputs": [],
   "source": [
    "norm_train_reviews=pd.read_csv('../SentimentAnalysis/normal_train_reviews.csv')\n",
    "\n",
    "norm_test_reviews=pd.read_csv('../SentimentAnalysis/normal_test_reviews.csv')\n",
    "\n",
    "augmented_train_reviews=pd.read_csv('../SentimentAnalysis/augmented_train_reviews.csv')\n",
    "\n",
    "augmented_train_reviews=pd.read_csv('../SentimentAnalysis/augmented_test_reviews.csv')"
   ]
  },
  {
   "cell_type": "code",
   "execution_count": null,
   "id": "a123bbb0",
   "metadata": {},
   "outputs": [],
   "source": [
    "#Count vectorizer for bag of words\n",
    "cv=CountVectorizer(min_df=0.0,max_df=1,binary=False,ngram_range=(1,3))\n",
    "#transformed train reviews\n",
    "cv_train_reviewsn=cv.fit_transform(norm_train_reviews)\n",
    "cv_train_reviewsa=cv.fit_transform(augmented_train_reviews)\n",
    "\n",
    "#transformed test reviews\n",
    "cv_test_reviewsn=cv.transform(norm_test_reviews)\n",
    "cv_test_reviewsa=cv.transform(augmented_test_reviews)\n",
    "\n",
    "print('BOW_cv_train:',cv_train_reviewsn.shape)\n",
    "print('BOW_cv_test:',cv_test_reviewsn.shape)\n",
    "#vocab=cv.get_feature_names()-toget feature names"
   ]
  },
  {
   "cell_type": "code",
   "execution_count": null,
   "id": "6b2368bb",
   "metadata": {},
   "outputs": [],
   "source": [
    "#Tfidf vectorizer\n",
    "tv=TfidfVectorizer(min_df=0.0,max_df=1,use_idf=True,ngram_range=(1,3))\n",
    "#transformed train reviews\n",
    "tv_train_reviewsn=tv.fit_transform(norm_train_reviews)\n",
    "\n",
    "#transformed test reviews\n",
    "tv_test_reviewsn=tv.transform(norm_test_reviews)\n",
    "\n",
    "print('Tfidf_train:',tv_train_reviewsn.shape)\n",
    "print('Tfidf_test:',tv_test_reviewsn.shape)"
   ]
  },
  {
   "cell_type": "code",
   "execution_count": null,
   "id": "8ecd4f9d",
   "metadata": {},
   "outputs": [],
   "source": [
    "tv1=TfidfVectorizer(min_df=0.0,max_df=1,use_idf=True,ngram_range=(1,3))\n",
    "tv_train_reviewsa=tv1.fit_transform(augmented_train_reviews)\n",
    "tv_test_reviewsa=tv1.transform(augmented_test_reviews)\n"
   ]
  },
  {
   "cell_type": "code",
   "execution_count": null,
   "id": "ac0d6963",
   "metadata": {},
   "outputs": [],
   "source": [
    "#labeling the sentient data\n",
    "lb=LabelBinarizer()\n",
    "#transformed sentiment data\n",
    "sentiment_data=lb.fit_transform(imdb_data['sentiment'])\n",
    "print(sentiment_data.shape)"
   ]
  },
  {
   "cell_type": "code",
   "execution_count": null,
   "id": "ef4ddce4",
   "metadata": {},
   "outputs": [],
   "source": [
    "#Spliting the sentiment data\n",
    "train_sentiments=sentiment_data[:40000]\n",
    "test_sentiments=sentiment_data[40000:]\n",
    "print(train_sentiments)\n",
    "print(test_sentiments)"
   ]
  },
  {
   "cell_type": "code",
   "execution_count": null,
   "id": "ea3f9e5b",
   "metadata": {},
   "outputs": [],
   "source": [
    "#training the model\n",
    "lr=LogisticRegression(penalty='l2',max_iter=500,C=1,random_state=42)\n",
    "#Fitting the model for Bag of words\n",
    "lr_bown=lr.fit(cv_train_reviewsn,train_sentiments)\n",
    "\n",
    "print(lr_bown)\n",
    "#Fitting the model for tfidf features\n",
    "lr_tfidfn=lr.fit(tv_train_reviewsn,train_sentiments)\n",
    "\n",
    "print(lr_tfidfn)\n"
   ]
  },
  {
   "cell_type": "code",
   "execution_count": null,
   "id": "18f4434e",
   "metadata": {},
   "outputs": [],
   "source": [
    "lr1=LogisticRegression(penalty='l2',max_iter=500,C=1,random_state=42)\n",
    "\n",
    "lr_bowa=lr1.fit(cv_train_reviewsa,train_sentiments)\n",
    "print(lr_bowa)\n",
    "lr_tfidfa=lr1.fit(tv_train_reviewsa,train_sentiments)\n",
    "print(lr_tfidfa)"
   ]
  },
  {
   "cell_type": "code",
   "execution_count": null,
   "id": "67a63ce6",
   "metadata": {},
   "outputs": [],
   "source": [
    "#Predicting the model for bag of words\n",
    "lr_bow_predictn=lr.predict(cv_test_reviewsn)\n",
    "lr_bow_predicta=lr1.predict(cv_test_reviewsa)\n",
    "\n",
    "print(lr_bow_predictn)\n",
    "print(lr_bow_predicta)\n",
    "##Predicting the model for tfidf features\n",
    "lr_tfidf_predictn=lr.predict(tv_test_reviewsn)\n",
    "lr_tfidf_predicta=lr1.predict(tv_test_reviewsa)\n",
    "\n",
    "print(lr_tfidf_predictn)\n",
    "print(lr_tfidf_predicta)"
   ]
  },
  {
   "cell_type": "code",
   "execution_count": null,
   "id": "7c2b5451",
   "metadata": {},
   "outputs": [],
   "source": [
    "#Classification report for bag of words \n",
    "lr_bow_reportn=classification_report(test_sentiments,lr_bow_predictn,target_names=['Positive','Negative'])\n",
    "lr_bow_reporta=classification_report(test_sentiments,lr_bow_predicta,target_names=['Positive','Negative'])\n",
    "\n",
    "print(\"Normal\")\n",
    "print(lr_bow_reportn)\n",
    "print(\"Augemented\")\n",
    "print(lr_bow_reporta)\n",
    "\n",
    "#Classification report for tfidf features\n",
    "lr_tfidf_reportn=classification_report(test_sentiments,lr_tfidf_predictn,target_names=['Positive','Negative'])\n",
    "lr_tfidf_reporta=classification_report(test_sentiments,lr_tfidf_predicta,target_names=['Positive','Negative'])\n",
    "\n",
    "print(\"Normal\")\n",
    "print(lr_tfidf_reportn)\n",
    "print(\"Augemented\")\n",
    "print(lr_tfidf_reporta)"
   ]
  },
  {
   "cell_type": "code",
   "execution_count": null,
   "id": "8eea97b6",
   "metadata": {},
   "outputs": [],
   "source": [
    "#training the linear svm\n",
    "svm=SGDClassifier(loss='hinge',max_iter=500,random_state=42)\n",
    "\n",
    "#fitting the svm for bag of words\n",
    "svm_bown=svm.fit(cv_train_reviewsn,train_sentiments)\n",
    "\n",
    "print(svm_bown)\n",
    "\n",
    "#fitting the svm for tfidf features\n",
    "svm_tfidfn=svm.fit(tv_train_reviewsn,train_sentiments)\n",
    "\n",
    "print(svm_tfidfn)\n"
   ]
  },
  {
   "cell_type": "code",
   "execution_count": null,
   "id": "0e25150a",
   "metadata": {},
   "outputs": [],
   "source": [
    "svm1=SGDClassifier(loss='hinge',max_iter=500,random_state=42)\n",
    "svm_bowa=svm1.fit(cv_train_reviewsa,train_sentiments)\n",
    "print(svm_bowa)\n",
    "svm_tfidfa=svm1.fit(tv_train_reviewsa,train_sentiments)\n",
    "print(svm_tfidfa)"
   ]
  },
  {
   "cell_type": "code",
   "execution_count": null,
   "id": "31baf2d0",
   "metadata": {},
   "outputs": [],
   "source": [
    "#Predicting the model for bag of words\n",
    "svm_bow_predictn=svm.predict(cv_test_reviewsn)\n",
    "svm_bow_predicta=svm1.predict(cv_test_reviewsa)\n",
    "\n",
    "print(svm_bow_predictn)\n",
    "print(svm_bow_predicta)\n",
    "\n",
    "#Predicting the model for tfidf features\n",
    "svm_tfidf_predictn=svm.predict(tv_test_reviewsn)\n",
    "svm_tfidf_predicta=svm1.predict(tv_test_reviewsa)\n",
    "\n",
    "print(svm_tfidf_predictn)\n",
    "print(svm_tfidf_predicta)"
   ]
  },
  {
   "cell_type": "code",
   "execution_count": null,
   "id": "9490a6a3",
   "metadata": {},
   "outputs": [],
   "source": [
    "#Accuracy score for bag of words\n",
    "svm_bow_scoren=accuracy_score(test_sentiments,svm_bow_predictn)\n",
    "print(\"svm_bow_score :\",svm_bow_scoren)\n",
    "svm_bow_scorea=accuracy_score(test_sentiments,svm_bow_predicta)\n",
    "print(\"svm_bow_score :\",svm_bow_scorea)\n",
    "#Accuracy score for tfidf features\n",
    "svm_tfidf_scoren=accuracy_score(test_sentiments,svm_tfidf_predictn)\n",
    "print(\"svm_tfidf_score :\",svm_tfidf_scoren)\n",
    "svm_tfidf_scorea=accuracy_score(test_sentiments,svm_tfidf_predicta)\n",
    "print(\"svm_tfidf_score :\",svm_tfidf_scorea)"
   ]
  },
  {
   "cell_type": "code",
   "execution_count": null,
   "id": "c98ea4ed",
   "metadata": {},
   "outputs": [],
   "source": [
    "#Classification report for bag of words \n",
    "svm_bow_reportn=classification_report(test_sentiments,svm_bow_predictn,target_names=['Positive','Negative'])\n",
    "print(svm_bow_reportn)\n",
    "svm_bow_reporta=classification_report(test_sentiments,svm_bow_predicta,target_names=['Positive','Negative'])\n",
    "print(svm_bow_reporta)\n",
    "#Classification report for tfidf features\n",
    "svm_tfidf_reportn=classification_report(test_sentiments,svm_tfidf_predictn,target_names=['Positive','Negative'])\n",
    "print(svm_tfidf_reportn)\n",
    "svm_tfidf_reporta=classification_report(test_sentiments,svm_tfidf_predicta,target_names=['Positive','Negative'])\n",
    "print(svm_tfidf_reporta)"
   ]
  },
  {
   "cell_type": "code",
   "execution_count": null,
   "id": "4b86c421",
   "metadata": {},
   "outputs": [],
   "source": []
  }
 ],
 "metadata": {
  "kernelspec": {
   "display_name": "Python 3 (ipykernel)",
   "language": "python",
   "name": "python3"
  },
  "language_info": {
   "codemirror_mode": {
    "name": "ipython",
    "version": 3
   },
   "file_extension": ".py",
   "mimetype": "text/x-python",
   "name": "python",
   "nbconvert_exporter": "python",
   "pygments_lexer": "ipython3",
   "version": "3.9.12"
  }
 },
 "nbformat": 4,
 "nbformat_minor": 5
}
