{
 "cells": [
  {
   "cell_type": "code",
   "execution_count": 17,
   "id": "2a2f6706-3eb7-4783-a555-3aec627b345a",
   "metadata": {},
   "outputs": [
    {
     "name": "stdout",
     "output_type": "stream",
     "text": [
      "Successfully loaded 40000 records from datasets\\imdb_dataset_train.csv.\n",
      "Sampled 300 records from the dataset.\n",
      "Sampled data saved to ../datasets\\imdb_dataset_sampled_300.csv.\n"
     ]
    }
   ],
   "source": [
    "import pandas as pd\n",
    "import os\n",
    "\n",
    "# Load the CSV file into a pandas DataFrame\n",
    "try:\n",
    "    df = pd.read_csv(\"../datasets/imdb_dataset_train.csv\")\n",
    "    print(f\"Successfully loaded {len(df)} records from {csv_file_path}.\")\n",
    "except Exception as e:\n",
    "    raise Exception(f\"An error occurred while reading the CSV file: {e}\")\n",
    "\n",
    "# Check if the DataFrame has at least 300 samples\n",
    "if len(df) < 300:\n",
    "    raise ValueError(\"The dataset contains fewer than 300 samples.\")\n",
    "\n",
    "# Randomly sample n rows without replacement\n",
    "n = 300\n",
    "sampled_df = df.sample(n=n, random_state=42)  # random_state for reproducibility\n",
    "\n",
    "print(f\"Sampled {n} records from the dataset.\")\n",
    "\n",
    "# Optional: Save the sampled data to a new CSV file\n",
    "output_file_path = os.path.join('../datasets', 'imdb_dataset_sampled_' + str(n) + '.csv')\n",
    "try:\n",
    "    sampled_df.to_csv(output_file_path, index=False)\n",
    "    print(f\"Sampled data saved to {output_file_path}.\")\n",
    "except Exception as e:\n",
    "    raise Exception(f\"An error occurred while saving the sampled data: {e}\")"
   ]
  },
  {
   "cell_type": "code",
   "execution_count": null,
   "id": "abba2cdf-6214-4cb5-96e3-1e0fdba6d979",
   "metadata": {},
   "outputs": [],
   "source": []
  }
 ],
 "metadata": {
  "kernelspec": {
   "display_name": "Python 3 (ipykernel)",
   "language": "python",
   "name": "python3"
  },
  "language_info": {
   "codemirror_mode": {
    "name": "ipython",
    "version": 3
   },
   "file_extension": ".py",
   "mimetype": "text/x-python",
   "name": "python",
   "nbconvert_exporter": "python",
   "pygments_lexer": "ipython3",
   "version": "3.12.7"
  }
 },
 "nbformat": 4,
 "nbformat_minor": 5
}
